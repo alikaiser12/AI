{
  "nbformat": 4,
  "nbformat_minor": 0,
  "metadata": {
    "colab": {
      "provenance": [],
      "authorship_tag": "ABX9TyNUhAevOKnvxn3gQeF3SinI",
      "include_colab_link": true
    },
    "kernelspec": {
      "name": "python3",
      "display_name": "Python 3"
    },
    "language_info": {
      "name": "python"
    }
  },
  "cells": [
    {
      "cell_type": "markdown",
      "metadata": {
        "id": "view-in-github",
        "colab_type": "text"
      },
      "source": [
        "<a href=\"https://colab.research.google.com/github/alikaiser12/AI/blob/main/LangChain_Custom_Tool_Integration_Demo.ipynb\" target=\"_parent\"><img src=\"https://colab.research.google.com/assets/colab-badge.svg\" alt=\"Open In Colab\"/></a>"
      ]
    },
    {
      "cell_type": "code",
      "source": [
        "# ===============================================\n",
        "# Single-Cell Colab Demo (Fixed for AsyncCallbackManager error):\n",
        "# Uses modern package structure: langchain-core, langchain-community, and langchain\n",
        "# and imports FakeListLLM from langchain_core.language_models.fake.\n",
        "# ===============================================\n",
        "\n",
        "# 1) Install compatible versions\n",
        "# These versions avoid the AsyncCallbackManager import problem.\n",
        "!pip install -q -U \"pydantic>=2.7,<3\" \\\n",
        "                  \"langchain>=0.3.0,<0.4\" \\\n",
        "                  \"langchain-core>=0.3.0,<0.4\" \\\n",
        "                  \"langchain-community>=0.3.0,<0.4\"\n",
        "\n",
        "# 2) Imports (note the langchain_core paths)\n",
        "from langchain_core.tools import StructuredTool\n",
        "from langchain_core.language_models.fake import FakeListLLM\n",
        "from langchain.agents import initialize_agent, AgentType\n",
        "\n",
        "# 3) Mock API function\n",
        "def query_order_status(order_id: str) -> str:\n",
        "    \"\"\"Return a fake order status for the given order_id.\"\"\"\n",
        "    return \"Shipped\" if order_id == \"123\" else \"In Process\"\n",
        "\n",
        "# 4) Create the custom tool via StructuredTool.from_function\n",
        "# (No args_schema needed — introspection handles the signature)\n",
        "order_checker_tool = StructuredTool.from_function(\n",
        "    func=query_order_status,\n",
        "    name=\"OrderCheckerTool\",\n",
        "    description=(\n",
        "        \"Check the status of an order by ID. \"\n",
        "        \"Use this tool when the user asks for an order status and provides the order_id.\"\n",
        "    ),\n",
        ")\n",
        "\n",
        "# 5) Simulated LLM responses\n",
        "# Each response instructs the agent to use the tool, then finalizes the answer.\n",
        "fake_responses = [\n",
        "    \"I'll check the first order via OrderCheckerTool.\\nAction: OrderCheckerTool\\nAction Input: 123\",\n",
        "    \"Got the first result. Now I'll check the second order.\\nAction: OrderCheckerTool\\nAction Input: 999\",\n",
        "    \"Final Answer: Order 123 is Shipped and Order 999 is In Process.\"\n",
        "]\n",
        "llm = FakeListLLM(responses=fake_responses)\n",
        "\n",
        "# 6) Initialize agent and run test query\n",
        "agent = initialize_agent(\n",
        "    tools=[order_checker_tool],\n",
        "    llm=llm,\n",
        "    agent=AgentType.ZERO_SHOT_REACT_DESCRIPTION,\n",
        "    verbose=True  # Prints thought, tool calls, observations\n",
        ")\n",
        "\n",
        "query = \"I have two order IDs: '123' and '999'. What is the status of each of these orders?\"\n",
        "print(\"User Query:\", query)\n",
        "result = agent.run(query)\n",
        "\n",
        "# 7) Final, client-facing confirmation\n",
        "print(\"\\n\" + \"=\"*60)\n",
        "print(\"Final Answer:\")\n",
        "print(result)\n",
        "print(\"=\"*60)\n"
      ],
      "metadata": {
        "colab": {
          "base_uri": "https://localhost:8080/",
          "height": 498
        },
        "id": "cgYFou4bTel3",
        "outputId": "ff28736f-c3ac-4dfa-92d6-18edbf23ead3"
      },
      "execution_count": 12,
      "outputs": [
        {
          "output_type": "stream",
          "name": "stdout",
          "text": [
            "\u001b[33m  WARNING: Retrying (Retry(total=4, connect=None, read=None, redirect=None, status=None)) after connection broken by 'ProtocolError('Connection aborted.', RemoteDisconnected('Remote end closed connection without response'))': /packages/1e/db/4254e3eabe8020b458f1a747140d32277ec7a271daf1d235b70dc0b4e6e3/requests-2.32.5-py3-none-any.whl.metadata\u001b[0m\u001b[33m\n",
            "\u001b[2K   \u001b[90m━━━━━━━━━━━━━━━━━━━━━━━━━━━━━━━━━━━━━━━━\u001b[0m \u001b[32m449.5/449.5 kB\u001b[0m \u001b[31m29.0 MB/s\u001b[0m eta \u001b[36m0:00:00\u001b[0m\n",
            "\u001b[2K   \u001b[90m━━━━━━━━━━━━━━━━━━━━━━━━━━━━━━━━━━━━━━━━\u001b[0m \u001b[32m2.5/2.5 MB\u001b[0m \u001b[31m95.8 MB/s\u001b[0m eta \u001b[36m0:00:00\u001b[0m\n",
            "\u001b[2K   \u001b[90m━━━━━━━━━━━━━━━━━━━━━━━━━━━━━━━━━━━━━━━━\u001b[0m \u001b[32m64.7/64.7 kB\u001b[0m \u001b[31m5.3 MB/s\u001b[0m eta \u001b[36m0:00:00\u001b[0m\n",
            "\u001b[?25h\u001b[31mERROR: pip's dependency resolver does not currently take into account all the packages that are installed. This behaviour is the source of the following dependency conflicts.\n",
            "google-colab 1.0.0 requires requests==2.32.4, but you have requests 2.32.5 which is incompatible.\n",
            "thinc 8.3.6 requires numpy<3.0.0,>=2.0.0, but you have numpy 1.26.4 which is incompatible.\u001b[0m\u001b[31m\n",
            "\u001b[0m"
          ]
        },
        {
          "output_type": "error",
          "ename": "TypeError",
          "evalue": "args_schema must be a subclass of pydantic BaseModel. Got: <class 'pydantic.v1.main.OrderCheckerToolSchema'>.",
          "traceback": [
            "\u001b[0;31m---------------------------------------------------------------------------\u001b[0m",
            "\u001b[0;31mTypeError\u001b[0m                                 Traceback (most recent call last)",
            "\u001b[0;32m/tmp/ipython-input-3103687589.py\u001b[0m in \u001b[0;36m<cell line: 0>\u001b[0;34m()\u001b[0m\n\u001b[1;32m     21\u001b[0m \u001b[0;31m# 4) Create the custom tool via StructuredTool.from_function\u001b[0m\u001b[0;34m\u001b[0m\u001b[0;34m\u001b[0m\u001b[0m\n\u001b[1;32m     22\u001b[0m \u001b[0;31m# (No args_schema needed — introspection handles the signature)\u001b[0m\u001b[0;34m\u001b[0m\u001b[0;34m\u001b[0m\u001b[0m\n\u001b[0;32m---> 23\u001b[0;31m order_checker_tool = StructuredTool.from_function(\n\u001b[0m\u001b[1;32m     24\u001b[0m     \u001b[0mfunc\u001b[0m\u001b[0;34m=\u001b[0m\u001b[0mquery_order_status\u001b[0m\u001b[0;34m,\u001b[0m\u001b[0;34m\u001b[0m\u001b[0;34m\u001b[0m\u001b[0m\n\u001b[1;32m     25\u001b[0m     \u001b[0mname\u001b[0m\u001b[0;34m=\u001b[0m\u001b[0;34m\"OrderCheckerTool\"\u001b[0m\u001b[0;34m,\u001b[0m\u001b[0;34m\u001b[0m\u001b[0;34m\u001b[0m\u001b[0m\n",
            "\u001b[0;32m/usr/local/lib/python3.12/dist-packages/langchain_core/tools/structured.py\u001b[0m in \u001b[0;36mfrom_function\u001b[0;34m(cls, func, coroutine, name, description, return_direct, args_schema, infer_schema, response_format, parse_docstring, error_on_invalid_docstring, **kwargs)\u001b[0m\n\u001b[1;32m    184\u001b[0m \u001b[0;34m\u001b[0m\u001b[0m\n\u001b[1;32m    185\u001b[0m                 \u001b[0;32mdef\u001b[0m \u001b[0madd\u001b[0m\u001b[0;34m(\u001b[0m\u001b[0ma\u001b[0m\u001b[0;34m:\u001b[0m \u001b[0mint\u001b[0m\u001b[0;34m,\u001b[0m \u001b[0mb\u001b[0m\u001b[0;34m:\u001b[0m \u001b[0mint\u001b[0m\u001b[0;34m)\u001b[0m \u001b[0;34m->\u001b[0m \u001b[0mint\u001b[0m\u001b[0;34m:\u001b[0m\u001b[0;34m\u001b[0m\u001b[0;34m\u001b[0m\u001b[0m\n\u001b[0;32m--> 186\u001b[0;31m                     \u001b[0;31m\\\u001b[0m\u001b[0;31m\"\u001b[0m\u001b[0;31m\\\u001b[0m\u001b[0;31m\"\u001b[0m\u001b[0;31m\\\u001b[0m\u001b[0;31m\"\u001b[0m\u001b[0mAdd\u001b[0m \u001b[0mtwo\u001b[0m \u001b[0mnumbers\u001b[0m\u001b[0;31m\\\u001b[0m\u001b[0;31m\"\u001b[0m\u001b[0;31m\\\u001b[0m\u001b[0;31m\"\u001b[0m\u001b[0;31m\\\u001b[0m\u001b[0;31m\"\u001b[0m\u001b[0;34m\u001b[0m\u001b[0;34m\u001b[0m\u001b[0m\n\u001b[0m\u001b[1;32m    187\u001b[0m                     \u001b[0;32mreturn\u001b[0m \u001b[0ma\u001b[0m \u001b[0;34m+\u001b[0m \u001b[0mb\u001b[0m\u001b[0;34m\u001b[0m\u001b[0;34m\u001b[0m\u001b[0m\n\u001b[1;32m    188\u001b[0m                 \u001b[0mtool\u001b[0m \u001b[0;34m=\u001b[0m \u001b[0mStructuredTool\u001b[0m\u001b[0;34m.\u001b[0m\u001b[0mfrom_function\u001b[0m\u001b[0;34m(\u001b[0m\u001b[0madd\u001b[0m\u001b[0;34m)\u001b[0m\u001b[0;34m\u001b[0m\u001b[0;34m\u001b[0m\u001b[0m\n",
            "\u001b[0;32m/usr/local/lib/python3.12/dist-packages/langchain_core/tools/base.py\u001b[0m in \u001b[0;36m__init__\u001b[0;34m(self, **kwargs)\u001b[0m\n\u001b[1;32m    340\u001b[0m     \u001b[0;32mif\u001b[0m \u001b[0mfilter_args\u001b[0m\u001b[0;34m:\u001b[0m\u001b[0;34m\u001b[0m\u001b[0;34m\u001b[0m\u001b[0m\n\u001b[1;32m    341\u001b[0m         \u001b[0mfilter_args_\u001b[0m \u001b[0;34m=\u001b[0m \u001b[0mfilter_args\u001b[0m\u001b[0;34m\u001b[0m\u001b[0;34m\u001b[0m\u001b[0m\n\u001b[0;32m--> 342\u001b[0;31m     \u001b[0;32melse\u001b[0m\u001b[0;34m:\u001b[0m\u001b[0;34m\u001b[0m\u001b[0;34m\u001b[0m\u001b[0m\n\u001b[0m\u001b[1;32m    343\u001b[0m         \u001b[0;31m# Handle classmethods and instance methods\u001b[0m\u001b[0;34m\u001b[0m\u001b[0;34m\u001b[0m\u001b[0m\n\u001b[1;32m    344\u001b[0m         \u001b[0mexisting_params\u001b[0m\u001b[0;34m:\u001b[0m \u001b[0mlist\u001b[0m\u001b[0;34m[\u001b[0m\u001b[0mstr\u001b[0m\u001b[0;34m]\u001b[0m \u001b[0;34m=\u001b[0m \u001b[0mlist\u001b[0m\u001b[0;34m(\u001b[0m\u001b[0msig\u001b[0m\u001b[0;34m.\u001b[0m\u001b[0mparameters\u001b[0m\u001b[0;34m.\u001b[0m\u001b[0mkeys\u001b[0m\u001b[0;34m(\u001b[0m\u001b[0;34m)\u001b[0m\u001b[0;34m)\u001b[0m\u001b[0;34m\u001b[0m\u001b[0;34m\u001b[0m\u001b[0m\n",
            "\u001b[0;31mTypeError\u001b[0m: args_schema must be a subclass of pydantic BaseModel. Got: <class 'pydantic.v1.main.OrderCheckerToolSchema'>."
          ]
        }
      ]
    }
  ]
}