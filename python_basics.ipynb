{
  "cells": [
    {
      "cell_type": "markdown",
      "metadata": {
        "id": "view-in-github",
        "colab_type": "text"
      },
      "source": [
        "<a href=\"https://colab.research.google.com/github/alikaiser12/AI/blob/main/python_basics.ipynb\" target=\"_parent\"><img src=\"https://colab.research.google.com/assets/colab-badge.svg\" alt=\"Open In Colab\"/></a>"
      ]
    },
    {
      "cell_type": "markdown",
      "metadata": {
        "id": "ggqGiOacyggg"
      },
      "source": [
        "1. Variable Types"
      ]
    },
    {
      "cell_type": "code",
      "execution_count": null,
      "metadata": {
        "colab": {
          "base_uri": "https://localhost:8080/"
        },
        "id": "wEEVNP3aycr6",
        "outputId": "5f044930-2987-448e-aaf2-31c205724b6f"
      },
      "outputs": [
        {
          "output_type": "stream",
          "name": "stdout",
          "text": [
            "Integer: 5\n",
            "Float: 3.14\n",
            "String: Alice\n",
            "Boolean: True\n",
            "Type of x: <class 'int'>\n"
          ]
        }
      ],
      "source": [
        "# Integer\n",
        "x = 5\n",
        "print(\"Integer:\", x)\n",
        "\n",
        "# Float\n",
        "pi = 3.14\n",
        "print(\"Float:\", pi)\n",
        "\n",
        "# String\n",
        "name = \"Alice\"\n",
        "print(\"String:\", name)\n",
        "\n",
        "# Boolean\n",
        "is_sunny = True\n",
        "print(\"Boolean:\", is_sunny)\n",
        "\n",
        "# Type Checking\n",
        "print(\"Type of x:\", type(x))"
      ]
    },
    {
      "cell_type": "code",
      "execution_count": null,
      "metadata": {
        "colab": {
          "base_uri": "https://localhost:8080/"
        },
        "id": "1iN-zUbOeXtI",
        "outputId": "9a352974-2abe-430f-9171-7ffc106e99d7"
      },
      "outputs": [
        {
          "output_type": "stream",
          "name": "stdout",
          "text": [
            "Integer: 500\n"
          ]
        }
      ],
      "source": [
        "# Integer\n",
        "x = 500\n",
        "print(\"Integer:\", x)"
      ]
    },
    {
      "cell_type": "code",
      "execution_count": null,
      "metadata": {
        "colab": {
          "base_uri": "https://localhost:8080/"
        },
        "id": "o_bwHwT0eguA",
        "outputId": "32380d90-0290-4432-e110-390dbb8fe4a7"
      },
      "outputs": [
        {
          "output_type": "stream",
          "name": "stdout",
          "text": [
            "The Float Number is: 5.5\n"
          ]
        }
      ],
      "source": [
        "x=5.5\n",
        "print(\"The Float Number is:\",x)"
      ]
    },
    {
      "cell_type": "code",
      "execution_count": null,
      "metadata": {
        "colab": {
          "base_uri": "https://localhost:8080/"
        },
        "id": "2u86JEb9fSjY",
        "outputId": "294a9ad8-17df-435c-872f-7e0953ba0825"
      },
      "outputs": [
        {
          "output_type": "stream",
          "name": "stdout",
          "text": [
            "The name is : ALi Kaiser , Trainer\n"
          ]
        }
      ],
      "source": [
        "name = \"ALi Kaiser , Trainer\"\n",
        "print(\"The name is :\",name)"
      ]
    },
    {
      "cell_type": "markdown",
      "metadata": {
        "id": "ASFMeacdyz94"
      },
      "source": [
        "2. Basic Input and Output"
      ]
    },
    {
      "cell_type": "code",
      "execution_count": null,
      "metadata": {
        "colab": {
          "base_uri": "https://localhost:8080/"
        },
        "id": "u4ZKp8qhy09U",
        "outputId": "e22463bf-2bc2-499d-e89c-a894e7289338"
      },
      "outputs": [
        {
          "output_type": "stream",
          "name": "stdout",
          "text": [
            "Enter your name: a\n",
            "Hello a\n"
          ]
        }
      ],
      "source": [
        "# Getting user input\n",
        "name = input(\"Enter your name: \")\n",
        "print(\"Hello\", name)\n"
      ]
    },
    {
      "cell_type": "markdown",
      "metadata": {
        "id": "dzptVKVDy8lX"
      },
      "source": [
        "3. If-Else Conditions"
      ]
    },
    {
      "cell_type": "code",
      "execution_count": null,
      "metadata": {
        "colab": {
          "base_uri": "https://localhost:8080/"
        },
        "id": "L_X-RYKTy2dV",
        "outputId": "b8431d70-a45d-4c16-a774-2ebd71b6fa25"
      },
      "outputs": [
        {
          "output_type": "stream",
          "name": "stdout",
          "text": [
            "Enter your age: 32\n",
            "You are an adult.\n"
          ]
        }
      ],
      "source": [
        "# If-Else example\n",
        "age = int(input(\"Enter your age: \"))\n",
        "\n",
        "if age >= 18:\n",
        "    print(\"You are an adult.\")\n",
        "else:\n",
        "    print(\"You are a minor.\")\n"
      ]
    },
    {
      "cell_type": "markdown",
      "metadata": {
        "id": "IarMUSKvzFM3"
      },
      "source": [
        "**4. For Loop**"
      ]
    },
    {
      "cell_type": "code",
      "execution_count": null,
      "metadata": {
        "colab": {
          "base_uri": "https://localhost:8080/"
        },
        "id": "Aw0yzrNNzBcw",
        "outputId": "89d19984-f0fb-43ef-ca96-6d07f3b1f85b"
      },
      "outputs": [
        {
          "output_type": "stream",
          "name": "stdout",
          "text": [
            "Number: 0\n",
            "Number: 1\n",
            "Number: 2\n",
            "Number: 3\n",
            "Number: 4\n",
            "Number: 5\n",
            "Number: 6\n",
            "Number: 7\n",
            "Number: 8\n",
            "Number: 9\n"
          ]
        }
      ],
      "source": [
        "# Print numbers 0 to 9\n",
        "for i in range(10):\n",
        "    print(\"Number:\", i)\n"
      ]
    },
    {
      "cell_type": "code",
      "execution_count": null,
      "metadata": {
        "colab": {
          "base_uri": "https://localhost:8080/"
        },
        "id": "JfGfTKzo2uWy",
        "outputId": "821c5cbd-9d07-48b1-8a77-68f62e6aa93d"
      },
      "outputs": [
        {
          "output_type": "stream",
          "name": "stdout",
          "text": [
            "Numers: 5\n",
            "Numers: 6\n",
            "Numers: 7\n",
            "Numers: 8\n",
            "Numers: 9\n"
          ]
        }
      ],
      "source": [
        "# Print numbers 5 to 9\n",
        "for i in range(5,10):\n",
        "  print(\"Numers:\",i)"
      ]
    },
    {
      "cell_type": "markdown",
      "metadata": {
        "id": "IxzWGkq7zKfX"
      },
      "source": [
        "**5. While Loop**"
      ]
    },
    {
      "cell_type": "code",
      "execution_count": null,
      "metadata": {
        "colab": {
          "base_uri": "https://localhost:8080/"
        },
        "id": "lUMdM94YzIWT",
        "outputId": "9a561840-da59-4b81-a06d-bc14c04b381c"
      },
      "outputs": [
        {
          "output_type": "stream",
          "name": "stdout",
          "text": [
            "Number: 0\n",
            "Number: 1\n",
            "Number: 2\n",
            "Number: 3\n",
            "Number: 4\n"
          ]
        }
      ],
      "source": [
        "# Print numbers 0 to 4 using while\n",
        "i = 0\n",
        "while i < 5:\n",
        "    print(\"Number:\", i)\n",
        "    i += 1\n"
      ]
    },
    {
      "cell_type": "code",
      "execution_count": null,
      "metadata": {
        "colab": {
          "base_uri": "https://localhost:8080/"
        },
        "id": "cT6WKEeN39Ny",
        "outputId": "af1f2dd1-8b69-48a2-d0a7-bfd54b6ab5f7"
      },
      "outputs": [
        {
          "output_type": "stream",
          "name": "stdout",
          "text": [
            "Number: 5\n",
            "Number: 8\n",
            "Number: 11\n",
            "Number: 14\n"
          ]
        }
      ],
      "source": [
        "i = 5\n",
        "while i < 17:\n",
        "    print(\"Number:\", i)\n",
        "    i += 3"
      ]
    },
    {
      "cell_type": "markdown",
      "metadata": {
        "id": "azezPg8AzPqv"
      },
      "source": [
        "**6. Lists**"
      ]
    },
    {
      "cell_type": "code",
      "execution_count": null,
      "metadata": {
        "colab": {
          "base_uri": "https://localhost:8080/"
        },
        "id": "lvUpmuoCzNdc",
        "outputId": "d3c72a36-7170-4184-9eaf-82413e6f1ba6"
      },
      "outputs": [
        {
          "output_type": "stream",
          "name": "stdout",
          "text": [
            "All fruits: ['apple', 'banana', 'cherry']\n",
            "First fruit: cherry\n",
            "Updated fruits: ['apple', 'banana', 'cherry', 'orange']\n"
          ]
        }
      ],
      "source": [
        "# List operations\n",
        "fruits = [\"apple\", \"banana\", \"cherry\"]\n",
        "print(\"All fruits:\", fruits)\n",
        "\n",
        "# Accessing elements\n",
        "print(\"First fruit:\", fruits[2])\n",
        "\n",
        "# Adding elements\n",
        "fruits.append(\"orange\")\n",
        "print(\"Updated fruits:\", fruits)\n"
      ]
    },
    {
      "cell_type": "markdown",
      "metadata": {
        "id": "kW-c0rOqzVVf"
      },
      "source": [
        "**7. Functions**"
      ]
    },
    {
      "cell_type": "code",
      "execution_count": null,
      "metadata": {
        "colab": {
          "base_uri": "https://localhost:8080/"
        },
        "id": "ex-oWT6AzShf",
        "outputId": "3b291281-e828-4a78-f6fd-3a850c0c804d"
      },
      "outputs": [
        {
          "output_type": "stream",
          "name": "stdout",
          "text": [
            "Hello ps\n"
          ]
        }
      ],
      "source": [
        "# Function to greet\n",
        "def greet(name):\n",
        "    print(\"Hello\", name)\n",
        "\n",
        "greet(\"ps\")\n"
      ]
    },
    {
      "cell_type": "markdown",
      "metadata": {
        "id": "rIveNuWqzbif"
      },
      "source": [
        "**8. Loops with List**"
      ]
    },
    {
      "cell_type": "code",
      "execution_count": null,
      "metadata": {
        "colab": {
          "base_uri": "https://localhost:8080/"
        },
        "id": "khb80HsbzYkh",
        "outputId": "f41d34ad-f0f5-4e37-bc07-df98b84c9354"
      },
      "outputs": [
        {
          "output_type": "stream",
          "name": "stdout",
          "text": [
            "Color: red\n",
            "Color: green\n",
            "Color: blue\n"
          ]
        }
      ],
      "source": [
        "# Loop through a list\n",
        "colors = [\"red\", \"green\", \"blue\"]\n",
        "for color in colors:\n",
        "    print(\"Color:\", color)\n"
      ]
    },
    {
      "cell_type": "markdown",
      "metadata": {
        "id": "xOJUPfV0zg4P"
      },
      "source": [
        "**9. Dictionaries**"
      ]
    },
    {
      "cell_type": "code",
      "execution_count": null,
      "metadata": {
        "colab": {
          "base_uri": "https://localhost:8080/"
        },
        "id": "8WotMknnzeS7",
        "outputId": "6b2222c9-5346-4f36-eee0-c616e00d80e6"
      },
      "outputs": [
        {
          "output_type": "stream",
          "name": "stdout",
          "text": [
            "Student grade: A\n"
          ]
        }
      ],
      "source": [
        "# Dictionary example\n",
        "student = {\"name\": \"John\", \"age\": 20, \"grade\": \"A\"}\n",
        "print(\"Student grade:\", student[\"grade\"])\n"
      ]
    },
    {
      "cell_type": "markdown",
      "metadata": {
        "id": "caNtbaGgznG3"
      },
      "source": [
        "**10. Basic Math Operations**"
      ]
    },
    {
      "cell_type": "code",
      "execution_count": null,
      "metadata": {
        "colab": {
          "base_uri": "https://localhost:8080/"
        },
        "id": "Thyyp9DuzkaN",
        "outputId": "f7406f8f-2736-4440-b011-1ff388f4844c"
      },
      "outputs": [
        {
          "output_type": "stream",
          "name": "stdout",
          "text": [
            "Addition: 13\n",
            "Subtraction: 7\n",
            "Multiplication: 30\n",
            "Division: 3.3333333333333335\n",
            "Modulus: 1\n",
            "Exponent: 1000\n"
          ]
        }
      ],
      "source": [
        "a = 10\n",
        "b = 3\n",
        "\n",
        "print(\"Addition:\", a + b)\n",
        "print(\"Subtraction:\", a - b)\n",
        "print(\"Multiplication:\", a * b)\n",
        "print(\"Division:\", a / b)\n",
        "print(\"Modulus:\", a % b)\n",
        "print(\"Exponent:\", a ** b)\n"
      ]
    },
    {
      "cell_type": "code",
      "execution_count": null,
      "metadata": {
        "colab": {
          "base_uri": "https://localhost:8080/"
        },
        "id": "LCJ0_3GZ7KOi",
        "outputId": "ab66aa16-4b1c-40eb-b60a-f443e038cd57"
      },
      "outputs": [
        {
          "output_type": "stream",
          "name": "stdout",
          "text": [
            "Please enter an integer: 1\n",
            "Single\n"
          ]
        }
      ],
      "source": [
        "x = int(input(\"Please enter an integer: \"))\n",
        "\n",
        "if x < 0:\n",
        "    x = 0\n",
        "    print('Negative changed to zero')\n",
        "elif x == 0:\n",
        "    print('Zero')\n",
        "elif x == 1:\n",
        "    print('Single')\n",
        "else:\n",
        "    print('More')"
      ]
    },
    {
      "cell_type": "markdown",
      "metadata": {
        "id": "JZ1Qv0oX0Op3"
      },
      "source": [
        "# **1. Introduction to Pandas**"
      ]
    },
    {
      "cell_type": "code",
      "execution_count": null,
      "metadata": {
        "colab": {
          "base_uri": "https://localhost:8080/"
        },
        "id": "wkysPIcizplv",
        "outputId": "cf17bbed-29f0-446b-bfd2-4c9308b33276"
      },
      "outputs": [
        {
          "output_type": "stream",
          "name": "stdout",
          "text": [
            "Pandas version: 2.2.2\n"
          ]
        }
      ],
      "source": [
        "import pandas as pd\n",
        "print(\"Pandas version:\", pd.__version__)\n"
      ]
    },
    {
      "cell_type": "markdown",
      "metadata": {
        "id": "um1dqbHs0VYH"
      },
      "source": [
        "**2. Creating a DataFrame**"
      ]
    },
    {
      "cell_type": "code",
      "execution_count": null,
      "metadata": {
        "colab": {
          "base_uri": "https://localhost:8080/"
        },
        "id": "tYjOBHwt0SZu",
        "outputId": "0c1c6bdc-517f-47af-bebf-44e839b9dac7"
      },
      "outputs": [
        {
          "output_type": "stream",
          "name": "stdout",
          "text": [
            "      Name  Age        City\n",
            "0    Alice   25       Dhaka\n",
            "1      Bob   30  Chittagong\n",
            "2  Charlie   25    Rajshahi\n",
            "3    Alice   25       Dhaka\n",
            "4      Bob   30  Chittagong\n",
            "5  Charlie   35    Rajshahi\n",
            "6    Alice   25       Dhaka\n",
            "7      Bob   30  Chittagong\n",
            "8  Charlie   35    Rajshahi\n"
          ]
        }
      ],
      "source": [
        "import pandas as pd\n",
        "\n",
        "data = {\n",
        "    \"Name\": [\"Alice\", \"Bob\", \"Charlie\",\"Alice\", \"Bob\", \"Charlie\",\"Alice\", \"Bob\", \"Charlie\"],\n",
        "    \"Age\": [25, 30, 25,25, 30, 35,25, 30, 35],\n",
        "    \"City\": [\"Dhaka\", \"Chittagong\", \"Rajshahi\",\"Dhaka\", \"Chittagong\", \"Rajshahi\",\"Dhaka\", \"Chittagong\", \"Rajshahi\"]\n",
        "}\n",
        "\n",
        "df = pd.DataFrame(data)\n",
        "print(df)\n"
      ]
    },
    {
      "cell_type": "markdown",
      "metadata": {
        "id": "gOB8Fga90evH"
      },
      "source": [
        "**3. Reading Data from a CSV**"
      ]
    },
    {
      "cell_type": "code",
      "execution_count": null,
      "metadata": {
        "id": "pmsuk6uA0hMD"
      },
      "outputs": [],
      "source": []
    },
    {
      "cell_type": "code",
      "execution_count": null,
      "metadata": {
        "colab": {
          "base_uri": "https://localhost:8080/"
        },
        "id": "8603f3bd",
        "outputId": "c4595f53-1c8d-4be7-abe0-02b25e3facac"
      },
      "outputs": [
        {
          "output_type": "stream",
          "name": "stdout",
          "text": [
            "   Col1 Col2\n",
            "0     1    A\n",
            "1     2    B\n",
            "2     3    C\n"
          ]
        }
      ],
      "source": [
        "# Create a dummy CSV file for demonstration\n",
        "dummy_data = {\n",
        "    \"Col1\": [1, 2, 3],\n",
        "    \"Col2\": [\"A\", \"B\", \"C\"]\n",
        "}\n",
        "dummy_df = pd.DataFrame(dummy_data)\n",
        "dummy_df.to_csv(\"dummy_data.csv\", index=False)\n",
        "\n",
        "# Now try reading the created dummy CSV file\n",
        "try:\n",
        "    df = pd.read_csv(\"dummy_data.csv\")\n",
        "    print(df.head())\n",
        "except FileNotFoundError:\n",
        "    print(\"The file 'dummy_data.csv' was not found.\")"
      ]
    },
    {
      "cell_type": "markdown",
      "metadata": {
        "id": "SuQqfz62060v"
      },
      "source": [
        "**4. Basic DataFrame Operations**"
      ]
    },
    {
      "cell_type": "code",
      "execution_count": null,
      "metadata": {
        "colab": {
          "base_uri": "https://localhost:8080/"
        },
        "id": "TmVP3DBg08B9",
        "outputId": "4c3ca726-18f6-4701-cb8d-1827b98fc7f0"
      },
      "outputs": [
        {
          "output_type": "stream",
          "name": "stdout",
          "text": [
            "(3, 2)\n",
            "Index(['Col1', 'Col2'], dtype='object')\n",
            "Col1     int64\n",
            "Col2    object\n",
            "dtype: object\n",
            "<class 'pandas.core.frame.DataFrame'>\n",
            "RangeIndex: 3 entries, 0 to 2\n",
            "Data columns (total 2 columns):\n",
            " #   Column  Non-Null Count  Dtype \n",
            "---  ------  --------------  ----- \n",
            " 0   Col1    3 non-null      int64 \n",
            " 1   Col2    3 non-null      object\n",
            "dtypes: int64(1), object(1)\n",
            "memory usage: 180.0+ bytes\n",
            "None\n",
            "       Col1\n",
            "count   3.0\n",
            "mean    2.0\n",
            "std     1.0\n",
            "min     1.0\n",
            "25%     1.5\n",
            "50%     2.0\n",
            "75%     2.5\n",
            "max     3.0\n"
          ]
        }
      ],
      "source": [
        "print(df.shape)       # Rows and columns\n",
        "print(df.columns)     # Column names\n",
        "print(df.dtypes)      # Data types\n",
        "print(df.info())      # Summary\n",
        "print(df.describe())  # Statistics\n"
      ]
    },
    {
      "cell_type": "markdown",
      "metadata": {
        "id": "dHfjzFOZ1BKH"
      },
      "source": [
        "**5. Accessing Rows and Columns**"
      ]
    },
    {
      "cell_type": "code",
      "execution_count": null,
      "metadata": {
        "colab": {
          "base_uri": "https://localhost:8080/"
        },
        "id": "yV0WOWAi091-",
        "outputId": "ec880fb4-d802-44a3-9ca6-f8b3ea04839b"
      },
      "outputs": [
        {
          "output_type": "stream",
          "name": "stdout",
          "text": [
            "0    1\n",
            "1    2\n",
            "2    3\n",
            "Name: Col1, dtype: int64\n",
            "   Col1 Col2\n",
            "0     1    A\n",
            "1     2    B\n",
            "2     3    C\n",
            "Col1    1\n",
            "Col2    A\n",
            "Name: 0, dtype: object\n",
            "Col1    1\n",
            "Col2    A\n",
            "Name: 0, dtype: object\n"
          ]
        }
      ],
      "source": [
        "print(df[\"Col1\"])          # Access column\n",
        "print(df[[\"Col1\", \"Col2\"]])  # Multiple columns\n",
        "print(df.loc[0])           # Access first row by label\n",
        "print(df.iloc[0])          # Access first row by index"
      ]
    },
    {
      "cell_type": "markdown",
      "metadata": {
        "id": "Kysm9ROG1O-v"
      },
      "source": [
        "**6. Filtering Rows**"
      ]
    },
    {
      "cell_type": "code",
      "execution_count": null,
      "metadata": {
        "colab": {
          "base_uri": "https://localhost:8080/",
          "height": 143
        },
        "id": "dOcwCt28xEUe",
        "outputId": "2c6f2418-2b11-41b8-c8cb-caae3e020927"
      },
      "outputs": [
        {
          "output_type": "execute_result",
          "data": {
            "text/plain": [
              "      Name  Age        City\n",
              "0    Alice   25       Dhaka\n",
              "1      Bob   30  Chittagong\n",
              "2  Charlie   35    Rajshahi"
            ],
            "text/html": [
              "\n",
              "  <div id=\"df-aecae151-d9bc-4bd0-8db1-c07d28faa814\" class=\"colab-df-container\">\n",
              "    <div>\n",
              "<style scoped>\n",
              "    .dataframe tbody tr th:only-of-type {\n",
              "        vertical-align: middle;\n",
              "    }\n",
              "\n",
              "    .dataframe tbody tr th {\n",
              "        vertical-align: top;\n",
              "    }\n",
              "\n",
              "    .dataframe thead th {\n",
              "        text-align: right;\n",
              "    }\n",
              "</style>\n",
              "<table border=\"1\" class=\"dataframe\">\n",
              "  <thead>\n",
              "    <tr style=\"text-align: right;\">\n",
              "      <th></th>\n",
              "      <th>Name</th>\n",
              "      <th>Age</th>\n",
              "      <th>City</th>\n",
              "    </tr>\n",
              "  </thead>\n",
              "  <tbody>\n",
              "    <tr>\n",
              "      <th>0</th>\n",
              "      <td>Alice</td>\n",
              "      <td>25</td>\n",
              "      <td>Dhaka</td>\n",
              "    </tr>\n",
              "    <tr>\n",
              "      <th>1</th>\n",
              "      <td>Bob</td>\n",
              "      <td>30</td>\n",
              "      <td>Chittagong</td>\n",
              "    </tr>\n",
              "    <tr>\n",
              "      <th>2</th>\n",
              "      <td>Charlie</td>\n",
              "      <td>35</td>\n",
              "      <td>Rajshahi</td>\n",
              "    </tr>\n",
              "  </tbody>\n",
              "</table>\n",
              "</div>\n",
              "    <div class=\"colab-df-buttons\">\n",
              "\n",
              "  <div class=\"colab-df-container\">\n",
              "    <button class=\"colab-df-convert\" onclick=\"convertToInteractive('df-aecae151-d9bc-4bd0-8db1-c07d28faa814')\"\n",
              "            title=\"Convert this dataframe to an interactive table.\"\n",
              "            style=\"display:none;\">\n",
              "\n",
              "  <svg xmlns=\"http://www.w3.org/2000/svg\" height=\"24px\" viewBox=\"0 -960 960 960\">\n",
              "    <path d=\"M120-120v-720h720v720H120Zm60-500h600v-160H180v160Zm220 220h160v-160H400v160Zm0 220h160v-160H400v160ZM180-400h160v-160H180v160Zm440 0h160v-160H620v160ZM180-180h160v-160H180v160Zm440 0h160v-160H620v160Z\"/>\n",
              "  </svg>\n",
              "    </button>\n",
              "\n",
              "  <style>\n",
              "    .colab-df-container {\n",
              "      display:flex;\n",
              "      gap: 12px;\n",
              "    }\n",
              "\n",
              "    .colab-df-convert {\n",
              "      background-color: #E8F0FE;\n",
              "      border: none;\n",
              "      border-radius: 50%;\n",
              "      cursor: pointer;\n",
              "      display: none;\n",
              "      fill: #1967D2;\n",
              "      height: 32px;\n",
              "      padding: 0 0 0 0;\n",
              "      width: 32px;\n",
              "    }\n",
              "\n",
              "    .colab-df-convert:hover {\n",
              "      background-color: #E2EBFA;\n",
              "      box-shadow: 0px 1px 2px rgba(60, 64, 67, 0.3), 0px 1px 3px 1px rgba(60, 64, 67, 0.15);\n",
              "      fill: #174EA6;\n",
              "    }\n",
              "\n",
              "    .colab-df-buttons div {\n",
              "      margin-bottom: 4px;\n",
              "    }\n",
              "\n",
              "    [theme=dark] .colab-df-convert {\n",
              "      background-color: #3B4455;\n",
              "      fill: #D2E3FC;\n",
              "    }\n",
              "\n",
              "    [theme=dark] .colab-df-convert:hover {\n",
              "      background-color: #434B5C;\n",
              "      box-shadow: 0px 1px 3px 1px rgba(0, 0, 0, 0.15);\n",
              "      filter: drop-shadow(0px 1px 2px rgba(0, 0, 0, 0.3));\n",
              "      fill: #FFFFFF;\n",
              "    }\n",
              "  </style>\n",
              "\n",
              "    <script>\n",
              "      const buttonEl =\n",
              "        document.querySelector('#df-aecae151-d9bc-4bd0-8db1-c07d28faa814 button.colab-df-convert');\n",
              "      buttonEl.style.display =\n",
              "        google.colab.kernel.accessAllowed ? 'block' : 'none';\n",
              "\n",
              "      async function convertToInteractive(key) {\n",
              "        const element = document.querySelector('#df-aecae151-d9bc-4bd0-8db1-c07d28faa814');\n",
              "        const dataTable =\n",
              "          await google.colab.kernel.invokeFunction('convertToInteractive',\n",
              "                                                    [key], {});\n",
              "        if (!dataTable) return;\n",
              "\n",
              "        const docLinkHtml = 'Like what you see? Visit the ' +\n",
              "          '<a target=\"_blank\" href=https://colab.research.google.com/notebooks/data_table.ipynb>data table notebook</a>'\n",
              "          + ' to learn more about interactive tables.';\n",
              "        element.innerHTML = '';\n",
              "        dataTable['output_type'] = 'display_data';\n",
              "        await google.colab.output.renderOutput(dataTable, element);\n",
              "        const docLink = document.createElement('div');\n",
              "        docLink.innerHTML = docLinkHtml;\n",
              "        element.appendChild(docLink);\n",
              "      }\n",
              "    </script>\n",
              "  </div>\n",
              "\n",
              "\n",
              "    <div id=\"df-04603c7d-f53d-4723-8fc3-3a4f230f94a9\">\n",
              "      <button class=\"colab-df-quickchart\" onclick=\"quickchart('df-04603c7d-f53d-4723-8fc3-3a4f230f94a9')\"\n",
              "                title=\"Suggest charts\"\n",
              "                style=\"display:none;\">\n",
              "\n",
              "<svg xmlns=\"http://www.w3.org/2000/svg\" height=\"24px\"viewBox=\"0 0 24 24\"\n",
              "     width=\"24px\">\n",
              "    <g>\n",
              "        <path d=\"M19 3H5c-1.1 0-2 .9-2 2v14c0 1.1.9 2 2 2h14c1.1 0 2-.9 2-2V5c0-1.1-.9-2-2-2zM9 17H7v-7h2v7zm4 0h-2V7h2v10zm4 0h-2v-4h2v4z\"/>\n",
              "    </g>\n",
              "</svg>\n",
              "      </button>\n",
              "\n",
              "<style>\n",
              "  .colab-df-quickchart {\n",
              "      --bg-color: #E8F0FE;\n",
              "      --fill-color: #1967D2;\n",
              "      --hover-bg-color: #E2EBFA;\n",
              "      --hover-fill-color: #174EA6;\n",
              "      --disabled-fill-color: #AAA;\n",
              "      --disabled-bg-color: #DDD;\n",
              "  }\n",
              "\n",
              "  [theme=dark] .colab-df-quickchart {\n",
              "      --bg-color: #3B4455;\n",
              "      --fill-color: #D2E3FC;\n",
              "      --hover-bg-color: #434B5C;\n",
              "      --hover-fill-color: #FFFFFF;\n",
              "      --disabled-bg-color: #3B4455;\n",
              "      --disabled-fill-color: #666;\n",
              "  }\n",
              "\n",
              "  .colab-df-quickchart {\n",
              "    background-color: var(--bg-color);\n",
              "    border: none;\n",
              "    border-radius: 50%;\n",
              "    cursor: pointer;\n",
              "    display: none;\n",
              "    fill: var(--fill-color);\n",
              "    height: 32px;\n",
              "    padding: 0;\n",
              "    width: 32px;\n",
              "  }\n",
              "\n",
              "  .colab-df-quickchart:hover {\n",
              "    background-color: var(--hover-bg-color);\n",
              "    box-shadow: 0 1px 2px rgba(60, 64, 67, 0.3), 0 1px 3px 1px rgba(60, 64, 67, 0.15);\n",
              "    fill: var(--button-hover-fill-color);\n",
              "  }\n",
              "\n",
              "  .colab-df-quickchart-complete:disabled,\n",
              "  .colab-df-quickchart-complete:disabled:hover {\n",
              "    background-color: var(--disabled-bg-color);\n",
              "    fill: var(--disabled-fill-color);\n",
              "    box-shadow: none;\n",
              "  }\n",
              "\n",
              "  .colab-df-spinner {\n",
              "    border: 2px solid var(--fill-color);\n",
              "    border-color: transparent;\n",
              "    border-bottom-color: var(--fill-color);\n",
              "    animation:\n",
              "      spin 1s steps(1) infinite;\n",
              "  }\n",
              "\n",
              "  @keyframes spin {\n",
              "    0% {\n",
              "      border-color: transparent;\n",
              "      border-bottom-color: var(--fill-color);\n",
              "      border-left-color: var(--fill-color);\n",
              "    }\n",
              "    20% {\n",
              "      border-color: transparent;\n",
              "      border-left-color: var(--fill-color);\n",
              "      border-top-color: var(--fill-color);\n",
              "    }\n",
              "    30% {\n",
              "      border-color: transparent;\n",
              "      border-left-color: var(--fill-color);\n",
              "      border-top-color: var(--fill-color);\n",
              "      border-right-color: var(--fill-color);\n",
              "    }\n",
              "    40% {\n",
              "      border-color: transparent;\n",
              "      border-right-color: var(--fill-color);\n",
              "      border-top-color: var(--fill-color);\n",
              "    }\n",
              "    60% {\n",
              "      border-color: transparent;\n",
              "      border-right-color: var(--fill-color);\n",
              "    }\n",
              "    80% {\n",
              "      border-color: transparent;\n",
              "      border-right-color: var(--fill-color);\n",
              "      border-bottom-color: var(--fill-color);\n",
              "    }\n",
              "    90% {\n",
              "      border-color: transparent;\n",
              "      border-bottom-color: var(--fill-color);\n",
              "    }\n",
              "  }\n",
              "</style>\n",
              "\n",
              "      <script>\n",
              "        async function quickchart(key) {\n",
              "          const quickchartButtonEl =\n",
              "            document.querySelector('#' + key + ' button');\n",
              "          quickchartButtonEl.disabled = true;  // To prevent multiple clicks.\n",
              "          quickchartButtonEl.classList.add('colab-df-spinner');\n",
              "          try {\n",
              "            const charts = await google.colab.kernel.invokeFunction(\n",
              "                'suggestCharts', [key], {});\n",
              "          } catch (error) {\n",
              "            console.error('Error during call to suggestCharts:', error);\n",
              "          }\n",
              "          quickchartButtonEl.classList.remove('colab-df-spinner');\n",
              "          quickchartButtonEl.classList.add('colab-df-quickchart-complete');\n",
              "        }\n",
              "        (() => {\n",
              "          let quickchartButtonEl =\n",
              "            document.querySelector('#df-04603c7d-f53d-4723-8fc3-3a4f230f94a9 button');\n",
              "          quickchartButtonEl.style.display =\n",
              "            google.colab.kernel.accessAllowed ? 'block' : 'none';\n",
              "        })();\n",
              "      </script>\n",
              "    </div>\n",
              "\n",
              "    </div>\n",
              "  </div>\n"
            ],
            "application/vnd.google.colaboratory.intrinsic+json": {
              "type": "dataframe",
              "variable_name": "df_with_age",
              "summary": "{\n  \"name\": \"df_with_age\",\n  \"rows\": 3,\n  \"fields\": [\n    {\n      \"column\": \"Name\",\n      \"properties\": {\n        \"dtype\": \"string\",\n        \"num_unique_values\": 3,\n        \"samples\": [\n          \"Alice\",\n          \"Bob\",\n          \"Charlie\"\n        ],\n        \"semantic_type\": \"\",\n        \"description\": \"\"\n      }\n    },\n    {\n      \"column\": \"Age\",\n      \"properties\": {\n        \"dtype\": \"number\",\n        \"std\": 5,\n        \"min\": 25,\n        \"max\": 35,\n        \"num_unique_values\": 3,\n        \"samples\": [\n          25,\n          30,\n          35\n        ],\n        \"semantic_type\": \"\",\n        \"description\": \"\"\n      }\n    },\n    {\n      \"column\": \"City\",\n      \"properties\": {\n        \"dtype\": \"string\",\n        \"num_unique_values\": 3,\n        \"samples\": [\n          \"Dhaka\",\n          \"Chittagong\",\n          \"Rajshahi\"\n        ],\n        \"semantic_type\": \"\",\n        \"description\": \"\"\n      }\n    }\n  ]\n}"
            }
          },
          "metadata": {},
          "execution_count": 22
        }
      ],
      "source": [
        "import pandas as pd\n",
        "\n",
        "# Create a DataFrame with an 'Age' column\n",
        "data_with_age = {\n",
        "    \"Name\": [\"Alice\", \"Bob\", \"Charlie\"],\n",
        "    \"Age\": [25, 30, 35],\n",
        "    \"City\": [\"Dhaka\", \"Chittagong\", \"Rajshahi\"]\n",
        "}\n",
        "df_with_age = pd.DataFrame(data_with_age)\n",
        "df_with_age.head()"
      ]
    },
    {
      "cell_type": "code",
      "execution_count": null,
      "metadata": {
        "colab": {
          "base_uri": "https://localhost:8080/"
        },
        "id": "49dea708",
        "outputId": "d6ee5abb-7393-4347-bbc2-90899f29545f"
      },
      "outputs": [
        {
          "output_type": "stream",
          "name": "stdout",
          "text": [
            "      Name  Age        City\n",
            "1      Bob   30  Chittagong\n",
            "2  Charlie   35    Rajshahi\n"
          ]
        }
      ],
      "source": [
        "import pandas as pd\n",
        "\n",
        "# Create a DataFrame with an 'Age' column\n",
        "data_with_age = {\n",
        "    \"Name\": [\"Alice\", \"Bob\", \"Charlie\"],\n",
        "    \"Age\": [25, 30, 35],\n",
        "    \"City\": [\"Dhaka\", \"Chittagong\", \"Rajshahi\"]\n",
        "}\n",
        "df_with_age = pd.DataFrame(data_with_age)\n",
        "\n",
        "# Filter the DataFrame to get people older than 28\n",
        "print(df_with_age[df_with_age[\"Age\"] > 28])"
      ]
    },
    {
      "cell_type": "markdown",
      "metadata": {
        "id": "tWF8ZPci1df3"
      },
      "source": [
        "**7. Adding New Columns**"
      ]
    },
    {
      "cell_type": "code",
      "execution_count": null,
      "metadata": {
        "colab": {
          "base_uri": "https://localhost:8080/"
        },
        "id": "BfzCIZyk1e4p",
        "outputId": "a02b2d82-e84a-48a1-bdac-69e5c7bfe941"
      },
      "outputs": [
        {
          "output_type": "stream",
          "name": "stdout",
          "text": [
            "   Col1 Col2 New_Column\n",
            "0     1    A      Hello\n",
            "1     2    B      Hello\n",
            "2     3    C      Hello\n"
          ]
        }
      ],
      "source": [
        "df[\"New_Column\"] = \"Hello\"\n",
        "print(df)\n"
      ]
    },
    {
      "cell_type": "markdown",
      "metadata": {
        "id": "WXpC8N5Q1ji_"
      },
      "source": [
        "**8. Modifying Data**"
      ]
    },
    {
      "cell_type": "code",
      "execution_count": null,
      "metadata": {
        "colab": {
          "base_uri": "https://localhost:8080/"
        },
        "id": "xsMmXnaU1hPj",
        "outputId": "dfc484c5-a380-431c-dac4-997202739c65"
      },
      "outputs": [
        {
          "output_type": "stream",
          "name": "stdout",
          "text": [
            "      Name  Age        City\n",
            "0    Alice   26       Dhaka\n",
            "1      Bob   31  Chittagong\n",
            "2  Charlie   36    Rajshahi\n"
          ]
        }
      ],
      "source": [
        "df_with_age[\"Age\"] = df_with_age[\"Age\"] + 1\n",
        "print(df_with_age)"
      ]
    },
    {
      "cell_type": "markdown",
      "metadata": {
        "id": "7iiWaoBw1sDn"
      },
      "source": [
        "**9. Handling Missing Values**"
      ]
    },
    {
      "cell_type": "code",
      "execution_count": null,
      "metadata": {
        "colab": {
          "base_uri": "https://localhost:8080/"
        },
        "id": "4JsGEV3R1mAt",
        "outputId": "0e4c31bf-c5a0-4d4c-d11a-9e20cda3c6ab"
      },
      "outputs": [
        {
          "output_type": "stream",
          "name": "stdout",
          "text": [
            "       A      B\n",
            "0  False   True\n",
            "1  False  False\n",
            "2   True  False\n",
            "     A    B\n",
            "0  1.0  0.0\n",
            "1  2.0  5.0\n",
            "2  0.0  6.0\n",
            "     A    B\n",
            "1  2.0  5.0\n"
          ]
        }
      ],
      "source": [
        "df = pd.DataFrame({\n",
        "    \"A\": [1, 2, None],\n",
        "    \"B\": [None, 5, 6]\n",
        "})\n",
        "\n",
        "print(df.isnull())          # Check missing\n",
        "print(df.fillna(0))         # Replace missing with 0\n",
        "print(df.dropna())          # Drop missing rows\n"
      ]
    },
    {
      "cell_type": "markdown",
      "metadata": {
        "id": "uEbnBL2K1x5o"
      },
      "source": [
        "**10. Sorting Data**"
      ]
    },
    {
      "cell_type": "code",
      "execution_count": null,
      "metadata": {
        "colab": {
          "base_uri": "https://localhost:8080/"
        },
        "id": "emNnZCrH1ueY",
        "outputId": "32d32f04-969b-430e-eed5-e306367f2e35"
      },
      "outputs": [
        {
          "output_type": "stream",
          "name": "stdout",
          "text": [
            "      Name  Age        City\n",
            "0    Alice   26       Dhaka\n",
            "1      Bob   31  Chittagong\n",
            "2  Charlie   36    Rajshahi\n",
            "      Name  Age        City\n",
            "2  Charlie   36    Rajshahi\n",
            "1      Bob   31  Chittagong\n",
            "0    Alice   26       Dhaka\n"
          ]
        }
      ],
      "source": [
        "print(df_with_age.sort_values(\"Age\"))         # Ascending\n",
        "print(df_with_age.sort_values(\"Age\", ascending=False))  # Descending"
      ]
    },
    {
      "cell_type": "markdown",
      "metadata": {
        "id": "CMrFZzfK16wH"
      },
      "source": [
        "**11. Grouping Data**"
      ]
    },
    {
      "cell_type": "code",
      "execution_count": null,
      "metadata": {
        "colab": {
          "base_uri": "https://localhost:8080/"
        },
        "id": "leC5jc-d116S",
        "outputId": "e334bcf9-a133-4d9f-aefc-afd0375d2a71"
      },
      "outputs": [
        {
          "output_type": "stream",
          "name": "stdout",
          "text": [
            "City\n",
            "Chittagong    31.0\n",
            "Dhaka         26.0\n",
            "Rajshahi      36.0\n",
            "Name: Age, dtype: float64\n"
          ]
        }
      ],
      "source": [
        "print(df_with_age.groupby(\"City\")[\"Age\"].mean())  # Average age by city"
      ]
    },
    {
      "cell_type": "markdown",
      "metadata": {
        "id": "vrwP7jDe2BUf"
      },
      "source": [
        "**12. Exporting to CSV**"
      ]
    },
    {
      "cell_type": "code",
      "execution_count": null,
      "metadata": {
        "id": "3XOp-Ue519O1"
      },
      "outputs": [],
      "source": [
        "df.to_csv(\"output.csv\", index=False)\n"
      ]
    },
    {
      "cell_type": "code",
      "execution_count": null,
      "metadata": {
        "colab": {
          "base_uri": "https://localhost:8080/"
        },
        "id": "LMwbz4Lp2Dln",
        "outputId": "c957a4ed-6e03-4495-a680-730402479cdb"
      },
      "outputs": [
        {
          "output_type": "stream",
          "name": "stdout",
          "text": [
            "Mounted at /content/drive\n"
          ]
        }
      ],
      "source": [
        "from google.colab import drive\n",
        "drive.mount('/content/drive')\n"
      ]
    },
    {
      "cell_type": "code",
      "execution_count": null,
      "metadata": {
        "id": "WZ0EqWQpjbsM"
      },
      "outputs": [],
      "source": [
        "import pandas as pd\n",
        "df1 = pd.read_csv('/content/drive/MyDrive/AI Training/Loan_Modelling.csv')"
      ]
    },
    {
      "cell_type": "code",
      "execution_count": null,
      "metadata": {
        "colab": {
          "base_uri": "https://localhost:8080/"
        },
        "id": "iyq3JSX_wEoJ",
        "outputId": "2dce3094-d0ea-4a6c-8552-94ebd82851a6"
      },
      "outputs": [
        {
          "output_type": "stream",
          "name": "stdout",
          "text": [
            "ID                        2.0\n",
            "Age                      45.0\n",
            "Experience               19.0\n",
            "Income                   34.0\n",
            "ZIPCode               90089.0\n",
            "Family                    3.0\n",
            "CCAvg                     1.5\n",
            "Education                 1.0\n",
            "Mortgage                  0.0\n",
            "Personal_Loan             0.0\n",
            "Securities_Account        1.0\n",
            "CD_Account                0.0\n",
            "Online                    0.0\n",
            "CreditCard                0.0\n",
            "Name: 1, dtype: float64\n"
          ]
        }
      ],
      "source": [
        "print(df1.loc[1])           # Access first row by label"
      ]
    },
    {
      "cell_type": "code",
      "execution_count": null,
      "metadata": {
        "colab": {
          "base_uri": "https://localhost:8080/"
        },
        "id": "BbeIuLhpwqun",
        "outputId": "8fcf0f72-ceb0-4229-9c59-326711452d89"
      },
      "outputs": [
        {
          "output_type": "stream",
          "name": "stdout",
          "text": [
            "ID                        2.0\n",
            "Age                      45.0\n",
            "Experience               19.0\n",
            "Income                   34.0\n",
            "ZIPCode               90089.0\n",
            "Family                    3.0\n",
            "CCAvg                     1.5\n",
            "Education                 1.0\n",
            "Mortgage                  0.0\n",
            "Personal_Loan             0.0\n",
            "Securities_Account        1.0\n",
            "CD_Account                0.0\n",
            "Online                    0.0\n",
            "CreditCard                0.0\n",
            "Name: 1, dtype: float64\n"
          ]
        }
      ],
      "source": [
        "print(df1.iloc[1])          # Access first row by index"
      ]
    },
    {
      "cell_type": "code",
      "execution_count": null,
      "metadata": {
        "colab": {
          "base_uri": "https://localhost:8080/",
          "height": 351
        },
        "id": "37ch_7QukeS8",
        "outputId": "1646ea49-509f-48b9-fe21-4364c62202f2"
      },
      "outputs": [
        {
          "output_type": "execute_result",
          "data": {
            "text/plain": [
              "   ID  Age  Experience  Income  ZIPCode  Family  CCAvg  Education  Mortgage  \\\n",
              "0   1   25           1      49    91107       4    1.6          1         0   \n",
              "1   2   45          19      34    90089       3    1.5          1         0   \n",
              "2   3   39          15      11    94720       1    1.0          1         0   \n",
              "3   4   35           9     100    94112       1    2.7          2         0   \n",
              "4   5   35           8      45    91330       4    1.0          2         0   \n",
              "5   6   37          13      29    92121       4    0.4          2       155   \n",
              "6   7   53          27      72    91711       2    1.5          2         0   \n",
              "7   8   50          24      22    93943       1    0.3          3         0   \n",
              "8   9   35          10      81    90089       3    0.6          2       104   \n",
              "\n",
              "   Personal_Loan  Securities_Account  CD_Account  Online  CreditCard  \n",
              "0              0                   1           0       0           0  \n",
              "1              0                   1           0       0           0  \n",
              "2              0                   0           0       0           0  \n",
              "3              0                   0           0       0           0  \n",
              "4              0                   0           0       0           1  \n",
              "5              0                   0           0       1           0  \n",
              "6              0                   0           0       1           0  \n",
              "7              0                   0           0       0           1  \n",
              "8              0                   0           0       1           0  "
            ],
            "text/html": [
              "\n",
              "  <div id=\"df-d0d306f6-7146-417c-9a57-3038c32a796f\" class=\"colab-df-container\">\n",
              "    <div>\n",
              "<style scoped>\n",
              "    .dataframe tbody tr th:only-of-type {\n",
              "        vertical-align: middle;\n",
              "    }\n",
              "\n",
              "    .dataframe tbody tr th {\n",
              "        vertical-align: top;\n",
              "    }\n",
              "\n",
              "    .dataframe thead th {\n",
              "        text-align: right;\n",
              "    }\n",
              "</style>\n",
              "<table border=\"1\" class=\"dataframe\">\n",
              "  <thead>\n",
              "    <tr style=\"text-align: right;\">\n",
              "      <th></th>\n",
              "      <th>ID</th>\n",
              "      <th>Age</th>\n",
              "      <th>Experience</th>\n",
              "      <th>Income</th>\n",
              "      <th>ZIPCode</th>\n",
              "      <th>Family</th>\n",
              "      <th>CCAvg</th>\n",
              "      <th>Education</th>\n",
              "      <th>Mortgage</th>\n",
              "      <th>Personal_Loan</th>\n",
              "      <th>Securities_Account</th>\n",
              "      <th>CD_Account</th>\n",
              "      <th>Online</th>\n",
              "      <th>CreditCard</th>\n",
              "    </tr>\n",
              "  </thead>\n",
              "  <tbody>\n",
              "    <tr>\n",
              "      <th>0</th>\n",
              "      <td>1</td>\n",
              "      <td>25</td>\n",
              "      <td>1</td>\n",
              "      <td>49</td>\n",
              "      <td>91107</td>\n",
              "      <td>4</td>\n",
              "      <td>1.6</td>\n",
              "      <td>1</td>\n",
              "      <td>0</td>\n",
              "      <td>0</td>\n",
              "      <td>1</td>\n",
              "      <td>0</td>\n",
              "      <td>0</td>\n",
              "      <td>0</td>\n",
              "    </tr>\n",
              "    <tr>\n",
              "      <th>1</th>\n",
              "      <td>2</td>\n",
              "      <td>45</td>\n",
              "      <td>19</td>\n",
              "      <td>34</td>\n",
              "      <td>90089</td>\n",
              "      <td>3</td>\n",
              "      <td>1.5</td>\n",
              "      <td>1</td>\n",
              "      <td>0</td>\n",
              "      <td>0</td>\n",
              "      <td>1</td>\n",
              "      <td>0</td>\n",
              "      <td>0</td>\n",
              "      <td>0</td>\n",
              "    </tr>\n",
              "    <tr>\n",
              "      <th>2</th>\n",
              "      <td>3</td>\n",
              "      <td>39</td>\n",
              "      <td>15</td>\n",
              "      <td>11</td>\n",
              "      <td>94720</td>\n",
              "      <td>1</td>\n",
              "      <td>1.0</td>\n",
              "      <td>1</td>\n",
              "      <td>0</td>\n",
              "      <td>0</td>\n",
              "      <td>0</td>\n",
              "      <td>0</td>\n",
              "      <td>0</td>\n",
              "      <td>0</td>\n",
              "    </tr>\n",
              "    <tr>\n",
              "      <th>3</th>\n",
              "      <td>4</td>\n",
              "      <td>35</td>\n",
              "      <td>9</td>\n",
              "      <td>100</td>\n",
              "      <td>94112</td>\n",
              "      <td>1</td>\n",
              "      <td>2.7</td>\n",
              "      <td>2</td>\n",
              "      <td>0</td>\n",
              "      <td>0</td>\n",
              "      <td>0</td>\n",
              "      <td>0</td>\n",
              "      <td>0</td>\n",
              "      <td>0</td>\n",
              "    </tr>\n",
              "    <tr>\n",
              "      <th>4</th>\n",
              "      <td>5</td>\n",
              "      <td>35</td>\n",
              "      <td>8</td>\n",
              "      <td>45</td>\n",
              "      <td>91330</td>\n",
              "      <td>4</td>\n",
              "      <td>1.0</td>\n",
              "      <td>2</td>\n",
              "      <td>0</td>\n",
              "      <td>0</td>\n",
              "      <td>0</td>\n",
              "      <td>0</td>\n",
              "      <td>0</td>\n",
              "      <td>1</td>\n",
              "    </tr>\n",
              "    <tr>\n",
              "      <th>5</th>\n",
              "      <td>6</td>\n",
              "      <td>37</td>\n",
              "      <td>13</td>\n",
              "      <td>29</td>\n",
              "      <td>92121</td>\n",
              "      <td>4</td>\n",
              "      <td>0.4</td>\n",
              "      <td>2</td>\n",
              "      <td>155</td>\n",
              "      <td>0</td>\n",
              "      <td>0</td>\n",
              "      <td>0</td>\n",
              "      <td>1</td>\n",
              "      <td>0</td>\n",
              "    </tr>\n",
              "    <tr>\n",
              "      <th>6</th>\n",
              "      <td>7</td>\n",
              "      <td>53</td>\n",
              "      <td>27</td>\n",
              "      <td>72</td>\n",
              "      <td>91711</td>\n",
              "      <td>2</td>\n",
              "      <td>1.5</td>\n",
              "      <td>2</td>\n",
              "      <td>0</td>\n",
              "      <td>0</td>\n",
              "      <td>0</td>\n",
              "      <td>0</td>\n",
              "      <td>1</td>\n",
              "      <td>0</td>\n",
              "    </tr>\n",
              "    <tr>\n",
              "      <th>7</th>\n",
              "      <td>8</td>\n",
              "      <td>50</td>\n",
              "      <td>24</td>\n",
              "      <td>22</td>\n",
              "      <td>93943</td>\n",
              "      <td>1</td>\n",
              "      <td>0.3</td>\n",
              "      <td>3</td>\n",
              "      <td>0</td>\n",
              "      <td>0</td>\n",
              "      <td>0</td>\n",
              "      <td>0</td>\n",
              "      <td>0</td>\n",
              "      <td>1</td>\n",
              "    </tr>\n",
              "    <tr>\n",
              "      <th>8</th>\n",
              "      <td>9</td>\n",
              "      <td>35</td>\n",
              "      <td>10</td>\n",
              "      <td>81</td>\n",
              "      <td>90089</td>\n",
              "      <td>3</td>\n",
              "      <td>0.6</td>\n",
              "      <td>2</td>\n",
              "      <td>104</td>\n",
              "      <td>0</td>\n",
              "      <td>0</td>\n",
              "      <td>0</td>\n",
              "      <td>1</td>\n",
              "      <td>0</td>\n",
              "    </tr>\n",
              "  </tbody>\n",
              "</table>\n",
              "</div>\n",
              "    <div class=\"colab-df-buttons\">\n",
              "\n",
              "  <div class=\"colab-df-container\">\n",
              "    <button class=\"colab-df-convert\" onclick=\"convertToInteractive('df-d0d306f6-7146-417c-9a57-3038c32a796f')\"\n",
              "            title=\"Convert this dataframe to an interactive table.\"\n",
              "            style=\"display:none;\">\n",
              "\n",
              "  <svg xmlns=\"http://www.w3.org/2000/svg\" height=\"24px\" viewBox=\"0 -960 960 960\">\n",
              "    <path d=\"M120-120v-720h720v720H120Zm60-500h600v-160H180v160Zm220 220h160v-160H400v160Zm0 220h160v-160H400v160ZM180-400h160v-160H180v160Zm440 0h160v-160H620v160ZM180-180h160v-160H180v160Zm440 0h160v-160H620v160Z\"/>\n",
              "  </svg>\n",
              "    </button>\n",
              "\n",
              "  <style>\n",
              "    .colab-df-container {\n",
              "      display:flex;\n",
              "      gap: 12px;\n",
              "    }\n",
              "\n",
              "    .colab-df-convert {\n",
              "      background-color: #E8F0FE;\n",
              "      border: none;\n",
              "      border-radius: 50%;\n",
              "      cursor: pointer;\n",
              "      display: none;\n",
              "      fill: #1967D2;\n",
              "      height: 32px;\n",
              "      padding: 0 0 0 0;\n",
              "      width: 32px;\n",
              "    }\n",
              "\n",
              "    .colab-df-convert:hover {\n",
              "      background-color: #E2EBFA;\n",
              "      box-shadow: 0px 1px 2px rgba(60, 64, 67, 0.3), 0px 1px 3px 1px rgba(60, 64, 67, 0.15);\n",
              "      fill: #174EA6;\n",
              "    }\n",
              "\n",
              "    .colab-df-buttons div {\n",
              "      margin-bottom: 4px;\n",
              "    }\n",
              "\n",
              "    [theme=dark] .colab-df-convert {\n",
              "      background-color: #3B4455;\n",
              "      fill: #D2E3FC;\n",
              "    }\n",
              "\n",
              "    [theme=dark] .colab-df-convert:hover {\n",
              "      background-color: #434B5C;\n",
              "      box-shadow: 0px 1px 3px 1px rgba(0, 0, 0, 0.15);\n",
              "      filter: drop-shadow(0px 1px 2px rgba(0, 0, 0, 0.3));\n",
              "      fill: #FFFFFF;\n",
              "    }\n",
              "  </style>\n",
              "\n",
              "    <script>\n",
              "      const buttonEl =\n",
              "        document.querySelector('#df-d0d306f6-7146-417c-9a57-3038c32a796f button.colab-df-convert');\n",
              "      buttonEl.style.display =\n",
              "        google.colab.kernel.accessAllowed ? 'block' : 'none';\n",
              "\n",
              "      async function convertToInteractive(key) {\n",
              "        const element = document.querySelector('#df-d0d306f6-7146-417c-9a57-3038c32a796f');\n",
              "        const dataTable =\n",
              "          await google.colab.kernel.invokeFunction('convertToInteractive',\n",
              "                                                    [key], {});\n",
              "        if (!dataTable) return;\n",
              "\n",
              "        const docLinkHtml = 'Like what you see? Visit the ' +\n",
              "          '<a target=\"_blank\" href=https://colab.research.google.com/notebooks/data_table.ipynb>data table notebook</a>'\n",
              "          + ' to learn more about interactive tables.';\n",
              "        element.innerHTML = '';\n",
              "        dataTable['output_type'] = 'display_data';\n",
              "        await google.colab.output.renderOutput(dataTable, element);\n",
              "        const docLink = document.createElement('div');\n",
              "        docLink.innerHTML = docLinkHtml;\n",
              "        element.appendChild(docLink);\n",
              "      }\n",
              "    </script>\n",
              "  </div>\n",
              "\n",
              "\n",
              "    <div id=\"df-304f117a-41fa-442a-addd-421a66e714bd\">\n",
              "      <button class=\"colab-df-quickchart\" onclick=\"quickchart('df-304f117a-41fa-442a-addd-421a66e714bd')\"\n",
              "                title=\"Suggest charts\"\n",
              "                style=\"display:none;\">\n",
              "\n",
              "<svg xmlns=\"http://www.w3.org/2000/svg\" height=\"24px\"viewBox=\"0 0 24 24\"\n",
              "     width=\"24px\">\n",
              "    <g>\n",
              "        <path d=\"M19 3H5c-1.1 0-2 .9-2 2v14c0 1.1.9 2 2 2h14c1.1 0 2-.9 2-2V5c0-1.1-.9-2-2-2zM9 17H7v-7h2v7zm4 0h-2V7h2v10zm4 0h-2v-4h2v4z\"/>\n",
              "    </g>\n",
              "</svg>\n",
              "      </button>\n",
              "\n",
              "<style>\n",
              "  .colab-df-quickchart {\n",
              "      --bg-color: #E8F0FE;\n",
              "      --fill-color: #1967D2;\n",
              "      --hover-bg-color: #E2EBFA;\n",
              "      --hover-fill-color: #174EA6;\n",
              "      --disabled-fill-color: #AAA;\n",
              "      --disabled-bg-color: #DDD;\n",
              "  }\n",
              "\n",
              "  [theme=dark] .colab-df-quickchart {\n",
              "      --bg-color: #3B4455;\n",
              "      --fill-color: #D2E3FC;\n",
              "      --hover-bg-color: #434B5C;\n",
              "      --hover-fill-color: #FFFFFF;\n",
              "      --disabled-bg-color: #3B4455;\n",
              "      --disabled-fill-color: #666;\n",
              "  }\n",
              "\n",
              "  .colab-df-quickchart {\n",
              "    background-color: var(--bg-color);\n",
              "    border: none;\n",
              "    border-radius: 50%;\n",
              "    cursor: pointer;\n",
              "    display: none;\n",
              "    fill: var(--fill-color);\n",
              "    height: 32px;\n",
              "    padding: 0;\n",
              "    width: 32px;\n",
              "  }\n",
              "\n",
              "  .colab-df-quickchart:hover {\n",
              "    background-color: var(--hover-bg-color);\n",
              "    box-shadow: 0 1px 2px rgba(60, 64, 67, 0.3), 0 1px 3px 1px rgba(60, 64, 67, 0.15);\n",
              "    fill: var(--button-hover-fill-color);\n",
              "  }\n",
              "\n",
              "  .colab-df-quickchart-complete:disabled,\n",
              "  .colab-df-quickchart-complete:disabled:hover {\n",
              "    background-color: var(--disabled-bg-color);\n",
              "    fill: var(--disabled-fill-color);\n",
              "    box-shadow: none;\n",
              "  }\n",
              "\n",
              "  .colab-df-spinner {\n",
              "    border: 2px solid var(--fill-color);\n",
              "    border-color: transparent;\n",
              "    border-bottom-color: var(--fill-color);\n",
              "    animation:\n",
              "      spin 1s steps(1) infinite;\n",
              "  }\n",
              "\n",
              "  @keyframes spin {\n",
              "    0% {\n",
              "      border-color: transparent;\n",
              "      border-bottom-color: var(--fill-color);\n",
              "      border-left-color: var(--fill-color);\n",
              "    }\n",
              "    20% {\n",
              "      border-color: transparent;\n",
              "      border-left-color: var(--fill-color);\n",
              "      border-top-color: var(--fill-color);\n",
              "    }\n",
              "    30% {\n",
              "      border-color: transparent;\n",
              "      border-left-color: var(--fill-color);\n",
              "      border-top-color: var(--fill-color);\n",
              "      border-right-color: var(--fill-color);\n",
              "    }\n",
              "    40% {\n",
              "      border-color: transparent;\n",
              "      border-right-color: var(--fill-color);\n",
              "      border-top-color: var(--fill-color);\n",
              "    }\n",
              "    60% {\n",
              "      border-color: transparent;\n",
              "      border-right-color: var(--fill-color);\n",
              "    }\n",
              "    80% {\n",
              "      border-color: transparent;\n",
              "      border-right-color: var(--fill-color);\n",
              "      border-bottom-color: var(--fill-color);\n",
              "    }\n",
              "    90% {\n",
              "      border-color: transparent;\n",
              "      border-bottom-color: var(--fill-color);\n",
              "    }\n",
              "  }\n",
              "</style>\n",
              "\n",
              "      <script>\n",
              "        async function quickchart(key) {\n",
              "          const quickchartButtonEl =\n",
              "            document.querySelector('#' + key + ' button');\n",
              "          quickchartButtonEl.disabled = true;  // To prevent multiple clicks.\n",
              "          quickchartButtonEl.classList.add('colab-df-spinner');\n",
              "          try {\n",
              "            const charts = await google.colab.kernel.invokeFunction(\n",
              "                'suggestCharts', [key], {});\n",
              "          } catch (error) {\n",
              "            console.error('Error during call to suggestCharts:', error);\n",
              "          }\n",
              "          quickchartButtonEl.classList.remove('colab-df-spinner');\n",
              "          quickchartButtonEl.classList.add('colab-df-quickchart-complete');\n",
              "        }\n",
              "        (() => {\n",
              "          let quickchartButtonEl =\n",
              "            document.querySelector('#df-304f117a-41fa-442a-addd-421a66e714bd button');\n",
              "          quickchartButtonEl.style.display =\n",
              "            google.colab.kernel.accessAllowed ? 'block' : 'none';\n",
              "        })();\n",
              "      </script>\n",
              "    </div>\n",
              "\n",
              "    </div>\n",
              "  </div>\n"
            ],
            "application/vnd.google.colaboratory.intrinsic+json": {
              "type": "dataframe",
              "variable_name": "df1",
              "summary": "{\n  \"name\": \"df1\",\n  \"rows\": 5000,\n  \"fields\": [\n    {\n      \"column\": \"ID\",\n      \"properties\": {\n        \"dtype\": \"number\",\n        \"std\": 1443,\n        \"min\": 1,\n        \"max\": 5000,\n        \"num_unique_values\": 5000,\n        \"samples\": [\n          1502,\n          2587,\n          2654\n        ],\n        \"semantic_type\": \"\",\n        \"description\": \"\"\n      }\n    },\n    {\n      \"column\": \"Age\",\n      \"properties\": {\n        \"dtype\": \"number\",\n        \"std\": 11,\n        \"min\": 23,\n        \"max\": 67,\n        \"num_unique_values\": 45,\n        \"samples\": [\n          24,\n          31,\n          51\n        ],\n        \"semantic_type\": \"\",\n        \"description\": \"\"\n      }\n    },\n    {\n      \"column\": \"Experience\",\n      \"properties\": {\n        \"dtype\": \"number\",\n        \"std\": 11,\n        \"min\": -3,\n        \"max\": 43,\n        \"num_unique_values\": 47,\n        \"samples\": [\n          12,\n          38,\n          7\n        ],\n        \"semantic_type\": \"\",\n        \"description\": \"\"\n      }\n    },\n    {\n      \"column\": \"Income\",\n      \"properties\": {\n        \"dtype\": \"number\",\n        \"std\": 46,\n        \"min\": 8,\n        \"max\": 224,\n        \"num_unique_values\": 162,\n        \"samples\": [\n          151,\n          75,\n          182\n        ],\n        \"semantic_type\": \"\",\n        \"description\": \"\"\n      }\n    },\n    {\n      \"column\": \"ZIPCode\",\n      \"properties\": {\n        \"dtype\": \"number\",\n        \"std\": 1759,\n        \"min\": 90005,\n        \"max\": 96651,\n        \"num_unique_values\": 467,\n        \"samples\": [\n          91335,\n          95134,\n          92672\n        ],\n        \"semantic_type\": \"\",\n        \"description\": \"\"\n      }\n    },\n    {\n      \"column\": \"Family\",\n      \"properties\": {\n        \"dtype\": \"number\",\n        \"std\": 1,\n        \"min\": 1,\n        \"max\": 4,\n        \"num_unique_values\": 4,\n        \"samples\": [\n          3,\n          2,\n          4\n        ],\n        \"semantic_type\": \"\",\n        \"description\": \"\"\n      }\n    },\n    {\n      \"column\": \"CCAvg\",\n      \"properties\": {\n        \"dtype\": \"number\",\n        \"std\": 1.7476589800467723,\n        \"min\": 0.0,\n        \"max\": 10.0,\n        \"num_unique_values\": 108,\n        \"samples\": [\n          3.4,\n          3.8,\n          0.4\n        ],\n        \"semantic_type\": \"\",\n        \"description\": \"\"\n      }\n    },\n    {\n      \"column\": \"Education\",\n      \"properties\": {\n        \"dtype\": \"number\",\n        \"std\": 0,\n        \"min\": 1,\n        \"max\": 3,\n        \"num_unique_values\": 3,\n        \"samples\": [\n          1,\n          2,\n          3\n        ],\n        \"semantic_type\": \"\",\n        \"description\": \"\"\n      }\n    },\n    {\n      \"column\": \"Mortgage\",\n      \"properties\": {\n        \"dtype\": \"number\",\n        \"std\": 101,\n        \"min\": 0,\n        \"max\": 635,\n        \"num_unique_values\": 347,\n        \"samples\": [\n          330,\n          314,\n          258\n        ],\n        \"semantic_type\": \"\",\n        \"description\": \"\"\n      }\n    },\n    {\n      \"column\": \"Personal_Loan\",\n      \"properties\": {\n        \"dtype\": \"number\",\n        \"std\": 0,\n        \"min\": 0,\n        \"max\": 1,\n        \"num_unique_values\": 2,\n        \"samples\": [\n          1,\n          0\n        ],\n        \"semantic_type\": \"\",\n        \"description\": \"\"\n      }\n    },\n    {\n      \"column\": \"Securities_Account\",\n      \"properties\": {\n        \"dtype\": \"number\",\n        \"std\": 0,\n        \"min\": 0,\n        \"max\": 1,\n        \"num_unique_values\": 2,\n        \"samples\": [\n          0,\n          1\n        ],\n        \"semantic_type\": \"\",\n        \"description\": \"\"\n      }\n    },\n    {\n      \"column\": \"CD_Account\",\n      \"properties\": {\n        \"dtype\": \"number\",\n        \"std\": 0,\n        \"min\": 0,\n        \"max\": 1,\n        \"num_unique_values\": 2,\n        \"samples\": [\n          1,\n          0\n        ],\n        \"semantic_type\": \"\",\n        \"description\": \"\"\n      }\n    },\n    {\n      \"column\": \"Online\",\n      \"properties\": {\n        \"dtype\": \"number\",\n        \"std\": 0,\n        \"min\": 0,\n        \"max\": 1,\n        \"num_unique_values\": 2,\n        \"samples\": [\n          1,\n          0\n        ],\n        \"semantic_type\": \"\",\n        \"description\": \"\"\n      }\n    },\n    {\n      \"column\": \"CreditCard\",\n      \"properties\": {\n        \"dtype\": \"number\",\n        \"std\": 0,\n        \"min\": 0,\n        \"max\": 1,\n        \"num_unique_values\": 2,\n        \"samples\": [\n          1,\n          0\n        ],\n        \"semantic_type\": \"\",\n        \"description\": \"\"\n      }\n    }\n  ]\n}"
            }
          },
          "metadata": {},
          "execution_count": 34
        }
      ],
      "source": [
        "df1.head(9)"
      ]
    },
    {
      "cell_type": "code",
      "execution_count": null,
      "metadata": {
        "colab": {
          "base_uri": "https://localhost:8080/"
        },
        "id": "vkLcz3pVyHsI",
        "outputId": "fb344dcd-8bf5-4520-8837-82cb58a60eaa"
      },
      "outputs": [
        {
          "output_type": "stream",
          "name": "stdout",
          "text": [
            "        ID  Age  Experience  Income  ZIPCode  Family  CCAvg  Education  \\\n",
            "3896  3897   48          24     224    93940       2   6.67          1   \n",
            "4993  4994   45          21     218    91801       2   6.67          1   \n",
            "\n",
            "      Mortgage  Personal_Loan  Securities_Account  CD_Account  Online  \\\n",
            "3896         0              0                   0           1       1   \n",
            "4993         0              0                   0           0       1   \n",
            "\n",
            "      CreditCard  \n",
            "3896           1  \n",
            "4993           0  \n"
          ]
        }
      ],
      "source": [
        "# Filter the DataFrame to get people Income Greater than 99\n",
        "print(df1[df1[\"Income\"] > 207])"
      ]
    },
    {
      "cell_type": "code",
      "execution_count": null,
      "metadata": {
        "id": "yxNRCI3gyBEo"
      },
      "outputs": [],
      "source": []
    },
    {
      "cell_type": "code",
      "execution_count": null,
      "metadata": {
        "colab": {
          "base_uri": "https://localhost:8080/"
        },
        "id": "LCOQ-lzRszmQ",
        "outputId": "6062a996-5cce-4053-eb06-76ad26c031c4"
      },
      "outputs": [
        {
          "output_type": "stream",
          "name": "stdout",
          "text": [
            "0       91107\n",
            "1       90089\n",
            "2       94720\n",
            "3       94112\n",
            "4       91330\n",
            "        ...  \n",
            "4995    92697\n",
            "4996    92037\n",
            "4997    93023\n",
            "4998    90034\n",
            "4999    92612\n",
            "Name: ZIPCode, Length: 5000, dtype: int64\n"
          ]
        }
      ],
      "source": [
        "print(df1[\"ZIPCode\"])          # Access column"
      ]
    },
    {
      "cell_type": "code",
      "execution_count": null,
      "metadata": {
        "colab": {
          "base_uri": "https://localhost:8080/"
        },
        "id": "KHbfyW9SvHzi",
        "outputId": "3bfde70b-63ee-4774-d9a9-f70b9b7d7cf9"
      },
      "outputs": [
        {
          "output_type": "stream",
          "name": "stdout",
          "text": [
            "      Family  Mortgage  ZIPCode\n",
            "0          4         0    91107\n",
            "1          3         0    90089\n",
            "2          1         0    94720\n",
            "3          1         0    94112\n",
            "4          4         0    91330\n",
            "...      ...       ...      ...\n",
            "4995       1         0    92697\n",
            "4996       4        85    92037\n",
            "4997       2         0    93023\n",
            "4998       3         0    90034\n",
            "4999       3         0    92612\n",
            "\n",
            "[5000 rows x 3 columns]\n"
          ]
        }
      ],
      "source": [
        "print(df1[[\"Family\", \"Mortgage\",\"ZIPCode\"]])  # Multiple columns"
      ]
    },
    {
      "cell_type": "code",
      "execution_count": null,
      "metadata": {
        "colab": {
          "base_uri": "https://localhost:8080/",
          "height": 143
        },
        "id": "K2mDjkvXk8gj",
        "outputId": "e3a9629c-5571-4c1a-cace-e266db5e9df3"
      },
      "outputs": [
        {
          "output_type": "execute_result",
          "data": {
            "text/plain": [
              "     A    B\n",
              "0  1.0  NaN\n",
              "1  2.0  5.0\n",
              "2  NaN  6.0"
            ],
            "text/html": [
              "\n",
              "  <div id=\"df-730d1ffd-aee3-43dc-b676-02e312b7147f\" class=\"colab-df-container\">\n",
              "    <div>\n",
              "<style scoped>\n",
              "    .dataframe tbody tr th:only-of-type {\n",
              "        vertical-align: middle;\n",
              "    }\n",
              "\n",
              "    .dataframe tbody tr th {\n",
              "        vertical-align: top;\n",
              "    }\n",
              "\n",
              "    .dataframe thead th {\n",
              "        text-align: right;\n",
              "    }\n",
              "</style>\n",
              "<table border=\"1\" class=\"dataframe\">\n",
              "  <thead>\n",
              "    <tr style=\"text-align: right;\">\n",
              "      <th></th>\n",
              "      <th>A</th>\n",
              "      <th>B</th>\n",
              "    </tr>\n",
              "  </thead>\n",
              "  <tbody>\n",
              "    <tr>\n",
              "      <th>0</th>\n",
              "      <td>1.0</td>\n",
              "      <td>NaN</td>\n",
              "    </tr>\n",
              "    <tr>\n",
              "      <th>1</th>\n",
              "      <td>2.0</td>\n",
              "      <td>5.0</td>\n",
              "    </tr>\n",
              "    <tr>\n",
              "      <th>2</th>\n",
              "      <td>NaN</td>\n",
              "      <td>6.0</td>\n",
              "    </tr>\n",
              "  </tbody>\n",
              "</table>\n",
              "</div>\n",
              "    <div class=\"colab-df-buttons\">\n",
              "\n",
              "  <div class=\"colab-df-container\">\n",
              "    <button class=\"colab-df-convert\" onclick=\"convertToInteractive('df-730d1ffd-aee3-43dc-b676-02e312b7147f')\"\n",
              "            title=\"Convert this dataframe to an interactive table.\"\n",
              "            style=\"display:none;\">\n",
              "\n",
              "  <svg xmlns=\"http://www.w3.org/2000/svg\" height=\"24px\" viewBox=\"0 -960 960 960\">\n",
              "    <path d=\"M120-120v-720h720v720H120Zm60-500h600v-160H180v160Zm220 220h160v-160H400v160Zm0 220h160v-160H400v160ZM180-400h160v-160H180v160Zm440 0h160v-160H620v160ZM180-180h160v-160H180v160Zm440 0h160v-160H620v160Z\"/>\n",
              "  </svg>\n",
              "    </button>\n",
              "\n",
              "  <style>\n",
              "    .colab-df-container {\n",
              "      display:flex;\n",
              "      gap: 12px;\n",
              "    }\n",
              "\n",
              "    .colab-df-convert {\n",
              "      background-color: #E8F0FE;\n",
              "      border: none;\n",
              "      border-radius: 50%;\n",
              "      cursor: pointer;\n",
              "      display: none;\n",
              "      fill: #1967D2;\n",
              "      height: 32px;\n",
              "      padding: 0 0 0 0;\n",
              "      width: 32px;\n",
              "    }\n",
              "\n",
              "    .colab-df-convert:hover {\n",
              "      background-color: #E2EBFA;\n",
              "      box-shadow: 0px 1px 2px rgba(60, 64, 67, 0.3), 0px 1px 3px 1px rgba(60, 64, 67, 0.15);\n",
              "      fill: #174EA6;\n",
              "    }\n",
              "\n",
              "    .colab-df-buttons div {\n",
              "      margin-bottom: 4px;\n",
              "    }\n",
              "\n",
              "    [theme=dark] .colab-df-convert {\n",
              "      background-color: #3B4455;\n",
              "      fill: #D2E3FC;\n",
              "    }\n",
              "\n",
              "    [theme=dark] .colab-df-convert:hover {\n",
              "      background-color: #434B5C;\n",
              "      box-shadow: 0px 1px 3px 1px rgba(0, 0, 0, 0.15);\n",
              "      filter: drop-shadow(0px 1px 2px rgba(0, 0, 0, 0.3));\n",
              "      fill: #FFFFFF;\n",
              "    }\n",
              "  </style>\n",
              "\n",
              "    <script>\n",
              "      const buttonEl =\n",
              "        document.querySelector('#df-730d1ffd-aee3-43dc-b676-02e312b7147f button.colab-df-convert');\n",
              "      buttonEl.style.display =\n",
              "        google.colab.kernel.accessAllowed ? 'block' : 'none';\n",
              "\n",
              "      async function convertToInteractive(key) {\n",
              "        const element = document.querySelector('#df-730d1ffd-aee3-43dc-b676-02e312b7147f');\n",
              "        const dataTable =\n",
              "          await google.colab.kernel.invokeFunction('convertToInteractive',\n",
              "                                                    [key], {});\n",
              "        if (!dataTable) return;\n",
              "\n",
              "        const docLinkHtml = 'Like what you see? Visit the ' +\n",
              "          '<a target=\"_blank\" href=https://colab.research.google.com/notebooks/data_table.ipynb>data table notebook</a>'\n",
              "          + ' to learn more about interactive tables.';\n",
              "        element.innerHTML = '';\n",
              "        dataTable['output_type'] = 'display_data';\n",
              "        await google.colab.output.renderOutput(dataTable, element);\n",
              "        const docLink = document.createElement('div');\n",
              "        docLink.innerHTML = docLinkHtml;\n",
              "        element.appendChild(docLink);\n",
              "      }\n",
              "    </script>\n",
              "  </div>\n",
              "\n",
              "\n",
              "    <div id=\"df-b9361a3b-d6e8-4949-b0a0-1b26f66e2ada\">\n",
              "      <button class=\"colab-df-quickchart\" onclick=\"quickchart('df-b9361a3b-d6e8-4949-b0a0-1b26f66e2ada')\"\n",
              "                title=\"Suggest charts\"\n",
              "                style=\"display:none;\">\n",
              "\n",
              "<svg xmlns=\"http://www.w3.org/2000/svg\" height=\"24px\"viewBox=\"0 0 24 24\"\n",
              "     width=\"24px\">\n",
              "    <g>\n",
              "        <path d=\"M19 3H5c-1.1 0-2 .9-2 2v14c0 1.1.9 2 2 2h14c1.1 0 2-.9 2-2V5c0-1.1-.9-2-2-2zM9 17H7v-7h2v7zm4 0h-2V7h2v10zm4 0h-2v-4h2v4z\"/>\n",
              "    </g>\n",
              "</svg>\n",
              "      </button>\n",
              "\n",
              "<style>\n",
              "  .colab-df-quickchart {\n",
              "      --bg-color: #E8F0FE;\n",
              "      --fill-color: #1967D2;\n",
              "      --hover-bg-color: #E2EBFA;\n",
              "      --hover-fill-color: #174EA6;\n",
              "      --disabled-fill-color: #AAA;\n",
              "      --disabled-bg-color: #DDD;\n",
              "  }\n",
              "\n",
              "  [theme=dark] .colab-df-quickchart {\n",
              "      --bg-color: #3B4455;\n",
              "      --fill-color: #D2E3FC;\n",
              "      --hover-bg-color: #434B5C;\n",
              "      --hover-fill-color: #FFFFFF;\n",
              "      --disabled-bg-color: #3B4455;\n",
              "      --disabled-fill-color: #666;\n",
              "  }\n",
              "\n",
              "  .colab-df-quickchart {\n",
              "    background-color: var(--bg-color);\n",
              "    border: none;\n",
              "    border-radius: 50%;\n",
              "    cursor: pointer;\n",
              "    display: none;\n",
              "    fill: var(--fill-color);\n",
              "    height: 32px;\n",
              "    padding: 0;\n",
              "    width: 32px;\n",
              "  }\n",
              "\n",
              "  .colab-df-quickchart:hover {\n",
              "    background-color: var(--hover-bg-color);\n",
              "    box-shadow: 0 1px 2px rgba(60, 64, 67, 0.3), 0 1px 3px 1px rgba(60, 64, 67, 0.15);\n",
              "    fill: var(--button-hover-fill-color);\n",
              "  }\n",
              "\n",
              "  .colab-df-quickchart-complete:disabled,\n",
              "  .colab-df-quickchart-complete:disabled:hover {\n",
              "    background-color: var(--disabled-bg-color);\n",
              "    fill: var(--disabled-fill-color);\n",
              "    box-shadow: none;\n",
              "  }\n",
              "\n",
              "  .colab-df-spinner {\n",
              "    border: 2px solid var(--fill-color);\n",
              "    border-color: transparent;\n",
              "    border-bottom-color: var(--fill-color);\n",
              "    animation:\n",
              "      spin 1s steps(1) infinite;\n",
              "  }\n",
              "\n",
              "  @keyframes spin {\n",
              "    0% {\n",
              "      border-color: transparent;\n",
              "      border-bottom-color: var(--fill-color);\n",
              "      border-left-color: var(--fill-color);\n",
              "    }\n",
              "    20% {\n",
              "      border-color: transparent;\n",
              "      border-left-color: var(--fill-color);\n",
              "      border-top-color: var(--fill-color);\n",
              "    }\n",
              "    30% {\n",
              "      border-color: transparent;\n",
              "      border-left-color: var(--fill-color);\n",
              "      border-top-color: var(--fill-color);\n",
              "      border-right-color: var(--fill-color);\n",
              "    }\n",
              "    40% {\n",
              "      border-color: transparent;\n",
              "      border-right-color: var(--fill-color);\n",
              "      border-top-color: var(--fill-color);\n",
              "    }\n",
              "    60% {\n",
              "      border-color: transparent;\n",
              "      border-right-color: var(--fill-color);\n",
              "    }\n",
              "    80% {\n",
              "      border-color: transparent;\n",
              "      border-right-color: var(--fill-color);\n",
              "      border-bottom-color: var(--fill-color);\n",
              "    }\n",
              "    90% {\n",
              "      border-color: transparent;\n",
              "      border-bottom-color: var(--fill-color);\n",
              "    }\n",
              "  }\n",
              "</style>\n",
              "\n",
              "      <script>\n",
              "        async function quickchart(key) {\n",
              "          const quickchartButtonEl =\n",
              "            document.querySelector('#' + key + ' button');\n",
              "          quickchartButtonEl.disabled = true;  // To prevent multiple clicks.\n",
              "          quickchartButtonEl.classList.add('colab-df-spinner');\n",
              "          try {\n",
              "            const charts = await google.colab.kernel.invokeFunction(\n",
              "                'suggestCharts', [key], {});\n",
              "          } catch (error) {\n",
              "            console.error('Error during call to suggestCharts:', error);\n",
              "          }\n",
              "          quickchartButtonEl.classList.remove('colab-df-spinner');\n",
              "          quickchartButtonEl.classList.add('colab-df-quickchart-complete');\n",
              "        }\n",
              "        (() => {\n",
              "          let quickchartButtonEl =\n",
              "            document.querySelector('#df-b9361a3b-d6e8-4949-b0a0-1b26f66e2ada button');\n",
              "          quickchartButtonEl.style.display =\n",
              "            google.colab.kernel.accessAllowed ? 'block' : 'none';\n",
              "        })();\n",
              "      </script>\n",
              "    </div>\n",
              "\n",
              "    </div>\n",
              "  </div>\n"
            ],
            "application/vnd.google.colaboratory.intrinsic+json": {
              "type": "dataframe",
              "summary": "{\n  \"name\": \"df\",\n  \"rows\": 3,\n  \"fields\": [\n    {\n      \"column\": \"A\",\n      \"properties\": {\n        \"dtype\": \"number\",\n        \"std\": 0.7071067811865476,\n        \"min\": 1.0,\n        \"max\": 2.0,\n        \"num_unique_values\": 2,\n        \"samples\": [\n          2.0,\n          1.0\n        ],\n        \"semantic_type\": \"\",\n        \"description\": \"\"\n      }\n    },\n    {\n      \"column\": \"B\",\n      \"properties\": {\n        \"dtype\": \"number\",\n        \"std\": 0.7071067811865476,\n        \"min\": 5.0,\n        \"max\": 6.0,\n        \"num_unique_values\": 2,\n        \"samples\": [\n          6.0,\n          5.0\n        ],\n        \"semantic_type\": \"\",\n        \"description\": \"\"\n      }\n    }\n  ]\n}"
            }
          },
          "metadata": {},
          "execution_count": 38
        }
      ],
      "source": [
        "df.tail(10)"
      ]
    },
    {
      "cell_type": "code",
      "execution_count": null,
      "metadata": {
        "colab": {
          "base_uri": "https://localhost:8080/"
        },
        "id": "G4vaig4ylPiT",
        "outputId": "73477d3d-5f9d-4035-c5aa-0d0f57f89a02"
      },
      "outputs": [
        {
          "output_type": "stream",
          "name": "stdout",
          "text": [
            "(3, 2)\n",
            "Index(['A', 'B'], dtype='object')\n",
            "A    float64\n",
            "B    float64\n",
            "dtype: object\n",
            "<class 'pandas.core.frame.DataFrame'>\n",
            "RangeIndex: 3 entries, 0 to 2\n",
            "Data columns (total 2 columns):\n",
            " #   Column  Non-Null Count  Dtype  \n",
            "---  ------  --------------  -----  \n",
            " 0   A       2 non-null      float64\n",
            " 1   B       2 non-null      float64\n",
            "dtypes: float64(2)\n",
            "memory usage: 180.0 bytes\n",
            "None\n",
            "              A         B\n",
            "count  2.000000  2.000000\n",
            "mean   1.500000  5.500000\n",
            "std    0.707107  0.707107\n",
            "min    1.000000  5.000000\n",
            "25%    1.250000  5.250000\n",
            "50%    1.500000  5.500000\n",
            "75%    1.750000  5.750000\n",
            "max    2.000000  6.000000\n"
          ]
        }
      ],
      "source": [
        "print(df.shape)       # Rows and columns\n",
        "print(df.columns)     # Column names\n",
        "print(df.dtypes)      # Data types\n",
        "print(df.info())      # Summary\n",
        "print(df.describe())  # Statistics"
      ]
    },
    {
      "cell_type": "code",
      "execution_count": null,
      "metadata": {
        "id": "l4ASMxullPmk"
      },
      "outputs": [],
      "source": [
        "df2 = pd.read_excel('/content/drive/MyDrive/AI Training/MAT_216_S_04_ Spring 2025.xlsx')"
      ]
    },
    {
      "cell_type": "code",
      "execution_count": null,
      "metadata": {
        "colab": {
          "base_uri": "https://localhost:8080/",
          "height": 1000
        },
        "id": "nxXnhBLP6LBj",
        "outputId": "4cc4285d-60bc-4478-a564-97e0a3bb5785"
      },
      "outputs": [
        {
          "output_type": "execute_result",
          "data": {
            "text/plain": [
              "   Unnamed: 0     Unnamed: 1  \\\n",
              "0         NaN            NaN   \n",
              "1         NaN            NaN   \n",
              "2         NaN            NaN   \n",
              "3         NaN    Course No :   \n",
              "4         NaN  Course Title:   \n",
              "5         NaN       Section:   \n",
              "6         NaN  Faculty Name:   \n",
              "7        SL #   STUDENT ID #   \n",
              "8         NaN            NaN   \n",
              "9           1       19101307   \n",
              "10          2       21101289   \n",
              "11          3       22101391   \n",
              "12          4       22201238   \n",
              "13          5       22201466   \n",
              "14          6       22201734   \n",
              "15          7       22221075   \n",
              "16          8       22221124   \n",
              "17          9       22241054   \n",
              "18         10       22299173   \n",
              "19         11       22299461   \n",
              "20         12       22299530   \n",
              "21         13       22301140   \n",
              "22         14       22301375   \n",
              "23         15       22301454   \n",
              "24         16       22301511   \n",
              "25         17       23101100   \n",
              "26         18       23101159   \n",
              "27         19       23101270   \n",
              "28         20       23101342   \n",
              "29         21       23101453   \n",
              "30         22       23101460   \n",
              "31         23       23101542   \n",
              "32         24       23141010   \n",
              "33         25       23201409   \n",
              "34         26       23201426   \n",
              "35         27       23201439   \n",
              "36         28       23201555   \n",
              "37         29       23221002   \n",
              "38         30       23301103   \n",
              "39         31       23301140   \n",
              "40         32       23301228   \n",
              "41         33       23301253   \n",
              "42         34       23301255   \n",
              "43         35       23301267   \n",
              "44         36       23301307   \n",
              "45         37       23301433   \n",
              "46         38       23301653   \n",
              "47         39       24101662   \n",
              "48         40       24121044   \n",
              "49         41       24241245   \n",
              "50         42       24341262   \n",
              "\n",
              "                                      BRAC UNIVERSITY Unnamed: 3 Unnamed: 4  \\\n",
              "0                                   Final Grade Sheet        NaN        NaN   \n",
              "1                                         Spring 2025        NaN        NaN   \n",
              "2   Department/ School: Mathematics and Natural Sc...        NaN        NaN   \n",
              "3                                             MAT 216        NaN        NaN   \n",
              "4          Linear Algebra and Fourier Transformation         NaN        NaN   \n",
              "5                                                   4        NaN        NaN   \n",
              "6                                     ALI KAISER(ALS)        NaN        NaN   \n",
              "7                                        STUDENT NAME     ATTEN.       QUIZ   \n",
              "8                                                 NaN       0.05        0.2   \n",
              "9                                  NISHAT TASNIM NOVA          5      17.75   \n",
              "10                                     ASIF AHMED JOY          5      15.25   \n",
              "11                                       S. M. APURBO          5        8.5   \n",
              "12                                 FAWZIA HASAN ORODI          5      18.25   \n",
              "13                                  PURNIMA ROY TITHI          5      14.25   \n",
              "14                              TANJUM RUKHSAT PRAPTY          5      15.25   \n",
              "15                                    NIGAR ALAM RAFA          5      15.75   \n",
              "16                                      FAHMIDA FAIZA          5      16.25   \n",
              "17                                      MAHMUDUL AMIN          5      17.75   \n",
              "18                                     ANIKA TABASSUM          5      16.25   \n",
              "19                                     MASHRUR AREFIN          5      15.75   \n",
              "20                                    MAHYBUL HUSSAIN          5       11.5   \n",
              "21                                RUTBA TASNIM RIDIKA          5      15.75   \n",
              "22                                       FAHIM SHIHAB          5      12.75   \n",
              "23                               RAFIYAT REZA SHIRAJY          5      15.75   \n",
              "24                        AL SHAHRIYAR RAHMAN PROTTOY          5      12.25   \n",
              "25                                      ABRAR HOSSAIN          5      17.25   \n",
              "26                                       ROWNAK JAHAN          5         16   \n",
              "27                                        PARISA ASAF          5      16.75   \n",
              "28                                KAMRUL HASSAN NILOY          5       17.5   \n",
              "29                              SHAHADAT SIKDER FAHAD          5      17.75   \n",
              "30                                        SAZIA HASAN          5       16.5   \n",
              "31                                LOGNO RANJAN BARMAN          5         10   \n",
              "32                                     TANVIR ISHTIAQ          5         11   \n",
              "33                              MOHAMMAD HASIBUL AMIN          5      17.75   \n",
              "34                                  MRINMOY DAS ORGHO          5       16.5   \n",
              "35                                      SAADMAN ZAHOR          5         16   \n",
              "36                                FUAD MOHAMMED JAWAD          5         18   \n",
              "37                                      FARIHA RAHMAN          5       17.5   \n",
              "38                              SULTAN SAJED SHAHRIAR          5       16.5   \n",
              "39                                      RAIYAN RAHMAN          5         16   \n",
              "40                                     LABIBA TASHFIA          5       17.5   \n",
              "41                                     MOHTASIM AHMED          5      14.75   \n",
              "42                                  ATICK FUAD ANABIL          5       18.5   \n",
              "43                                       TASMIM RATRI          5         19   \n",
              "44                                   SAMI BIN HEDAYET          5       18.5   \n",
              "45                              KAZI MD JAWADUL HOQUE          5       17.5   \n",
              "46                                 ABDULLAH AL SHAFEE          5       16.5   \n",
              "47                                     ROKEYA SUMAIYA          5       16.5   \n",
              "48                                   SHAH ISRAR MIRZA          5       16.5   \n",
              "49                                       NABIL ISHMAM          5         16   \n",
              "50                             KHALED SAIFULLAH KARIM          5       17.5   \n",
              "\n",
              "    Unnamed: 5 Unnamed: 6 Unnamed: 7 Unnamed: 8 Unnamed: 9    Unnamed: 10  \\\n",
              "0          NaN        NaN        NaN        NaN        NaN            NaN   \n",
              "1          NaN        NaN        NaN        NaN        NaN            NaN   \n",
              "2          NaN        NaN        NaN        NaN        NaN            NaN   \n",
              "3          NaN        NaN        NaN        NaN        NaN            NaN   \n",
              "4          NaN        NaN        NaN        NaN        NaN            NaN   \n",
              "5          NaN        NaN        NaN        NaN        NaN            NaN   \n",
              "6          NaN        NaN        NaN        NaN        NaN            NaN   \n",
              "7   ASSIGNMENT    MIDTERM      FINAL      Total      Total         GRADES   \n",
              "8          0.2       0.25        0.3        100          1  (with suffix)   \n",
              "9           20       24.5         13      80.25         80             B+   \n",
              "10          20         14       20.5      74.75         75              B   \n",
              "11           0       13.5          5         32         32              F   \n",
              "12          20       24.5         17      84.75         85             A-   \n",
              "13          20       10.5          0      49.75         50             D-   \n",
              "14          20          6        9.5      55.75         56             D+   \n",
              "15          20          9         15      64.75         65             C+   \n",
              "16          20        4.5       16.5      62.25         62              C   \n",
              "17          20       17.5         17      77.25         77              B   \n",
              "18          20       15.5         15      71.75         72             B-   \n",
              "19          20         13        8.5      62.25         62              C   \n",
              "20          10         18          0       44.5         45              F   \n",
              "21       18.95         14         11       64.7         65             C+   \n",
              "22          20         15          4      56.75         57             C-   \n",
              "23          20         17       17.5      75.25         75              B   \n",
              "24       19.95          9        5.5       51.7         52              D   \n",
              "25          20         22         23      87.25         87             A-   \n",
              "26          20       23.5       15.5         80         80             B+   \n",
              "27          20       22.5       11.5      75.75         76              B   \n",
              "28          20         19       28.5         90         90              A   \n",
              "29       19.95       21.5       20.5       84.7         85             A-   \n",
              "30          20         21       22.5         85         85             A-   \n",
              "31          20       13.5          4       52.5         53              D   \n",
              "32          20       20.5          0       56.5         57             C-   \n",
              "33          20         22         21      85.75         86             A-   \n",
              "34          20         18         22       81.5         82             B+   \n",
              "35          20       16.5       28.5         86         86             A-   \n",
              "36          20         20       16.5       79.5         80             B+   \n",
              "37       19.95       22.5         25      89.95         90              A   \n",
              "38          20         19         14       74.5         75              B   \n",
              "39          20       19.5       22.5         83         83             B+   \n",
              "40          20       17.5         15         75         75              B   \n",
              "41          20         15         11      65.75         66             C+   \n",
              "42          20       19.5       24.5       87.5         88             A-   \n",
              "43          20         19         25         88         88             A-   \n",
              "44          20       24.5         22         90         90              A   \n",
              "45          20       20.5       11.5       74.5         75              B   \n",
              "46          20         14       17.5         73         73             B-   \n",
              "47       19.95         20       16.5      77.95         78              B   \n",
              "48       19.95         20       18.5      79.95         80             B+   \n",
              "49          20       19.5       15.5         76         76              B   \n",
              "50          20       24.5         10         77         77              B   \n",
              "\n",
              "   Unnamed: 11  \n",
              "0          NaN  \n",
              "1          NaN  \n",
              "2          NaN  \n",
              "3          NaN  \n",
              "4          NaN  \n",
              "5          NaN  \n",
              "6          NaN  \n",
              "7       SUFFIX  \n",
              "8   (in words)  \n",
              "9         PLUS  \n",
              "10       PLAIN  \n",
              "11       PLAIN  \n",
              "12       MINUS  \n",
              "13       MINUS  \n",
              "14        PLUS  \n",
              "15        PLUS  \n",
              "16       PLAIN  \n",
              "17       PLAIN  \n",
              "18       MINUS  \n",
              "19       PLAIN  \n",
              "20       PLAIN  \n",
              "21        PLUS  \n",
              "22       MINUS  \n",
              "23       PLAIN  \n",
              "24       PLAIN  \n",
              "25       MINUS  \n",
              "26        PLUS  \n",
              "27       PLAIN  \n",
              "28       PLAIN  \n",
              "29       MINUS  \n",
              "30       MINUS  \n",
              "31       PLAIN  \n",
              "32       MINUS  \n",
              "33       MINUS  \n",
              "34        PLUS  \n",
              "35       MINUS  \n",
              "36        PLUS  \n",
              "37       PLAIN  \n",
              "38       PLAIN  \n",
              "39        PLUS  \n",
              "40       PLAIN  \n",
              "41        PLUS  \n",
              "42       MINUS  \n",
              "43       MINUS  \n",
              "44       PLAIN  \n",
              "45       PLAIN  \n",
              "46       MINUS  \n",
              "47       PLAIN  \n",
              "48        PLUS  \n",
              "49       PLAIN  \n",
              "50       PLAIN  "
            ],
            "text/html": [
              "\n",
              "  <div id=\"df-c247533c-01e9-469f-84ff-11cd49dc091c\" class=\"colab-df-container\">\n",
              "    <div>\n",
              "<style scoped>\n",
              "    .dataframe tbody tr th:only-of-type {\n",
              "        vertical-align: middle;\n",
              "    }\n",
              "\n",
              "    .dataframe tbody tr th {\n",
              "        vertical-align: top;\n",
              "    }\n",
              "\n",
              "    .dataframe thead th {\n",
              "        text-align: right;\n",
              "    }\n",
              "</style>\n",
              "<table border=\"1\" class=\"dataframe\">\n",
              "  <thead>\n",
              "    <tr style=\"text-align: right;\">\n",
              "      <th></th>\n",
              "      <th>Unnamed: 0</th>\n",
              "      <th>Unnamed: 1</th>\n",
              "      <th>BRAC UNIVERSITY</th>\n",
              "      <th>Unnamed: 3</th>\n",
              "      <th>Unnamed: 4</th>\n",
              "      <th>Unnamed: 5</th>\n",
              "      <th>Unnamed: 6</th>\n",
              "      <th>Unnamed: 7</th>\n",
              "      <th>Unnamed: 8</th>\n",
              "      <th>Unnamed: 9</th>\n",
              "      <th>Unnamed: 10</th>\n",
              "      <th>Unnamed: 11</th>\n",
              "    </tr>\n",
              "  </thead>\n",
              "  <tbody>\n",
              "    <tr>\n",
              "      <th>0</th>\n",
              "      <td>NaN</td>\n",
              "      <td>NaN</td>\n",
              "      <td>Final Grade Sheet</td>\n",
              "      <td>NaN</td>\n",
              "      <td>NaN</td>\n",
              "      <td>NaN</td>\n",
              "      <td>NaN</td>\n",
              "      <td>NaN</td>\n",
              "      <td>NaN</td>\n",
              "      <td>NaN</td>\n",
              "      <td>NaN</td>\n",
              "      <td>NaN</td>\n",
              "    </tr>\n",
              "    <tr>\n",
              "      <th>1</th>\n",
              "      <td>NaN</td>\n",
              "      <td>NaN</td>\n",
              "      <td>Spring 2025</td>\n",
              "      <td>NaN</td>\n",
              "      <td>NaN</td>\n",
              "      <td>NaN</td>\n",
              "      <td>NaN</td>\n",
              "      <td>NaN</td>\n",
              "      <td>NaN</td>\n",
              "      <td>NaN</td>\n",
              "      <td>NaN</td>\n",
              "      <td>NaN</td>\n",
              "    </tr>\n",
              "    <tr>\n",
              "      <th>2</th>\n",
              "      <td>NaN</td>\n",
              "      <td>NaN</td>\n",
              "      <td>Department/ School: Mathematics and Natural Sc...</td>\n",
              "      <td>NaN</td>\n",
              "      <td>NaN</td>\n",
              "      <td>NaN</td>\n",
              "      <td>NaN</td>\n",
              "      <td>NaN</td>\n",
              "      <td>NaN</td>\n",
              "      <td>NaN</td>\n",
              "      <td>NaN</td>\n",
              "      <td>NaN</td>\n",
              "    </tr>\n",
              "    <tr>\n",
              "      <th>3</th>\n",
              "      <td>NaN</td>\n",
              "      <td>Course No :</td>\n",
              "      <td>MAT 216</td>\n",
              "      <td>NaN</td>\n",
              "      <td>NaN</td>\n",
              "      <td>NaN</td>\n",
              "      <td>NaN</td>\n",
              "      <td>NaN</td>\n",
              "      <td>NaN</td>\n",
              "      <td>NaN</td>\n",
              "      <td>NaN</td>\n",
              "      <td>NaN</td>\n",
              "    </tr>\n",
              "    <tr>\n",
              "      <th>4</th>\n",
              "      <td>NaN</td>\n",
              "      <td>Course Title:</td>\n",
              "      <td>Linear Algebra and Fourier Transformation</td>\n",
              "      <td>NaN</td>\n",
              "      <td>NaN</td>\n",
              "      <td>NaN</td>\n",
              "      <td>NaN</td>\n",
              "      <td>NaN</td>\n",
              "      <td>NaN</td>\n",
              "      <td>NaN</td>\n",
              "      <td>NaN</td>\n",
              "      <td>NaN</td>\n",
              "    </tr>\n",
              "    <tr>\n",
              "      <th>5</th>\n",
              "      <td>NaN</td>\n",
              "      <td>Section:</td>\n",
              "      <td>4</td>\n",
              "      <td>NaN</td>\n",
              "      <td>NaN</td>\n",
              "      <td>NaN</td>\n",
              "      <td>NaN</td>\n",
              "      <td>NaN</td>\n",
              "      <td>NaN</td>\n",
              "      <td>NaN</td>\n",
              "      <td>NaN</td>\n",
              "      <td>NaN</td>\n",
              "    </tr>\n",
              "    <tr>\n",
              "      <th>6</th>\n",
              "      <td>NaN</td>\n",
              "      <td>Faculty Name:</td>\n",
              "      <td>ALI KAISER(ALS)</td>\n",
              "      <td>NaN</td>\n",
              "      <td>NaN</td>\n",
              "      <td>NaN</td>\n",
              "      <td>NaN</td>\n",
              "      <td>NaN</td>\n",
              "      <td>NaN</td>\n",
              "      <td>NaN</td>\n",
              "      <td>NaN</td>\n",
              "      <td>NaN</td>\n",
              "    </tr>\n",
              "    <tr>\n",
              "      <th>7</th>\n",
              "      <td>SL #</td>\n",
              "      <td>STUDENT ID #</td>\n",
              "      <td>STUDENT NAME</td>\n",
              "      <td>ATTEN.</td>\n",
              "      <td>QUIZ</td>\n",
              "      <td>ASSIGNMENT</td>\n",
              "      <td>MIDTERM</td>\n",
              "      <td>FINAL</td>\n",
              "      <td>Total</td>\n",
              "      <td>Total</td>\n",
              "      <td>GRADES</td>\n",
              "      <td>SUFFIX</td>\n",
              "    </tr>\n",
              "    <tr>\n",
              "      <th>8</th>\n",
              "      <td>NaN</td>\n",
              "      <td>NaN</td>\n",
              "      <td>NaN</td>\n",
              "      <td>0.05</td>\n",
              "      <td>0.2</td>\n",
              "      <td>0.2</td>\n",
              "      <td>0.25</td>\n",
              "      <td>0.3</td>\n",
              "      <td>100</td>\n",
              "      <td>1</td>\n",
              "      <td>(with suffix)</td>\n",
              "      <td>(in words)</td>\n",
              "    </tr>\n",
              "    <tr>\n",
              "      <th>9</th>\n",
              "      <td>1</td>\n",
              "      <td>19101307</td>\n",
              "      <td>NISHAT TASNIM NOVA</td>\n",
              "      <td>5</td>\n",
              "      <td>17.75</td>\n",
              "      <td>20</td>\n",
              "      <td>24.5</td>\n",
              "      <td>13</td>\n",
              "      <td>80.25</td>\n",
              "      <td>80</td>\n",
              "      <td>B+</td>\n",
              "      <td>PLUS</td>\n",
              "    </tr>\n",
              "    <tr>\n",
              "      <th>10</th>\n",
              "      <td>2</td>\n",
              "      <td>21101289</td>\n",
              "      <td>ASIF AHMED JOY</td>\n",
              "      <td>5</td>\n",
              "      <td>15.25</td>\n",
              "      <td>20</td>\n",
              "      <td>14</td>\n",
              "      <td>20.5</td>\n",
              "      <td>74.75</td>\n",
              "      <td>75</td>\n",
              "      <td>B</td>\n",
              "      <td>PLAIN</td>\n",
              "    </tr>\n",
              "    <tr>\n",
              "      <th>11</th>\n",
              "      <td>3</td>\n",
              "      <td>22101391</td>\n",
              "      <td>S. M. APURBO</td>\n",
              "      <td>5</td>\n",
              "      <td>8.5</td>\n",
              "      <td>0</td>\n",
              "      <td>13.5</td>\n",
              "      <td>5</td>\n",
              "      <td>32</td>\n",
              "      <td>32</td>\n",
              "      <td>F</td>\n",
              "      <td>PLAIN</td>\n",
              "    </tr>\n",
              "    <tr>\n",
              "      <th>12</th>\n",
              "      <td>4</td>\n",
              "      <td>22201238</td>\n",
              "      <td>FAWZIA HASAN ORODI</td>\n",
              "      <td>5</td>\n",
              "      <td>18.25</td>\n",
              "      <td>20</td>\n",
              "      <td>24.5</td>\n",
              "      <td>17</td>\n",
              "      <td>84.75</td>\n",
              "      <td>85</td>\n",
              "      <td>A-</td>\n",
              "      <td>MINUS</td>\n",
              "    </tr>\n",
              "    <tr>\n",
              "      <th>13</th>\n",
              "      <td>5</td>\n",
              "      <td>22201466</td>\n",
              "      <td>PURNIMA ROY TITHI</td>\n",
              "      <td>5</td>\n",
              "      <td>14.25</td>\n",
              "      <td>20</td>\n",
              "      <td>10.5</td>\n",
              "      <td>0</td>\n",
              "      <td>49.75</td>\n",
              "      <td>50</td>\n",
              "      <td>D-</td>\n",
              "      <td>MINUS</td>\n",
              "    </tr>\n",
              "    <tr>\n",
              "      <th>14</th>\n",
              "      <td>6</td>\n",
              "      <td>22201734</td>\n",
              "      <td>TANJUM RUKHSAT PRAPTY</td>\n",
              "      <td>5</td>\n",
              "      <td>15.25</td>\n",
              "      <td>20</td>\n",
              "      <td>6</td>\n",
              "      <td>9.5</td>\n",
              "      <td>55.75</td>\n",
              "      <td>56</td>\n",
              "      <td>D+</td>\n",
              "      <td>PLUS</td>\n",
              "    </tr>\n",
              "    <tr>\n",
              "      <th>15</th>\n",
              "      <td>7</td>\n",
              "      <td>22221075</td>\n",
              "      <td>NIGAR ALAM RAFA</td>\n",
              "      <td>5</td>\n",
              "      <td>15.75</td>\n",
              "      <td>20</td>\n",
              "      <td>9</td>\n",
              "      <td>15</td>\n",
              "      <td>64.75</td>\n",
              "      <td>65</td>\n",
              "      <td>C+</td>\n",
              "      <td>PLUS</td>\n",
              "    </tr>\n",
              "    <tr>\n",
              "      <th>16</th>\n",
              "      <td>8</td>\n",
              "      <td>22221124</td>\n",
              "      <td>FAHMIDA FAIZA</td>\n",
              "      <td>5</td>\n",
              "      <td>16.25</td>\n",
              "      <td>20</td>\n",
              "      <td>4.5</td>\n",
              "      <td>16.5</td>\n",
              "      <td>62.25</td>\n",
              "      <td>62</td>\n",
              "      <td>C</td>\n",
              "      <td>PLAIN</td>\n",
              "    </tr>\n",
              "    <tr>\n",
              "      <th>17</th>\n",
              "      <td>9</td>\n",
              "      <td>22241054</td>\n",
              "      <td>MAHMUDUL AMIN</td>\n",
              "      <td>5</td>\n",
              "      <td>17.75</td>\n",
              "      <td>20</td>\n",
              "      <td>17.5</td>\n",
              "      <td>17</td>\n",
              "      <td>77.25</td>\n",
              "      <td>77</td>\n",
              "      <td>B</td>\n",
              "      <td>PLAIN</td>\n",
              "    </tr>\n",
              "    <tr>\n",
              "      <th>18</th>\n",
              "      <td>10</td>\n",
              "      <td>22299173</td>\n",
              "      <td>ANIKA TABASSUM</td>\n",
              "      <td>5</td>\n",
              "      <td>16.25</td>\n",
              "      <td>20</td>\n",
              "      <td>15.5</td>\n",
              "      <td>15</td>\n",
              "      <td>71.75</td>\n",
              "      <td>72</td>\n",
              "      <td>B-</td>\n",
              "      <td>MINUS</td>\n",
              "    </tr>\n",
              "    <tr>\n",
              "      <th>19</th>\n",
              "      <td>11</td>\n",
              "      <td>22299461</td>\n",
              "      <td>MASHRUR AREFIN</td>\n",
              "      <td>5</td>\n",
              "      <td>15.75</td>\n",
              "      <td>20</td>\n",
              "      <td>13</td>\n",
              "      <td>8.5</td>\n",
              "      <td>62.25</td>\n",
              "      <td>62</td>\n",
              "      <td>C</td>\n",
              "      <td>PLAIN</td>\n",
              "    </tr>\n",
              "    <tr>\n",
              "      <th>20</th>\n",
              "      <td>12</td>\n",
              "      <td>22299530</td>\n",
              "      <td>MAHYBUL HUSSAIN</td>\n",
              "      <td>5</td>\n",
              "      <td>11.5</td>\n",
              "      <td>10</td>\n",
              "      <td>18</td>\n",
              "      <td>0</td>\n",
              "      <td>44.5</td>\n",
              "      <td>45</td>\n",
              "      <td>F</td>\n",
              "      <td>PLAIN</td>\n",
              "    </tr>\n",
              "    <tr>\n",
              "      <th>21</th>\n",
              "      <td>13</td>\n",
              "      <td>22301140</td>\n",
              "      <td>RUTBA TASNIM RIDIKA</td>\n",
              "      <td>5</td>\n",
              "      <td>15.75</td>\n",
              "      <td>18.95</td>\n",
              "      <td>14</td>\n",
              "      <td>11</td>\n",
              "      <td>64.7</td>\n",
              "      <td>65</td>\n",
              "      <td>C+</td>\n",
              "      <td>PLUS</td>\n",
              "    </tr>\n",
              "    <tr>\n",
              "      <th>22</th>\n",
              "      <td>14</td>\n",
              "      <td>22301375</td>\n",
              "      <td>FAHIM SHIHAB</td>\n",
              "      <td>5</td>\n",
              "      <td>12.75</td>\n",
              "      <td>20</td>\n",
              "      <td>15</td>\n",
              "      <td>4</td>\n",
              "      <td>56.75</td>\n",
              "      <td>57</td>\n",
              "      <td>C-</td>\n",
              "      <td>MINUS</td>\n",
              "    </tr>\n",
              "    <tr>\n",
              "      <th>23</th>\n",
              "      <td>15</td>\n",
              "      <td>22301454</td>\n",
              "      <td>RAFIYAT REZA SHIRAJY</td>\n",
              "      <td>5</td>\n",
              "      <td>15.75</td>\n",
              "      <td>20</td>\n",
              "      <td>17</td>\n",
              "      <td>17.5</td>\n",
              "      <td>75.25</td>\n",
              "      <td>75</td>\n",
              "      <td>B</td>\n",
              "      <td>PLAIN</td>\n",
              "    </tr>\n",
              "    <tr>\n",
              "      <th>24</th>\n",
              "      <td>16</td>\n",
              "      <td>22301511</td>\n",
              "      <td>AL SHAHRIYAR RAHMAN PROTTOY</td>\n",
              "      <td>5</td>\n",
              "      <td>12.25</td>\n",
              "      <td>19.95</td>\n",
              "      <td>9</td>\n",
              "      <td>5.5</td>\n",
              "      <td>51.7</td>\n",
              "      <td>52</td>\n",
              "      <td>D</td>\n",
              "      <td>PLAIN</td>\n",
              "    </tr>\n",
              "    <tr>\n",
              "      <th>25</th>\n",
              "      <td>17</td>\n",
              "      <td>23101100</td>\n",
              "      <td>ABRAR HOSSAIN</td>\n",
              "      <td>5</td>\n",
              "      <td>17.25</td>\n",
              "      <td>20</td>\n",
              "      <td>22</td>\n",
              "      <td>23</td>\n",
              "      <td>87.25</td>\n",
              "      <td>87</td>\n",
              "      <td>A-</td>\n",
              "      <td>MINUS</td>\n",
              "    </tr>\n",
              "    <tr>\n",
              "      <th>26</th>\n",
              "      <td>18</td>\n",
              "      <td>23101159</td>\n",
              "      <td>ROWNAK JAHAN</td>\n",
              "      <td>5</td>\n",
              "      <td>16</td>\n",
              "      <td>20</td>\n",
              "      <td>23.5</td>\n",
              "      <td>15.5</td>\n",
              "      <td>80</td>\n",
              "      <td>80</td>\n",
              "      <td>B+</td>\n",
              "      <td>PLUS</td>\n",
              "    </tr>\n",
              "    <tr>\n",
              "      <th>27</th>\n",
              "      <td>19</td>\n",
              "      <td>23101270</td>\n",
              "      <td>PARISA ASAF</td>\n",
              "      <td>5</td>\n",
              "      <td>16.75</td>\n",
              "      <td>20</td>\n",
              "      <td>22.5</td>\n",
              "      <td>11.5</td>\n",
              "      <td>75.75</td>\n",
              "      <td>76</td>\n",
              "      <td>B</td>\n",
              "      <td>PLAIN</td>\n",
              "    </tr>\n",
              "    <tr>\n",
              "      <th>28</th>\n",
              "      <td>20</td>\n",
              "      <td>23101342</td>\n",
              "      <td>KAMRUL HASSAN NILOY</td>\n",
              "      <td>5</td>\n",
              "      <td>17.5</td>\n",
              "      <td>20</td>\n",
              "      <td>19</td>\n",
              "      <td>28.5</td>\n",
              "      <td>90</td>\n",
              "      <td>90</td>\n",
              "      <td>A</td>\n",
              "      <td>PLAIN</td>\n",
              "    </tr>\n",
              "    <tr>\n",
              "      <th>29</th>\n",
              "      <td>21</td>\n",
              "      <td>23101453</td>\n",
              "      <td>SHAHADAT SIKDER FAHAD</td>\n",
              "      <td>5</td>\n",
              "      <td>17.75</td>\n",
              "      <td>19.95</td>\n",
              "      <td>21.5</td>\n",
              "      <td>20.5</td>\n",
              "      <td>84.7</td>\n",
              "      <td>85</td>\n",
              "      <td>A-</td>\n",
              "      <td>MINUS</td>\n",
              "    </tr>\n",
              "    <tr>\n",
              "      <th>30</th>\n",
              "      <td>22</td>\n",
              "      <td>23101460</td>\n",
              "      <td>SAZIA HASAN</td>\n",
              "      <td>5</td>\n",
              "      <td>16.5</td>\n",
              "      <td>20</td>\n",
              "      <td>21</td>\n",
              "      <td>22.5</td>\n",
              "      <td>85</td>\n",
              "      <td>85</td>\n",
              "      <td>A-</td>\n",
              "      <td>MINUS</td>\n",
              "    </tr>\n",
              "    <tr>\n",
              "      <th>31</th>\n",
              "      <td>23</td>\n",
              "      <td>23101542</td>\n",
              "      <td>LOGNO RANJAN BARMAN</td>\n",
              "      <td>5</td>\n",
              "      <td>10</td>\n",
              "      <td>20</td>\n",
              "      <td>13.5</td>\n",
              "      <td>4</td>\n",
              "      <td>52.5</td>\n",
              "      <td>53</td>\n",
              "      <td>D</td>\n",
              "      <td>PLAIN</td>\n",
              "    </tr>\n",
              "    <tr>\n",
              "      <th>32</th>\n",
              "      <td>24</td>\n",
              "      <td>23141010</td>\n",
              "      <td>TANVIR ISHTIAQ</td>\n",
              "      <td>5</td>\n",
              "      <td>11</td>\n",
              "      <td>20</td>\n",
              "      <td>20.5</td>\n",
              "      <td>0</td>\n",
              "      <td>56.5</td>\n",
              "      <td>57</td>\n",
              "      <td>C-</td>\n",
              "      <td>MINUS</td>\n",
              "    </tr>\n",
              "    <tr>\n",
              "      <th>33</th>\n",
              "      <td>25</td>\n",
              "      <td>23201409</td>\n",
              "      <td>MOHAMMAD HASIBUL AMIN</td>\n",
              "      <td>5</td>\n",
              "      <td>17.75</td>\n",
              "      <td>20</td>\n",
              "      <td>22</td>\n",
              "      <td>21</td>\n",
              "      <td>85.75</td>\n",
              "      <td>86</td>\n",
              "      <td>A-</td>\n",
              "      <td>MINUS</td>\n",
              "    </tr>\n",
              "    <tr>\n",
              "      <th>34</th>\n",
              "      <td>26</td>\n",
              "      <td>23201426</td>\n",
              "      <td>MRINMOY DAS ORGHO</td>\n",
              "      <td>5</td>\n",
              "      <td>16.5</td>\n",
              "      <td>20</td>\n",
              "      <td>18</td>\n",
              "      <td>22</td>\n",
              "      <td>81.5</td>\n",
              "      <td>82</td>\n",
              "      <td>B+</td>\n",
              "      <td>PLUS</td>\n",
              "    </tr>\n",
              "    <tr>\n",
              "      <th>35</th>\n",
              "      <td>27</td>\n",
              "      <td>23201439</td>\n",
              "      <td>SAADMAN ZAHOR</td>\n",
              "      <td>5</td>\n",
              "      <td>16</td>\n",
              "      <td>20</td>\n",
              "      <td>16.5</td>\n",
              "      <td>28.5</td>\n",
              "      <td>86</td>\n",
              "      <td>86</td>\n",
              "      <td>A-</td>\n",
              "      <td>MINUS</td>\n",
              "    </tr>\n",
              "    <tr>\n",
              "      <th>36</th>\n",
              "      <td>28</td>\n",
              "      <td>23201555</td>\n",
              "      <td>FUAD MOHAMMED JAWAD</td>\n",
              "      <td>5</td>\n",
              "      <td>18</td>\n",
              "      <td>20</td>\n",
              "      <td>20</td>\n",
              "      <td>16.5</td>\n",
              "      <td>79.5</td>\n",
              "      <td>80</td>\n",
              "      <td>B+</td>\n",
              "      <td>PLUS</td>\n",
              "    </tr>\n",
              "    <tr>\n",
              "      <th>37</th>\n",
              "      <td>29</td>\n",
              "      <td>23221002</td>\n",
              "      <td>FARIHA RAHMAN</td>\n",
              "      <td>5</td>\n",
              "      <td>17.5</td>\n",
              "      <td>19.95</td>\n",
              "      <td>22.5</td>\n",
              "      <td>25</td>\n",
              "      <td>89.95</td>\n",
              "      <td>90</td>\n",
              "      <td>A</td>\n",
              "      <td>PLAIN</td>\n",
              "    </tr>\n",
              "    <tr>\n",
              "      <th>38</th>\n",
              "      <td>30</td>\n",
              "      <td>23301103</td>\n",
              "      <td>SULTAN SAJED SHAHRIAR</td>\n",
              "      <td>5</td>\n",
              "      <td>16.5</td>\n",
              "      <td>20</td>\n",
              "      <td>19</td>\n",
              "      <td>14</td>\n",
              "      <td>74.5</td>\n",
              "      <td>75</td>\n",
              "      <td>B</td>\n",
              "      <td>PLAIN</td>\n",
              "    </tr>\n",
              "    <tr>\n",
              "      <th>39</th>\n",
              "      <td>31</td>\n",
              "      <td>23301140</td>\n",
              "      <td>RAIYAN RAHMAN</td>\n",
              "      <td>5</td>\n",
              "      <td>16</td>\n",
              "      <td>20</td>\n",
              "      <td>19.5</td>\n",
              "      <td>22.5</td>\n",
              "      <td>83</td>\n",
              "      <td>83</td>\n",
              "      <td>B+</td>\n",
              "      <td>PLUS</td>\n",
              "    </tr>\n",
              "    <tr>\n",
              "      <th>40</th>\n",
              "      <td>32</td>\n",
              "      <td>23301228</td>\n",
              "      <td>LABIBA TASHFIA</td>\n",
              "      <td>5</td>\n",
              "      <td>17.5</td>\n",
              "      <td>20</td>\n",
              "      <td>17.5</td>\n",
              "      <td>15</td>\n",
              "      <td>75</td>\n",
              "      <td>75</td>\n",
              "      <td>B</td>\n",
              "      <td>PLAIN</td>\n",
              "    </tr>\n",
              "    <tr>\n",
              "      <th>41</th>\n",
              "      <td>33</td>\n",
              "      <td>23301253</td>\n",
              "      <td>MOHTASIM AHMED</td>\n",
              "      <td>5</td>\n",
              "      <td>14.75</td>\n",
              "      <td>20</td>\n",
              "      <td>15</td>\n",
              "      <td>11</td>\n",
              "      <td>65.75</td>\n",
              "      <td>66</td>\n",
              "      <td>C+</td>\n",
              "      <td>PLUS</td>\n",
              "    </tr>\n",
              "    <tr>\n",
              "      <th>42</th>\n",
              "      <td>34</td>\n",
              "      <td>23301255</td>\n",
              "      <td>ATICK FUAD ANABIL</td>\n",
              "      <td>5</td>\n",
              "      <td>18.5</td>\n",
              "      <td>20</td>\n",
              "      <td>19.5</td>\n",
              "      <td>24.5</td>\n",
              "      <td>87.5</td>\n",
              "      <td>88</td>\n",
              "      <td>A-</td>\n",
              "      <td>MINUS</td>\n",
              "    </tr>\n",
              "    <tr>\n",
              "      <th>43</th>\n",
              "      <td>35</td>\n",
              "      <td>23301267</td>\n",
              "      <td>TASMIM RATRI</td>\n",
              "      <td>5</td>\n",
              "      <td>19</td>\n",
              "      <td>20</td>\n",
              "      <td>19</td>\n",
              "      <td>25</td>\n",
              "      <td>88</td>\n",
              "      <td>88</td>\n",
              "      <td>A-</td>\n",
              "      <td>MINUS</td>\n",
              "    </tr>\n",
              "    <tr>\n",
              "      <th>44</th>\n",
              "      <td>36</td>\n",
              "      <td>23301307</td>\n",
              "      <td>SAMI BIN HEDAYET</td>\n",
              "      <td>5</td>\n",
              "      <td>18.5</td>\n",
              "      <td>20</td>\n",
              "      <td>24.5</td>\n",
              "      <td>22</td>\n",
              "      <td>90</td>\n",
              "      <td>90</td>\n",
              "      <td>A</td>\n",
              "      <td>PLAIN</td>\n",
              "    </tr>\n",
              "    <tr>\n",
              "      <th>45</th>\n",
              "      <td>37</td>\n",
              "      <td>23301433</td>\n",
              "      <td>KAZI MD JAWADUL HOQUE</td>\n",
              "      <td>5</td>\n",
              "      <td>17.5</td>\n",
              "      <td>20</td>\n",
              "      <td>20.5</td>\n",
              "      <td>11.5</td>\n",
              "      <td>74.5</td>\n",
              "      <td>75</td>\n",
              "      <td>B</td>\n",
              "      <td>PLAIN</td>\n",
              "    </tr>\n",
              "    <tr>\n",
              "      <th>46</th>\n",
              "      <td>38</td>\n",
              "      <td>23301653</td>\n",
              "      <td>ABDULLAH AL SHAFEE</td>\n",
              "      <td>5</td>\n",
              "      <td>16.5</td>\n",
              "      <td>20</td>\n",
              "      <td>14</td>\n",
              "      <td>17.5</td>\n",
              "      <td>73</td>\n",
              "      <td>73</td>\n",
              "      <td>B-</td>\n",
              "      <td>MINUS</td>\n",
              "    </tr>\n",
              "    <tr>\n",
              "      <th>47</th>\n",
              "      <td>39</td>\n",
              "      <td>24101662</td>\n",
              "      <td>ROKEYA SUMAIYA</td>\n",
              "      <td>5</td>\n",
              "      <td>16.5</td>\n",
              "      <td>19.95</td>\n",
              "      <td>20</td>\n",
              "      <td>16.5</td>\n",
              "      <td>77.95</td>\n",
              "      <td>78</td>\n",
              "      <td>B</td>\n",
              "      <td>PLAIN</td>\n",
              "    </tr>\n",
              "    <tr>\n",
              "      <th>48</th>\n",
              "      <td>40</td>\n",
              "      <td>24121044</td>\n",
              "      <td>SHAH ISRAR MIRZA</td>\n",
              "      <td>5</td>\n",
              "      <td>16.5</td>\n",
              "      <td>19.95</td>\n",
              "      <td>20</td>\n",
              "      <td>18.5</td>\n",
              "      <td>79.95</td>\n",
              "      <td>80</td>\n",
              "      <td>B+</td>\n",
              "      <td>PLUS</td>\n",
              "    </tr>\n",
              "    <tr>\n",
              "      <th>49</th>\n",
              "      <td>41</td>\n",
              "      <td>24241245</td>\n",
              "      <td>NABIL ISHMAM</td>\n",
              "      <td>5</td>\n",
              "      <td>16</td>\n",
              "      <td>20</td>\n",
              "      <td>19.5</td>\n",
              "      <td>15.5</td>\n",
              "      <td>76</td>\n",
              "      <td>76</td>\n",
              "      <td>B</td>\n",
              "      <td>PLAIN</td>\n",
              "    </tr>\n",
              "    <tr>\n",
              "      <th>50</th>\n",
              "      <td>42</td>\n",
              "      <td>24341262</td>\n",
              "      <td>KHALED SAIFULLAH KARIM</td>\n",
              "      <td>5</td>\n",
              "      <td>17.5</td>\n",
              "      <td>20</td>\n",
              "      <td>24.5</td>\n",
              "      <td>10</td>\n",
              "      <td>77</td>\n",
              "      <td>77</td>\n",
              "      <td>B</td>\n",
              "      <td>PLAIN</td>\n",
              "    </tr>\n",
              "  </tbody>\n",
              "</table>\n",
              "</div>\n",
              "    <div class=\"colab-df-buttons\">\n",
              "\n",
              "  <div class=\"colab-df-container\">\n",
              "    <button class=\"colab-df-convert\" onclick=\"convertToInteractive('df-c247533c-01e9-469f-84ff-11cd49dc091c')\"\n",
              "            title=\"Convert this dataframe to an interactive table.\"\n",
              "            style=\"display:none;\">\n",
              "\n",
              "  <svg xmlns=\"http://www.w3.org/2000/svg\" height=\"24px\" viewBox=\"0 -960 960 960\">\n",
              "    <path d=\"M120-120v-720h720v720H120Zm60-500h600v-160H180v160Zm220 220h160v-160H400v160Zm0 220h160v-160H400v160ZM180-400h160v-160H180v160Zm440 0h160v-160H620v160ZM180-180h160v-160H180v160Zm440 0h160v-160H620v160Z\"/>\n",
              "  </svg>\n",
              "    </button>\n",
              "\n",
              "  <style>\n",
              "    .colab-df-container {\n",
              "      display:flex;\n",
              "      gap: 12px;\n",
              "    }\n",
              "\n",
              "    .colab-df-convert {\n",
              "      background-color: #E8F0FE;\n",
              "      border: none;\n",
              "      border-radius: 50%;\n",
              "      cursor: pointer;\n",
              "      display: none;\n",
              "      fill: #1967D2;\n",
              "      height: 32px;\n",
              "      padding: 0 0 0 0;\n",
              "      width: 32px;\n",
              "    }\n",
              "\n",
              "    .colab-df-convert:hover {\n",
              "      background-color: #E2EBFA;\n",
              "      box-shadow: 0px 1px 2px rgba(60, 64, 67, 0.3), 0px 1px 3px 1px rgba(60, 64, 67, 0.15);\n",
              "      fill: #174EA6;\n",
              "    }\n",
              "\n",
              "    .colab-df-buttons div {\n",
              "      margin-bottom: 4px;\n",
              "    }\n",
              "\n",
              "    [theme=dark] .colab-df-convert {\n",
              "      background-color: #3B4455;\n",
              "      fill: #D2E3FC;\n",
              "    }\n",
              "\n",
              "    [theme=dark] .colab-df-convert:hover {\n",
              "      background-color: #434B5C;\n",
              "      box-shadow: 0px 1px 3px 1px rgba(0, 0, 0, 0.15);\n",
              "      filter: drop-shadow(0px 1px 2px rgba(0, 0, 0, 0.3));\n",
              "      fill: #FFFFFF;\n",
              "    }\n",
              "  </style>\n",
              "\n",
              "    <script>\n",
              "      const buttonEl =\n",
              "        document.querySelector('#df-c247533c-01e9-469f-84ff-11cd49dc091c button.colab-df-convert');\n",
              "      buttonEl.style.display =\n",
              "        google.colab.kernel.accessAllowed ? 'block' : 'none';\n",
              "\n",
              "      async function convertToInteractive(key) {\n",
              "        const element = document.querySelector('#df-c247533c-01e9-469f-84ff-11cd49dc091c');\n",
              "        const dataTable =\n",
              "          await google.colab.kernel.invokeFunction('convertToInteractive',\n",
              "                                                    [key], {});\n",
              "        if (!dataTable) return;\n",
              "\n",
              "        const docLinkHtml = 'Like what you see? Visit the ' +\n",
              "          '<a target=\"_blank\" href=https://colab.research.google.com/notebooks/data_table.ipynb>data table notebook</a>'\n",
              "          + ' to learn more about interactive tables.';\n",
              "        element.innerHTML = '';\n",
              "        dataTable['output_type'] = 'display_data';\n",
              "        await google.colab.output.renderOutput(dataTable, element);\n",
              "        const docLink = document.createElement('div');\n",
              "        docLink.innerHTML = docLinkHtml;\n",
              "        element.appendChild(docLink);\n",
              "      }\n",
              "    </script>\n",
              "  </div>\n",
              "\n",
              "\n",
              "    <div id=\"df-50f82c1b-9b17-48fd-b379-d4811e297b5f\">\n",
              "      <button class=\"colab-df-quickchart\" onclick=\"quickchart('df-50f82c1b-9b17-48fd-b379-d4811e297b5f')\"\n",
              "                title=\"Suggest charts\"\n",
              "                style=\"display:none;\">\n",
              "\n",
              "<svg xmlns=\"http://www.w3.org/2000/svg\" height=\"24px\"viewBox=\"0 0 24 24\"\n",
              "     width=\"24px\">\n",
              "    <g>\n",
              "        <path d=\"M19 3H5c-1.1 0-2 .9-2 2v14c0 1.1.9 2 2 2h14c1.1 0 2-.9 2-2V5c0-1.1-.9-2-2-2zM9 17H7v-7h2v7zm4 0h-2V7h2v10zm4 0h-2v-4h2v4z\"/>\n",
              "    </g>\n",
              "</svg>\n",
              "      </button>\n",
              "\n",
              "<style>\n",
              "  .colab-df-quickchart {\n",
              "      --bg-color: #E8F0FE;\n",
              "      --fill-color: #1967D2;\n",
              "      --hover-bg-color: #E2EBFA;\n",
              "      --hover-fill-color: #174EA6;\n",
              "      --disabled-fill-color: #AAA;\n",
              "      --disabled-bg-color: #DDD;\n",
              "  }\n",
              "\n",
              "  [theme=dark] .colab-df-quickchart {\n",
              "      --bg-color: #3B4455;\n",
              "      --fill-color: #D2E3FC;\n",
              "      --hover-bg-color: #434B5C;\n",
              "      --hover-fill-color: #FFFFFF;\n",
              "      --disabled-bg-color: #3B4455;\n",
              "      --disabled-fill-color: #666;\n",
              "  }\n",
              "\n",
              "  .colab-df-quickchart {\n",
              "    background-color: var(--bg-color);\n",
              "    border: none;\n",
              "    border-radius: 50%;\n",
              "    cursor: pointer;\n",
              "    display: none;\n",
              "    fill: var(--fill-color);\n",
              "    height: 32px;\n",
              "    padding: 0;\n",
              "    width: 32px;\n",
              "  }\n",
              "\n",
              "  .colab-df-quickchart:hover {\n",
              "    background-color: var(--hover-bg-color);\n",
              "    box-shadow: 0 1px 2px rgba(60, 64, 67, 0.3), 0 1px 3px 1px rgba(60, 64, 67, 0.15);\n",
              "    fill: var(--button-hover-fill-color);\n",
              "  }\n",
              "\n",
              "  .colab-df-quickchart-complete:disabled,\n",
              "  .colab-df-quickchart-complete:disabled:hover {\n",
              "    background-color: var(--disabled-bg-color);\n",
              "    fill: var(--disabled-fill-color);\n",
              "    box-shadow: none;\n",
              "  }\n",
              "\n",
              "  .colab-df-spinner {\n",
              "    border: 2px solid var(--fill-color);\n",
              "    border-color: transparent;\n",
              "    border-bottom-color: var(--fill-color);\n",
              "    animation:\n",
              "      spin 1s steps(1) infinite;\n",
              "  }\n",
              "\n",
              "  @keyframes spin {\n",
              "    0% {\n",
              "      border-color: transparent;\n",
              "      border-bottom-color: var(--fill-color);\n",
              "      border-left-color: var(--fill-color);\n",
              "    }\n",
              "    20% {\n",
              "      border-color: transparent;\n",
              "      border-left-color: var(--fill-color);\n",
              "      border-top-color: var(--fill-color);\n",
              "    }\n",
              "    30% {\n",
              "      border-color: transparent;\n",
              "      border-left-color: var(--fill-color);\n",
              "      border-top-color: var(--fill-color);\n",
              "      border-right-color: var(--fill-color);\n",
              "    }\n",
              "    40% {\n",
              "      border-color: transparent;\n",
              "      border-right-color: var(--fill-color);\n",
              "      border-top-color: var(--fill-color);\n",
              "    }\n",
              "    60% {\n",
              "      border-color: transparent;\n",
              "      border-right-color: var(--fill-color);\n",
              "    }\n",
              "    80% {\n",
              "      border-color: transparent;\n",
              "      border-right-color: var(--fill-color);\n",
              "      border-bottom-color: var(--fill-color);\n",
              "    }\n",
              "    90% {\n",
              "      border-color: transparent;\n",
              "      border-bottom-color: var(--fill-color);\n",
              "    }\n",
              "  }\n",
              "</style>\n",
              "\n",
              "      <script>\n",
              "        async function quickchart(key) {\n",
              "          const quickchartButtonEl =\n",
              "            document.querySelector('#' + key + ' button');\n",
              "          quickchartButtonEl.disabled = true;  // To prevent multiple clicks.\n",
              "          quickchartButtonEl.classList.add('colab-df-spinner');\n",
              "          try {\n",
              "            const charts = await google.colab.kernel.invokeFunction(\n",
              "                'suggestCharts', [key], {});\n",
              "          } catch (error) {\n",
              "            console.error('Error during call to suggestCharts:', error);\n",
              "          }\n",
              "          quickchartButtonEl.classList.remove('colab-df-spinner');\n",
              "          quickchartButtonEl.classList.add('colab-df-quickchart-complete');\n",
              "        }\n",
              "        (() => {\n",
              "          let quickchartButtonEl =\n",
              "            document.querySelector('#df-50f82c1b-9b17-48fd-b379-d4811e297b5f button');\n",
              "          quickchartButtonEl.style.display =\n",
              "            google.colab.kernel.accessAllowed ? 'block' : 'none';\n",
              "        })();\n",
              "      </script>\n",
              "    </div>\n",
              "\n",
              "  <div id=\"id_a65a9848-4442-426b-93e9-15fffd2c573f\">\n",
              "    <style>\n",
              "      .colab-df-generate {\n",
              "        background-color: #E8F0FE;\n",
              "        border: none;\n",
              "        border-radius: 50%;\n",
              "        cursor: pointer;\n",
              "        display: none;\n",
              "        fill: #1967D2;\n",
              "        height: 32px;\n",
              "        padding: 0 0 0 0;\n",
              "        width: 32px;\n",
              "      }\n",
              "\n",
              "      .colab-df-generate:hover {\n",
              "        background-color: #E2EBFA;\n",
              "        box-shadow: 0px 1px 2px rgba(60, 64, 67, 0.3), 0px 1px 3px 1px rgba(60, 64, 67, 0.15);\n",
              "        fill: #174EA6;\n",
              "      }\n",
              "\n",
              "      [theme=dark] .colab-df-generate {\n",
              "        background-color: #3B4455;\n",
              "        fill: #D2E3FC;\n",
              "      }\n",
              "\n",
              "      [theme=dark] .colab-df-generate:hover {\n",
              "        background-color: #434B5C;\n",
              "        box-shadow: 0px 1px 3px 1px rgba(0, 0, 0, 0.15);\n",
              "        filter: drop-shadow(0px 1px 2px rgba(0, 0, 0, 0.3));\n",
              "        fill: #FFFFFF;\n",
              "      }\n",
              "    </style>\n",
              "    <button class=\"colab-df-generate\" onclick=\"generateWithVariable('df2')\"\n",
              "            title=\"Generate code using this dataframe.\"\n",
              "            style=\"display:none;\">\n",
              "\n",
              "  <svg xmlns=\"http://www.w3.org/2000/svg\" height=\"24px\"viewBox=\"0 0 24 24\"\n",
              "       width=\"24px\">\n",
              "    <path d=\"M7,19H8.4L18.45,9,17,7.55,7,17.6ZM5,21V16.75L18.45,3.32a2,2,0,0,1,2.83,0l1.4,1.43a1.91,1.91,0,0,1,.58,1.4,1.91,1.91,0,0,1-.58,1.4L9.25,21ZM18.45,9,17,7.55Zm-12,3A5.31,5.31,0,0,0,4.9,8.1,5.31,5.31,0,0,0,1,6.5,5.31,5.31,0,0,0,4.9,4.9,5.31,5.31,0,0,0,6.5,1,5.31,5.31,0,0,0,8.1,4.9,5.31,5.31,0,0,0,12,6.5,5.46,5.46,0,0,0,6.5,12Z\"/>\n",
              "  </svg>\n",
              "    </button>\n",
              "    <script>\n",
              "      (() => {\n",
              "      const buttonEl =\n",
              "        document.querySelector('#id_a65a9848-4442-426b-93e9-15fffd2c573f button.colab-df-generate');\n",
              "      buttonEl.style.display =\n",
              "        google.colab.kernel.accessAllowed ? 'block' : 'none';\n",
              "\n",
              "      buttonEl.onclick = () => {\n",
              "        google.colab.notebook.generateWithVariable('df2');\n",
              "      }\n",
              "      })();\n",
              "    </script>\n",
              "  </div>\n",
              "\n",
              "    </div>\n",
              "  </div>\n"
            ],
            "application/vnd.google.colaboratory.intrinsic+json": {
              "type": "dataframe",
              "variable_name": "df2",
              "summary": "{\n  \"name\": \"df2\",\n  \"rows\": 51,\n  \"fields\": [\n    {\n      \"column\": \"Unnamed: 0\",\n      \"properties\": {\n        \"dtype\": \"string\",\n        \"num_unique_values\": 43,\n        \"samples\": [\n          37,\n          24,\n          25\n        ],\n        \"semantic_type\": \"\",\n        \"description\": \"\"\n      }\n    },\n    {\n      \"column\": \"Unnamed: 1\",\n      \"properties\": {\n        \"dtype\": \"string\",\n        \"num_unique_values\": 47,\n        \"samples\": [\n          \"23101542\",\n          \"23301267\",\n          \"23101460\"\n        ],\n        \"semantic_type\": \"\",\n        \"description\": \"\"\n      }\n    },\n    {\n      \"column\": \"BRAC UNIVERSITY\",\n      \"properties\": {\n        \"dtype\": \"string\",\n        \"num_unique_values\": 50,\n        \"samples\": [\n          \"TANJUM RUKHSAT PRAPTY\",\n          \"LABIBA TASHFIA\",\n          \"LOGNO RANJAN BARMAN\"\n        ],\n        \"semantic_type\": \"\",\n        \"description\": \"\"\n      }\n    },\n    {\n      \"column\": \"Unnamed: 3\",\n      \"properties\": {\n        \"dtype\": \"category\",\n        \"num_unique_values\": 3,\n        \"samples\": [\n          \"ATTEN.\",\n          0.05,\n          5\n        ],\n        \"semantic_type\": \"\",\n        \"description\": \"\"\n      }\n    },\n    {\n      \"column\": \"Unnamed: 4\",\n      \"properties\": {\n        \"dtype\": \"category\",\n        \"num_unique_values\": 23,\n        \"samples\": [\n          17.5,\n          11.5,\n          \"QUIZ\"\n        ],\n        \"semantic_type\": \"\",\n        \"description\": \"\"\n      }\n    },\n    {\n      \"column\": \"Unnamed: 5\",\n      \"properties\": {\n        \"dtype\": \"category\",\n        \"num_unique_values\": 7,\n        \"samples\": [\n          \"ASSIGNMENT\",\n          0.2,\n          18.95\n        ],\n        \"semantic_type\": \"\",\n        \"description\": \"\"\n      }\n    },\n    {\n      \"column\": \"Unnamed: 6\",\n      \"properties\": {\n        \"dtype\": \"category\",\n        \"num_unique_values\": 25,\n        \"samples\": [\n          4.5,\n          23.5,\n          \"MIDTERM\"\n        ],\n        \"semantic_type\": \"\",\n        \"description\": \"\"\n      }\n    },\n    {\n      \"column\": \"Unnamed: 7\",\n      \"properties\": {\n        \"dtype\": \"string\",\n        \"num_unique_values\": 27,\n        \"samples\": [\n          15,\n          17.5,\n          16.5\n        ],\n        \"semantic_type\": \"\",\n        \"description\": \"\"\n      }\n    },\n    {\n      \"column\": \"Unnamed: 8\",\n      \"properties\": {\n        \"dtype\": \"string\",\n        \"num_unique_values\": 41,\n        \"samples\": [\n          56.5,\n          64.7,\n          64.75\n        ],\n        \"semantic_type\": \"\",\n        \"description\": \"\"\n      }\n    },\n    {\n      \"column\": \"Unnamed: 9\",\n      \"properties\": {\n        \"dtype\": \"string\",\n        \"num_unique_values\": 26,\n        \"samples\": [\n          65,\n          76,\n          \"Total\"\n        ],\n        \"semantic_type\": \"\",\n        \"description\": \"\"\n      }\n    },\n    {\n      \"column\": \"Unnamed: 10\",\n      \"properties\": {\n        \"dtype\": \"category\",\n        \"num_unique_values\": 14,\n        \"samples\": [\n          \"C\",\n          \"C-\",\n          \"GRADES\"\n        ],\n        \"semantic_type\": \"\",\n        \"description\": \"\"\n      }\n    },\n    {\n      \"column\": \"Unnamed: 11\",\n      \"properties\": {\n        \"dtype\": \"category\",\n        \"num_unique_values\": 5,\n        \"samples\": [\n          \"(in words)\",\n          \"MINUS\",\n          \"PLUS\"\n        ],\n        \"semantic_type\": \"\",\n        \"description\": \"\"\n      }\n    }\n  ]\n}"
            }
          },
          "metadata": {},
          "execution_count": 41
        }
      ],
      "source": [
        "df2"
      ]
    },
    {
      "cell_type": "code",
      "execution_count": null,
      "metadata": {
        "id": "t0k4s-VQlPqT"
      },
      "outputs": [],
      "source": [
        "df5 = df2.tail(44)"
      ]
    },
    {
      "cell_type": "code",
      "execution_count": null,
      "metadata": {
        "colab": {
          "base_uri": "https://localhost:8080/",
          "height": 1000
        },
        "id": "svYsETkn76kf",
        "outputId": "0e7d4b71-f8c7-49e1-9722-6d43b31bf2de"
      },
      "outputs": [
        {
          "output_type": "execute_result",
          "data": {
            "text/plain": [
              "   Unnamed: 0    Unnamed: 1              BRAC UNIVERSITY Unnamed: 3  \\\n",
              "7        SL #  STUDENT ID #                 STUDENT NAME     ATTEN.   \n",
              "8         NaN           NaN                          NaN       0.05   \n",
              "9           1      19101307           NISHAT TASNIM NOVA          5   \n",
              "10          2      21101289               ASIF AHMED JOY          5   \n",
              "11          3      22101391                 S. M. APURBO          5   \n",
              "12          4      22201238           FAWZIA HASAN ORODI          5   \n",
              "13          5      22201466            PURNIMA ROY TITHI          5   \n",
              "14          6      22201734        TANJUM RUKHSAT PRAPTY          5   \n",
              "15          7      22221075              NIGAR ALAM RAFA          5   \n",
              "16          8      22221124                FAHMIDA FAIZA          5   \n",
              "17          9      22241054                MAHMUDUL AMIN          5   \n",
              "18         10      22299173               ANIKA TABASSUM          5   \n",
              "19         11      22299461               MASHRUR AREFIN          5   \n",
              "20         12      22299530              MAHYBUL HUSSAIN          5   \n",
              "21         13      22301140          RUTBA TASNIM RIDIKA          5   \n",
              "22         14      22301375                 FAHIM SHIHAB          5   \n",
              "23         15      22301454         RAFIYAT REZA SHIRAJY          5   \n",
              "24         16      22301511  AL SHAHRIYAR RAHMAN PROTTOY          5   \n",
              "25         17      23101100                ABRAR HOSSAIN          5   \n",
              "26         18      23101159                 ROWNAK JAHAN          5   \n",
              "27         19      23101270                  PARISA ASAF          5   \n",
              "28         20      23101342          KAMRUL HASSAN NILOY          5   \n",
              "29         21      23101453        SHAHADAT SIKDER FAHAD          5   \n",
              "30         22      23101460                  SAZIA HASAN          5   \n",
              "31         23      23101542          LOGNO RANJAN BARMAN          5   \n",
              "32         24      23141010               TANVIR ISHTIAQ          5   \n",
              "33         25      23201409        MOHAMMAD HASIBUL AMIN          5   \n",
              "34         26      23201426            MRINMOY DAS ORGHO          5   \n",
              "35         27      23201439                SAADMAN ZAHOR          5   \n",
              "36         28      23201555          FUAD MOHAMMED JAWAD          5   \n",
              "37         29      23221002                FARIHA RAHMAN          5   \n",
              "38         30      23301103        SULTAN SAJED SHAHRIAR          5   \n",
              "39         31      23301140                RAIYAN RAHMAN          5   \n",
              "40         32      23301228               LABIBA TASHFIA          5   \n",
              "41         33      23301253               MOHTASIM AHMED          5   \n",
              "42         34      23301255            ATICK FUAD ANABIL          5   \n",
              "43         35      23301267                 TASMIM RATRI          5   \n",
              "44         36      23301307             SAMI BIN HEDAYET          5   \n",
              "45         37      23301433        KAZI MD JAWADUL HOQUE          5   \n",
              "46         38      23301653           ABDULLAH AL SHAFEE          5   \n",
              "47         39      24101662               ROKEYA SUMAIYA          5   \n",
              "48         40      24121044             SHAH ISRAR MIRZA          5   \n",
              "49         41      24241245                 NABIL ISHMAM          5   \n",
              "50         42      24341262       KHALED SAIFULLAH KARIM          5   \n",
              "\n",
              "   Unnamed: 4  Unnamed: 5 Unnamed: 6 Unnamed: 7 Unnamed: 8 Unnamed: 9  \\\n",
              "7        QUIZ  ASSIGNMENT    MIDTERM      FINAL      Total      Total   \n",
              "8         0.2         0.2       0.25        0.3        100          1   \n",
              "9       17.75          20       24.5         13      80.25         80   \n",
              "10      15.25          20         14       20.5      74.75         75   \n",
              "11        8.5           0       13.5          5         32         32   \n",
              "12      18.25          20       24.5         17      84.75         85   \n",
              "13      14.25          20       10.5          0      49.75         50   \n",
              "14      15.25          20          6        9.5      55.75         56   \n",
              "15      15.75          20          9         15      64.75         65   \n",
              "16      16.25          20        4.5       16.5      62.25         62   \n",
              "17      17.75          20       17.5         17      77.25         77   \n",
              "18      16.25          20       15.5         15      71.75         72   \n",
              "19      15.75          20         13        8.5      62.25         62   \n",
              "20       11.5          10         18          0       44.5         45   \n",
              "21      15.75       18.95         14         11       64.7         65   \n",
              "22      12.75          20         15          4      56.75         57   \n",
              "23      15.75          20         17       17.5      75.25         75   \n",
              "24      12.25       19.95          9        5.5       51.7         52   \n",
              "25      17.25          20         22         23      87.25         87   \n",
              "26         16          20       23.5       15.5         80         80   \n",
              "27      16.75          20       22.5       11.5      75.75         76   \n",
              "28       17.5          20         19       28.5         90         90   \n",
              "29      17.75       19.95       21.5       20.5       84.7         85   \n",
              "30       16.5          20         21       22.5         85         85   \n",
              "31         10          20       13.5          4       52.5         53   \n",
              "32         11          20       20.5          0       56.5         57   \n",
              "33      17.75          20         22         21      85.75         86   \n",
              "34       16.5          20         18         22       81.5         82   \n",
              "35         16          20       16.5       28.5         86         86   \n",
              "36         18          20         20       16.5       79.5         80   \n",
              "37       17.5       19.95       22.5         25      89.95         90   \n",
              "38       16.5          20         19         14       74.5         75   \n",
              "39         16          20       19.5       22.5         83         83   \n",
              "40       17.5          20       17.5         15         75         75   \n",
              "41      14.75          20         15         11      65.75         66   \n",
              "42       18.5          20       19.5       24.5       87.5         88   \n",
              "43         19          20         19         25         88         88   \n",
              "44       18.5          20       24.5         22         90         90   \n",
              "45       17.5          20       20.5       11.5       74.5         75   \n",
              "46       16.5          20         14       17.5         73         73   \n",
              "47       16.5       19.95         20       16.5      77.95         78   \n",
              "48       16.5       19.95         20       18.5      79.95         80   \n",
              "49         16          20       19.5       15.5         76         76   \n",
              "50       17.5          20       24.5         10         77         77   \n",
              "\n",
              "      Unnamed: 10 Unnamed: 11  \n",
              "7          GRADES      SUFFIX  \n",
              "8   (with suffix)  (in words)  \n",
              "9              B+        PLUS  \n",
              "10              B       PLAIN  \n",
              "11              F       PLAIN  \n",
              "12             A-       MINUS  \n",
              "13             D-       MINUS  \n",
              "14             D+        PLUS  \n",
              "15             C+        PLUS  \n",
              "16              C       PLAIN  \n",
              "17              B       PLAIN  \n",
              "18             B-       MINUS  \n",
              "19              C       PLAIN  \n",
              "20              F       PLAIN  \n",
              "21             C+        PLUS  \n",
              "22             C-       MINUS  \n",
              "23              B       PLAIN  \n",
              "24              D       PLAIN  \n",
              "25             A-       MINUS  \n",
              "26             B+        PLUS  \n",
              "27              B       PLAIN  \n",
              "28              A       PLAIN  \n",
              "29             A-       MINUS  \n",
              "30             A-       MINUS  \n",
              "31              D       PLAIN  \n",
              "32             C-       MINUS  \n",
              "33             A-       MINUS  \n",
              "34             B+        PLUS  \n",
              "35             A-       MINUS  \n",
              "36             B+        PLUS  \n",
              "37              A       PLAIN  \n",
              "38              B       PLAIN  \n",
              "39             B+        PLUS  \n",
              "40              B       PLAIN  \n",
              "41             C+        PLUS  \n",
              "42             A-       MINUS  \n",
              "43             A-       MINUS  \n",
              "44              A       PLAIN  \n",
              "45              B       PLAIN  \n",
              "46             B-       MINUS  \n",
              "47              B       PLAIN  \n",
              "48             B+        PLUS  \n",
              "49              B       PLAIN  \n",
              "50              B       PLAIN  "
            ],
            "text/html": [
              "\n",
              "  <div id=\"df-0ab928f0-9d41-4285-a298-9a58e7264ec2\" class=\"colab-df-container\">\n",
              "    <div>\n",
              "<style scoped>\n",
              "    .dataframe tbody tr th:only-of-type {\n",
              "        vertical-align: middle;\n",
              "    }\n",
              "\n",
              "    .dataframe tbody tr th {\n",
              "        vertical-align: top;\n",
              "    }\n",
              "\n",
              "    .dataframe thead th {\n",
              "        text-align: right;\n",
              "    }\n",
              "</style>\n",
              "<table border=\"1\" class=\"dataframe\">\n",
              "  <thead>\n",
              "    <tr style=\"text-align: right;\">\n",
              "      <th></th>\n",
              "      <th>Unnamed: 0</th>\n",
              "      <th>Unnamed: 1</th>\n",
              "      <th>BRAC UNIVERSITY</th>\n",
              "      <th>Unnamed: 3</th>\n",
              "      <th>Unnamed: 4</th>\n",
              "      <th>Unnamed: 5</th>\n",
              "      <th>Unnamed: 6</th>\n",
              "      <th>Unnamed: 7</th>\n",
              "      <th>Unnamed: 8</th>\n",
              "      <th>Unnamed: 9</th>\n",
              "      <th>Unnamed: 10</th>\n",
              "      <th>Unnamed: 11</th>\n",
              "    </tr>\n",
              "  </thead>\n",
              "  <tbody>\n",
              "    <tr>\n",
              "      <th>7</th>\n",
              "      <td>SL #</td>\n",
              "      <td>STUDENT ID #</td>\n",
              "      <td>STUDENT NAME</td>\n",
              "      <td>ATTEN.</td>\n",
              "      <td>QUIZ</td>\n",
              "      <td>ASSIGNMENT</td>\n",
              "      <td>MIDTERM</td>\n",
              "      <td>FINAL</td>\n",
              "      <td>Total</td>\n",
              "      <td>Total</td>\n",
              "      <td>GRADES</td>\n",
              "      <td>SUFFIX</td>\n",
              "    </tr>\n",
              "    <tr>\n",
              "      <th>8</th>\n",
              "      <td>NaN</td>\n",
              "      <td>NaN</td>\n",
              "      <td>NaN</td>\n",
              "      <td>0.05</td>\n",
              "      <td>0.2</td>\n",
              "      <td>0.2</td>\n",
              "      <td>0.25</td>\n",
              "      <td>0.3</td>\n",
              "      <td>100</td>\n",
              "      <td>1</td>\n",
              "      <td>(with suffix)</td>\n",
              "      <td>(in words)</td>\n",
              "    </tr>\n",
              "    <tr>\n",
              "      <th>9</th>\n",
              "      <td>1</td>\n",
              "      <td>19101307</td>\n",
              "      <td>NISHAT TASNIM NOVA</td>\n",
              "      <td>5</td>\n",
              "      <td>17.75</td>\n",
              "      <td>20</td>\n",
              "      <td>24.5</td>\n",
              "      <td>13</td>\n",
              "      <td>80.25</td>\n",
              "      <td>80</td>\n",
              "      <td>B+</td>\n",
              "      <td>PLUS</td>\n",
              "    </tr>\n",
              "    <tr>\n",
              "      <th>10</th>\n",
              "      <td>2</td>\n",
              "      <td>21101289</td>\n",
              "      <td>ASIF AHMED JOY</td>\n",
              "      <td>5</td>\n",
              "      <td>15.25</td>\n",
              "      <td>20</td>\n",
              "      <td>14</td>\n",
              "      <td>20.5</td>\n",
              "      <td>74.75</td>\n",
              "      <td>75</td>\n",
              "      <td>B</td>\n",
              "      <td>PLAIN</td>\n",
              "    </tr>\n",
              "    <tr>\n",
              "      <th>11</th>\n",
              "      <td>3</td>\n",
              "      <td>22101391</td>\n",
              "      <td>S. M. APURBO</td>\n",
              "      <td>5</td>\n",
              "      <td>8.5</td>\n",
              "      <td>0</td>\n",
              "      <td>13.5</td>\n",
              "      <td>5</td>\n",
              "      <td>32</td>\n",
              "      <td>32</td>\n",
              "      <td>F</td>\n",
              "      <td>PLAIN</td>\n",
              "    </tr>\n",
              "    <tr>\n",
              "      <th>12</th>\n",
              "      <td>4</td>\n",
              "      <td>22201238</td>\n",
              "      <td>FAWZIA HASAN ORODI</td>\n",
              "      <td>5</td>\n",
              "      <td>18.25</td>\n",
              "      <td>20</td>\n",
              "      <td>24.5</td>\n",
              "      <td>17</td>\n",
              "      <td>84.75</td>\n",
              "      <td>85</td>\n",
              "      <td>A-</td>\n",
              "      <td>MINUS</td>\n",
              "    </tr>\n",
              "    <tr>\n",
              "      <th>13</th>\n",
              "      <td>5</td>\n",
              "      <td>22201466</td>\n",
              "      <td>PURNIMA ROY TITHI</td>\n",
              "      <td>5</td>\n",
              "      <td>14.25</td>\n",
              "      <td>20</td>\n",
              "      <td>10.5</td>\n",
              "      <td>0</td>\n",
              "      <td>49.75</td>\n",
              "      <td>50</td>\n",
              "      <td>D-</td>\n",
              "      <td>MINUS</td>\n",
              "    </tr>\n",
              "    <tr>\n",
              "      <th>14</th>\n",
              "      <td>6</td>\n",
              "      <td>22201734</td>\n",
              "      <td>TANJUM RUKHSAT PRAPTY</td>\n",
              "      <td>5</td>\n",
              "      <td>15.25</td>\n",
              "      <td>20</td>\n",
              "      <td>6</td>\n",
              "      <td>9.5</td>\n",
              "      <td>55.75</td>\n",
              "      <td>56</td>\n",
              "      <td>D+</td>\n",
              "      <td>PLUS</td>\n",
              "    </tr>\n",
              "    <tr>\n",
              "      <th>15</th>\n",
              "      <td>7</td>\n",
              "      <td>22221075</td>\n",
              "      <td>NIGAR ALAM RAFA</td>\n",
              "      <td>5</td>\n",
              "      <td>15.75</td>\n",
              "      <td>20</td>\n",
              "      <td>9</td>\n",
              "      <td>15</td>\n",
              "      <td>64.75</td>\n",
              "      <td>65</td>\n",
              "      <td>C+</td>\n",
              "      <td>PLUS</td>\n",
              "    </tr>\n",
              "    <tr>\n",
              "      <th>16</th>\n",
              "      <td>8</td>\n",
              "      <td>22221124</td>\n",
              "      <td>FAHMIDA FAIZA</td>\n",
              "      <td>5</td>\n",
              "      <td>16.25</td>\n",
              "      <td>20</td>\n",
              "      <td>4.5</td>\n",
              "      <td>16.5</td>\n",
              "      <td>62.25</td>\n",
              "      <td>62</td>\n",
              "      <td>C</td>\n",
              "      <td>PLAIN</td>\n",
              "    </tr>\n",
              "    <tr>\n",
              "      <th>17</th>\n",
              "      <td>9</td>\n",
              "      <td>22241054</td>\n",
              "      <td>MAHMUDUL AMIN</td>\n",
              "      <td>5</td>\n",
              "      <td>17.75</td>\n",
              "      <td>20</td>\n",
              "      <td>17.5</td>\n",
              "      <td>17</td>\n",
              "      <td>77.25</td>\n",
              "      <td>77</td>\n",
              "      <td>B</td>\n",
              "      <td>PLAIN</td>\n",
              "    </tr>\n",
              "    <tr>\n",
              "      <th>18</th>\n",
              "      <td>10</td>\n",
              "      <td>22299173</td>\n",
              "      <td>ANIKA TABASSUM</td>\n",
              "      <td>5</td>\n",
              "      <td>16.25</td>\n",
              "      <td>20</td>\n",
              "      <td>15.5</td>\n",
              "      <td>15</td>\n",
              "      <td>71.75</td>\n",
              "      <td>72</td>\n",
              "      <td>B-</td>\n",
              "      <td>MINUS</td>\n",
              "    </tr>\n",
              "    <tr>\n",
              "      <th>19</th>\n",
              "      <td>11</td>\n",
              "      <td>22299461</td>\n",
              "      <td>MASHRUR AREFIN</td>\n",
              "      <td>5</td>\n",
              "      <td>15.75</td>\n",
              "      <td>20</td>\n",
              "      <td>13</td>\n",
              "      <td>8.5</td>\n",
              "      <td>62.25</td>\n",
              "      <td>62</td>\n",
              "      <td>C</td>\n",
              "      <td>PLAIN</td>\n",
              "    </tr>\n",
              "    <tr>\n",
              "      <th>20</th>\n",
              "      <td>12</td>\n",
              "      <td>22299530</td>\n",
              "      <td>MAHYBUL HUSSAIN</td>\n",
              "      <td>5</td>\n",
              "      <td>11.5</td>\n",
              "      <td>10</td>\n",
              "      <td>18</td>\n",
              "      <td>0</td>\n",
              "      <td>44.5</td>\n",
              "      <td>45</td>\n",
              "      <td>F</td>\n",
              "      <td>PLAIN</td>\n",
              "    </tr>\n",
              "    <tr>\n",
              "      <th>21</th>\n",
              "      <td>13</td>\n",
              "      <td>22301140</td>\n",
              "      <td>RUTBA TASNIM RIDIKA</td>\n",
              "      <td>5</td>\n",
              "      <td>15.75</td>\n",
              "      <td>18.95</td>\n",
              "      <td>14</td>\n",
              "      <td>11</td>\n",
              "      <td>64.7</td>\n",
              "      <td>65</td>\n",
              "      <td>C+</td>\n",
              "      <td>PLUS</td>\n",
              "    </tr>\n",
              "    <tr>\n",
              "      <th>22</th>\n",
              "      <td>14</td>\n",
              "      <td>22301375</td>\n",
              "      <td>FAHIM SHIHAB</td>\n",
              "      <td>5</td>\n",
              "      <td>12.75</td>\n",
              "      <td>20</td>\n",
              "      <td>15</td>\n",
              "      <td>4</td>\n",
              "      <td>56.75</td>\n",
              "      <td>57</td>\n",
              "      <td>C-</td>\n",
              "      <td>MINUS</td>\n",
              "    </tr>\n",
              "    <tr>\n",
              "      <th>23</th>\n",
              "      <td>15</td>\n",
              "      <td>22301454</td>\n",
              "      <td>RAFIYAT REZA SHIRAJY</td>\n",
              "      <td>5</td>\n",
              "      <td>15.75</td>\n",
              "      <td>20</td>\n",
              "      <td>17</td>\n",
              "      <td>17.5</td>\n",
              "      <td>75.25</td>\n",
              "      <td>75</td>\n",
              "      <td>B</td>\n",
              "      <td>PLAIN</td>\n",
              "    </tr>\n",
              "    <tr>\n",
              "      <th>24</th>\n",
              "      <td>16</td>\n",
              "      <td>22301511</td>\n",
              "      <td>AL SHAHRIYAR RAHMAN PROTTOY</td>\n",
              "      <td>5</td>\n",
              "      <td>12.25</td>\n",
              "      <td>19.95</td>\n",
              "      <td>9</td>\n",
              "      <td>5.5</td>\n",
              "      <td>51.7</td>\n",
              "      <td>52</td>\n",
              "      <td>D</td>\n",
              "      <td>PLAIN</td>\n",
              "    </tr>\n",
              "    <tr>\n",
              "      <th>25</th>\n",
              "      <td>17</td>\n",
              "      <td>23101100</td>\n",
              "      <td>ABRAR HOSSAIN</td>\n",
              "      <td>5</td>\n",
              "      <td>17.25</td>\n",
              "      <td>20</td>\n",
              "      <td>22</td>\n",
              "      <td>23</td>\n",
              "      <td>87.25</td>\n",
              "      <td>87</td>\n",
              "      <td>A-</td>\n",
              "      <td>MINUS</td>\n",
              "    </tr>\n",
              "    <tr>\n",
              "      <th>26</th>\n",
              "      <td>18</td>\n",
              "      <td>23101159</td>\n",
              "      <td>ROWNAK JAHAN</td>\n",
              "      <td>5</td>\n",
              "      <td>16</td>\n",
              "      <td>20</td>\n",
              "      <td>23.5</td>\n",
              "      <td>15.5</td>\n",
              "      <td>80</td>\n",
              "      <td>80</td>\n",
              "      <td>B+</td>\n",
              "      <td>PLUS</td>\n",
              "    </tr>\n",
              "    <tr>\n",
              "      <th>27</th>\n",
              "      <td>19</td>\n",
              "      <td>23101270</td>\n",
              "      <td>PARISA ASAF</td>\n",
              "      <td>5</td>\n",
              "      <td>16.75</td>\n",
              "      <td>20</td>\n",
              "      <td>22.5</td>\n",
              "      <td>11.5</td>\n",
              "      <td>75.75</td>\n",
              "      <td>76</td>\n",
              "      <td>B</td>\n",
              "      <td>PLAIN</td>\n",
              "    </tr>\n",
              "    <tr>\n",
              "      <th>28</th>\n",
              "      <td>20</td>\n",
              "      <td>23101342</td>\n",
              "      <td>KAMRUL HASSAN NILOY</td>\n",
              "      <td>5</td>\n",
              "      <td>17.5</td>\n",
              "      <td>20</td>\n",
              "      <td>19</td>\n",
              "      <td>28.5</td>\n",
              "      <td>90</td>\n",
              "      <td>90</td>\n",
              "      <td>A</td>\n",
              "      <td>PLAIN</td>\n",
              "    </tr>\n",
              "    <tr>\n",
              "      <th>29</th>\n",
              "      <td>21</td>\n",
              "      <td>23101453</td>\n",
              "      <td>SHAHADAT SIKDER FAHAD</td>\n",
              "      <td>5</td>\n",
              "      <td>17.75</td>\n",
              "      <td>19.95</td>\n",
              "      <td>21.5</td>\n",
              "      <td>20.5</td>\n",
              "      <td>84.7</td>\n",
              "      <td>85</td>\n",
              "      <td>A-</td>\n",
              "      <td>MINUS</td>\n",
              "    </tr>\n",
              "    <tr>\n",
              "      <th>30</th>\n",
              "      <td>22</td>\n",
              "      <td>23101460</td>\n",
              "      <td>SAZIA HASAN</td>\n",
              "      <td>5</td>\n",
              "      <td>16.5</td>\n",
              "      <td>20</td>\n",
              "      <td>21</td>\n",
              "      <td>22.5</td>\n",
              "      <td>85</td>\n",
              "      <td>85</td>\n",
              "      <td>A-</td>\n",
              "      <td>MINUS</td>\n",
              "    </tr>\n",
              "    <tr>\n",
              "      <th>31</th>\n",
              "      <td>23</td>\n",
              "      <td>23101542</td>\n",
              "      <td>LOGNO RANJAN BARMAN</td>\n",
              "      <td>5</td>\n",
              "      <td>10</td>\n",
              "      <td>20</td>\n",
              "      <td>13.5</td>\n",
              "      <td>4</td>\n",
              "      <td>52.5</td>\n",
              "      <td>53</td>\n",
              "      <td>D</td>\n",
              "      <td>PLAIN</td>\n",
              "    </tr>\n",
              "    <tr>\n",
              "      <th>32</th>\n",
              "      <td>24</td>\n",
              "      <td>23141010</td>\n",
              "      <td>TANVIR ISHTIAQ</td>\n",
              "      <td>5</td>\n",
              "      <td>11</td>\n",
              "      <td>20</td>\n",
              "      <td>20.5</td>\n",
              "      <td>0</td>\n",
              "      <td>56.5</td>\n",
              "      <td>57</td>\n",
              "      <td>C-</td>\n",
              "      <td>MINUS</td>\n",
              "    </tr>\n",
              "    <tr>\n",
              "      <th>33</th>\n",
              "      <td>25</td>\n",
              "      <td>23201409</td>\n",
              "      <td>MOHAMMAD HASIBUL AMIN</td>\n",
              "      <td>5</td>\n",
              "      <td>17.75</td>\n",
              "      <td>20</td>\n",
              "      <td>22</td>\n",
              "      <td>21</td>\n",
              "      <td>85.75</td>\n",
              "      <td>86</td>\n",
              "      <td>A-</td>\n",
              "      <td>MINUS</td>\n",
              "    </tr>\n",
              "    <tr>\n",
              "      <th>34</th>\n",
              "      <td>26</td>\n",
              "      <td>23201426</td>\n",
              "      <td>MRINMOY DAS ORGHO</td>\n",
              "      <td>5</td>\n",
              "      <td>16.5</td>\n",
              "      <td>20</td>\n",
              "      <td>18</td>\n",
              "      <td>22</td>\n",
              "      <td>81.5</td>\n",
              "      <td>82</td>\n",
              "      <td>B+</td>\n",
              "      <td>PLUS</td>\n",
              "    </tr>\n",
              "    <tr>\n",
              "      <th>35</th>\n",
              "      <td>27</td>\n",
              "      <td>23201439</td>\n",
              "      <td>SAADMAN ZAHOR</td>\n",
              "      <td>5</td>\n",
              "      <td>16</td>\n",
              "      <td>20</td>\n",
              "      <td>16.5</td>\n",
              "      <td>28.5</td>\n",
              "      <td>86</td>\n",
              "      <td>86</td>\n",
              "      <td>A-</td>\n",
              "      <td>MINUS</td>\n",
              "    </tr>\n",
              "    <tr>\n",
              "      <th>36</th>\n",
              "      <td>28</td>\n",
              "      <td>23201555</td>\n",
              "      <td>FUAD MOHAMMED JAWAD</td>\n",
              "      <td>5</td>\n",
              "      <td>18</td>\n",
              "      <td>20</td>\n",
              "      <td>20</td>\n",
              "      <td>16.5</td>\n",
              "      <td>79.5</td>\n",
              "      <td>80</td>\n",
              "      <td>B+</td>\n",
              "      <td>PLUS</td>\n",
              "    </tr>\n",
              "    <tr>\n",
              "      <th>37</th>\n",
              "      <td>29</td>\n",
              "      <td>23221002</td>\n",
              "      <td>FARIHA RAHMAN</td>\n",
              "      <td>5</td>\n",
              "      <td>17.5</td>\n",
              "      <td>19.95</td>\n",
              "      <td>22.5</td>\n",
              "      <td>25</td>\n",
              "      <td>89.95</td>\n",
              "      <td>90</td>\n",
              "      <td>A</td>\n",
              "      <td>PLAIN</td>\n",
              "    </tr>\n",
              "    <tr>\n",
              "      <th>38</th>\n",
              "      <td>30</td>\n",
              "      <td>23301103</td>\n",
              "      <td>SULTAN SAJED SHAHRIAR</td>\n",
              "      <td>5</td>\n",
              "      <td>16.5</td>\n",
              "      <td>20</td>\n",
              "      <td>19</td>\n",
              "      <td>14</td>\n",
              "      <td>74.5</td>\n",
              "      <td>75</td>\n",
              "      <td>B</td>\n",
              "      <td>PLAIN</td>\n",
              "    </tr>\n",
              "    <tr>\n",
              "      <th>39</th>\n",
              "      <td>31</td>\n",
              "      <td>23301140</td>\n",
              "      <td>RAIYAN RAHMAN</td>\n",
              "      <td>5</td>\n",
              "      <td>16</td>\n",
              "      <td>20</td>\n",
              "      <td>19.5</td>\n",
              "      <td>22.5</td>\n",
              "      <td>83</td>\n",
              "      <td>83</td>\n",
              "      <td>B+</td>\n",
              "      <td>PLUS</td>\n",
              "    </tr>\n",
              "    <tr>\n",
              "      <th>40</th>\n",
              "      <td>32</td>\n",
              "      <td>23301228</td>\n",
              "      <td>LABIBA TASHFIA</td>\n",
              "      <td>5</td>\n",
              "      <td>17.5</td>\n",
              "      <td>20</td>\n",
              "      <td>17.5</td>\n",
              "      <td>15</td>\n",
              "      <td>75</td>\n",
              "      <td>75</td>\n",
              "      <td>B</td>\n",
              "      <td>PLAIN</td>\n",
              "    </tr>\n",
              "    <tr>\n",
              "      <th>41</th>\n",
              "      <td>33</td>\n",
              "      <td>23301253</td>\n",
              "      <td>MOHTASIM AHMED</td>\n",
              "      <td>5</td>\n",
              "      <td>14.75</td>\n",
              "      <td>20</td>\n",
              "      <td>15</td>\n",
              "      <td>11</td>\n",
              "      <td>65.75</td>\n",
              "      <td>66</td>\n",
              "      <td>C+</td>\n",
              "      <td>PLUS</td>\n",
              "    </tr>\n",
              "    <tr>\n",
              "      <th>42</th>\n",
              "      <td>34</td>\n",
              "      <td>23301255</td>\n",
              "      <td>ATICK FUAD ANABIL</td>\n",
              "      <td>5</td>\n",
              "      <td>18.5</td>\n",
              "      <td>20</td>\n",
              "      <td>19.5</td>\n",
              "      <td>24.5</td>\n",
              "      <td>87.5</td>\n",
              "      <td>88</td>\n",
              "      <td>A-</td>\n",
              "      <td>MINUS</td>\n",
              "    </tr>\n",
              "    <tr>\n",
              "      <th>43</th>\n",
              "      <td>35</td>\n",
              "      <td>23301267</td>\n",
              "      <td>TASMIM RATRI</td>\n",
              "      <td>5</td>\n",
              "      <td>19</td>\n",
              "      <td>20</td>\n",
              "      <td>19</td>\n",
              "      <td>25</td>\n",
              "      <td>88</td>\n",
              "      <td>88</td>\n",
              "      <td>A-</td>\n",
              "      <td>MINUS</td>\n",
              "    </tr>\n",
              "    <tr>\n",
              "      <th>44</th>\n",
              "      <td>36</td>\n",
              "      <td>23301307</td>\n",
              "      <td>SAMI BIN HEDAYET</td>\n",
              "      <td>5</td>\n",
              "      <td>18.5</td>\n",
              "      <td>20</td>\n",
              "      <td>24.5</td>\n",
              "      <td>22</td>\n",
              "      <td>90</td>\n",
              "      <td>90</td>\n",
              "      <td>A</td>\n",
              "      <td>PLAIN</td>\n",
              "    </tr>\n",
              "    <tr>\n",
              "      <th>45</th>\n",
              "      <td>37</td>\n",
              "      <td>23301433</td>\n",
              "      <td>KAZI MD JAWADUL HOQUE</td>\n",
              "      <td>5</td>\n",
              "      <td>17.5</td>\n",
              "      <td>20</td>\n",
              "      <td>20.5</td>\n",
              "      <td>11.5</td>\n",
              "      <td>74.5</td>\n",
              "      <td>75</td>\n",
              "      <td>B</td>\n",
              "      <td>PLAIN</td>\n",
              "    </tr>\n",
              "    <tr>\n",
              "      <th>46</th>\n",
              "      <td>38</td>\n",
              "      <td>23301653</td>\n",
              "      <td>ABDULLAH AL SHAFEE</td>\n",
              "      <td>5</td>\n",
              "      <td>16.5</td>\n",
              "      <td>20</td>\n",
              "      <td>14</td>\n",
              "      <td>17.5</td>\n",
              "      <td>73</td>\n",
              "      <td>73</td>\n",
              "      <td>B-</td>\n",
              "      <td>MINUS</td>\n",
              "    </tr>\n",
              "    <tr>\n",
              "      <th>47</th>\n",
              "      <td>39</td>\n",
              "      <td>24101662</td>\n",
              "      <td>ROKEYA SUMAIYA</td>\n",
              "      <td>5</td>\n",
              "      <td>16.5</td>\n",
              "      <td>19.95</td>\n",
              "      <td>20</td>\n",
              "      <td>16.5</td>\n",
              "      <td>77.95</td>\n",
              "      <td>78</td>\n",
              "      <td>B</td>\n",
              "      <td>PLAIN</td>\n",
              "    </tr>\n",
              "    <tr>\n",
              "      <th>48</th>\n",
              "      <td>40</td>\n",
              "      <td>24121044</td>\n",
              "      <td>SHAH ISRAR MIRZA</td>\n",
              "      <td>5</td>\n",
              "      <td>16.5</td>\n",
              "      <td>19.95</td>\n",
              "      <td>20</td>\n",
              "      <td>18.5</td>\n",
              "      <td>79.95</td>\n",
              "      <td>80</td>\n",
              "      <td>B+</td>\n",
              "      <td>PLUS</td>\n",
              "    </tr>\n",
              "    <tr>\n",
              "      <th>49</th>\n",
              "      <td>41</td>\n",
              "      <td>24241245</td>\n",
              "      <td>NABIL ISHMAM</td>\n",
              "      <td>5</td>\n",
              "      <td>16</td>\n",
              "      <td>20</td>\n",
              "      <td>19.5</td>\n",
              "      <td>15.5</td>\n",
              "      <td>76</td>\n",
              "      <td>76</td>\n",
              "      <td>B</td>\n",
              "      <td>PLAIN</td>\n",
              "    </tr>\n",
              "    <tr>\n",
              "      <th>50</th>\n",
              "      <td>42</td>\n",
              "      <td>24341262</td>\n",
              "      <td>KHALED SAIFULLAH KARIM</td>\n",
              "      <td>5</td>\n",
              "      <td>17.5</td>\n",
              "      <td>20</td>\n",
              "      <td>24.5</td>\n",
              "      <td>10</td>\n",
              "      <td>77</td>\n",
              "      <td>77</td>\n",
              "      <td>B</td>\n",
              "      <td>PLAIN</td>\n",
              "    </tr>\n",
              "  </tbody>\n",
              "</table>\n",
              "</div>\n",
              "    <div class=\"colab-df-buttons\">\n",
              "\n",
              "  <div class=\"colab-df-container\">\n",
              "    <button class=\"colab-df-convert\" onclick=\"convertToInteractive('df-0ab928f0-9d41-4285-a298-9a58e7264ec2')\"\n",
              "            title=\"Convert this dataframe to an interactive table.\"\n",
              "            style=\"display:none;\">\n",
              "\n",
              "  <svg xmlns=\"http://www.w3.org/2000/svg\" height=\"24px\" viewBox=\"0 -960 960 960\">\n",
              "    <path d=\"M120-120v-720h720v720H120Zm60-500h600v-160H180v160Zm220 220h160v-160H400v160Zm0 220h160v-160H400v160ZM180-400h160v-160H180v160Zm440 0h160v-160H620v160ZM180-180h160v-160H180v160Zm440 0h160v-160H620v160Z\"/>\n",
              "  </svg>\n",
              "    </button>\n",
              "\n",
              "  <style>\n",
              "    .colab-df-container {\n",
              "      display:flex;\n",
              "      gap: 12px;\n",
              "    }\n",
              "\n",
              "    .colab-df-convert {\n",
              "      background-color: #E8F0FE;\n",
              "      border: none;\n",
              "      border-radius: 50%;\n",
              "      cursor: pointer;\n",
              "      display: none;\n",
              "      fill: #1967D2;\n",
              "      height: 32px;\n",
              "      padding: 0 0 0 0;\n",
              "      width: 32px;\n",
              "    }\n",
              "\n",
              "    .colab-df-convert:hover {\n",
              "      background-color: #E2EBFA;\n",
              "      box-shadow: 0px 1px 2px rgba(60, 64, 67, 0.3), 0px 1px 3px 1px rgba(60, 64, 67, 0.15);\n",
              "      fill: #174EA6;\n",
              "    }\n",
              "\n",
              "    .colab-df-buttons div {\n",
              "      margin-bottom: 4px;\n",
              "    }\n",
              "\n",
              "    [theme=dark] .colab-df-convert {\n",
              "      background-color: #3B4455;\n",
              "      fill: #D2E3FC;\n",
              "    }\n",
              "\n",
              "    [theme=dark] .colab-df-convert:hover {\n",
              "      background-color: #434B5C;\n",
              "      box-shadow: 0px 1px 3px 1px rgba(0, 0, 0, 0.15);\n",
              "      filter: drop-shadow(0px 1px 2px rgba(0, 0, 0, 0.3));\n",
              "      fill: #FFFFFF;\n",
              "    }\n",
              "  </style>\n",
              "\n",
              "    <script>\n",
              "      const buttonEl =\n",
              "        document.querySelector('#df-0ab928f0-9d41-4285-a298-9a58e7264ec2 button.colab-df-convert');\n",
              "      buttonEl.style.display =\n",
              "        google.colab.kernel.accessAllowed ? 'block' : 'none';\n",
              "\n",
              "      async function convertToInteractive(key) {\n",
              "        const element = document.querySelector('#df-0ab928f0-9d41-4285-a298-9a58e7264ec2');\n",
              "        const dataTable =\n",
              "          await google.colab.kernel.invokeFunction('convertToInteractive',\n",
              "                                                    [key], {});\n",
              "        if (!dataTable) return;\n",
              "\n",
              "        const docLinkHtml = 'Like what you see? Visit the ' +\n",
              "          '<a target=\"_blank\" href=https://colab.research.google.com/notebooks/data_table.ipynb>data table notebook</a>'\n",
              "          + ' to learn more about interactive tables.';\n",
              "        element.innerHTML = '';\n",
              "        dataTable['output_type'] = 'display_data';\n",
              "        await google.colab.output.renderOutput(dataTable, element);\n",
              "        const docLink = document.createElement('div');\n",
              "        docLink.innerHTML = docLinkHtml;\n",
              "        element.appendChild(docLink);\n",
              "      }\n",
              "    </script>\n",
              "  </div>\n",
              "\n",
              "\n",
              "    <div id=\"df-c506566f-665d-4047-8c4c-bd0650727fbd\">\n",
              "      <button class=\"colab-df-quickchart\" onclick=\"quickchart('df-c506566f-665d-4047-8c4c-bd0650727fbd')\"\n",
              "                title=\"Suggest charts\"\n",
              "                style=\"display:none;\">\n",
              "\n",
              "<svg xmlns=\"http://www.w3.org/2000/svg\" height=\"24px\"viewBox=\"0 0 24 24\"\n",
              "     width=\"24px\">\n",
              "    <g>\n",
              "        <path d=\"M19 3H5c-1.1 0-2 .9-2 2v14c0 1.1.9 2 2 2h14c1.1 0 2-.9 2-2V5c0-1.1-.9-2-2-2zM9 17H7v-7h2v7zm4 0h-2V7h2v10zm4 0h-2v-4h2v4z\"/>\n",
              "    </g>\n",
              "</svg>\n",
              "      </button>\n",
              "\n",
              "<style>\n",
              "  .colab-df-quickchart {\n",
              "      --bg-color: #E8F0FE;\n",
              "      --fill-color: #1967D2;\n",
              "      --hover-bg-color: #E2EBFA;\n",
              "      --hover-fill-color: #174EA6;\n",
              "      --disabled-fill-color: #AAA;\n",
              "      --disabled-bg-color: #DDD;\n",
              "  }\n",
              "\n",
              "  [theme=dark] .colab-df-quickchart {\n",
              "      --bg-color: #3B4455;\n",
              "      --fill-color: #D2E3FC;\n",
              "      --hover-bg-color: #434B5C;\n",
              "      --hover-fill-color: #FFFFFF;\n",
              "      --disabled-bg-color: #3B4455;\n",
              "      --disabled-fill-color: #666;\n",
              "  }\n",
              "\n",
              "  .colab-df-quickchart {\n",
              "    background-color: var(--bg-color);\n",
              "    border: none;\n",
              "    border-radius: 50%;\n",
              "    cursor: pointer;\n",
              "    display: none;\n",
              "    fill: var(--fill-color);\n",
              "    height: 32px;\n",
              "    padding: 0;\n",
              "    width: 32px;\n",
              "  }\n",
              "\n",
              "  .colab-df-quickchart:hover {\n",
              "    background-color: var(--hover-bg-color);\n",
              "    box-shadow: 0 1px 2px rgba(60, 64, 67, 0.3), 0 1px 3px 1px rgba(60, 64, 67, 0.15);\n",
              "    fill: var(--button-hover-fill-color);\n",
              "  }\n",
              "\n",
              "  .colab-df-quickchart-complete:disabled,\n",
              "  .colab-df-quickchart-complete:disabled:hover {\n",
              "    background-color: var(--disabled-bg-color);\n",
              "    fill: var(--disabled-fill-color);\n",
              "    box-shadow: none;\n",
              "  }\n",
              "\n",
              "  .colab-df-spinner {\n",
              "    border: 2px solid var(--fill-color);\n",
              "    border-color: transparent;\n",
              "    border-bottom-color: var(--fill-color);\n",
              "    animation:\n",
              "      spin 1s steps(1) infinite;\n",
              "  }\n",
              "\n",
              "  @keyframes spin {\n",
              "    0% {\n",
              "      border-color: transparent;\n",
              "      border-bottom-color: var(--fill-color);\n",
              "      border-left-color: var(--fill-color);\n",
              "    }\n",
              "    20% {\n",
              "      border-color: transparent;\n",
              "      border-left-color: var(--fill-color);\n",
              "      border-top-color: var(--fill-color);\n",
              "    }\n",
              "    30% {\n",
              "      border-color: transparent;\n",
              "      border-left-color: var(--fill-color);\n",
              "      border-top-color: var(--fill-color);\n",
              "      border-right-color: var(--fill-color);\n",
              "    }\n",
              "    40% {\n",
              "      border-color: transparent;\n",
              "      border-right-color: var(--fill-color);\n",
              "      border-top-color: var(--fill-color);\n",
              "    }\n",
              "    60% {\n",
              "      border-color: transparent;\n",
              "      border-right-color: var(--fill-color);\n",
              "    }\n",
              "    80% {\n",
              "      border-color: transparent;\n",
              "      border-right-color: var(--fill-color);\n",
              "      border-bottom-color: var(--fill-color);\n",
              "    }\n",
              "    90% {\n",
              "      border-color: transparent;\n",
              "      border-bottom-color: var(--fill-color);\n",
              "    }\n",
              "  }\n",
              "</style>\n",
              "\n",
              "      <script>\n",
              "        async function quickchart(key) {\n",
              "          const quickchartButtonEl =\n",
              "            document.querySelector('#' + key + ' button');\n",
              "          quickchartButtonEl.disabled = true;  // To prevent multiple clicks.\n",
              "          quickchartButtonEl.classList.add('colab-df-spinner');\n",
              "          try {\n",
              "            const charts = await google.colab.kernel.invokeFunction(\n",
              "                'suggestCharts', [key], {});\n",
              "          } catch (error) {\n",
              "            console.error('Error during call to suggestCharts:', error);\n",
              "          }\n",
              "          quickchartButtonEl.classList.remove('colab-df-spinner');\n",
              "          quickchartButtonEl.classList.add('colab-df-quickchart-complete');\n",
              "        }\n",
              "        (() => {\n",
              "          let quickchartButtonEl =\n",
              "            document.querySelector('#df-c506566f-665d-4047-8c4c-bd0650727fbd button');\n",
              "          quickchartButtonEl.style.display =\n",
              "            google.colab.kernel.accessAllowed ? 'block' : 'none';\n",
              "        })();\n",
              "      </script>\n",
              "    </div>\n",
              "\n",
              "  <div id=\"id_a1e3c494-1cd8-4c8f-8a72-56aee41edf55\">\n",
              "    <style>\n",
              "      .colab-df-generate {\n",
              "        background-color: #E8F0FE;\n",
              "        border: none;\n",
              "        border-radius: 50%;\n",
              "        cursor: pointer;\n",
              "        display: none;\n",
              "        fill: #1967D2;\n",
              "        height: 32px;\n",
              "        padding: 0 0 0 0;\n",
              "        width: 32px;\n",
              "      }\n",
              "\n",
              "      .colab-df-generate:hover {\n",
              "        background-color: #E2EBFA;\n",
              "        box-shadow: 0px 1px 2px rgba(60, 64, 67, 0.3), 0px 1px 3px 1px rgba(60, 64, 67, 0.15);\n",
              "        fill: #174EA6;\n",
              "      }\n",
              "\n",
              "      [theme=dark] .colab-df-generate {\n",
              "        background-color: #3B4455;\n",
              "        fill: #D2E3FC;\n",
              "      }\n",
              "\n",
              "      [theme=dark] .colab-df-generate:hover {\n",
              "        background-color: #434B5C;\n",
              "        box-shadow: 0px 1px 3px 1px rgba(0, 0, 0, 0.15);\n",
              "        filter: drop-shadow(0px 1px 2px rgba(0, 0, 0, 0.3));\n",
              "        fill: #FFFFFF;\n",
              "      }\n",
              "    </style>\n",
              "    <button class=\"colab-df-generate\" onclick=\"generateWithVariable('df5')\"\n",
              "            title=\"Generate code using this dataframe.\"\n",
              "            style=\"display:none;\">\n",
              "\n",
              "  <svg xmlns=\"http://www.w3.org/2000/svg\" height=\"24px\"viewBox=\"0 0 24 24\"\n",
              "       width=\"24px\">\n",
              "    <path d=\"M7,19H8.4L18.45,9,17,7.55,7,17.6ZM5,21V16.75L18.45,3.32a2,2,0,0,1,2.83,0l1.4,1.43a1.91,1.91,0,0,1,.58,1.4,1.91,1.91,0,0,1-.58,1.4L9.25,21ZM18.45,9,17,7.55Zm-12,3A5.31,5.31,0,0,0,4.9,8.1,5.31,5.31,0,0,0,1,6.5,5.31,5.31,0,0,0,4.9,4.9,5.31,5.31,0,0,0,6.5,1,5.31,5.31,0,0,0,8.1,4.9,5.31,5.31,0,0,0,12,6.5,5.46,5.46,0,0,0,6.5,12Z\"/>\n",
              "  </svg>\n",
              "    </button>\n",
              "    <script>\n",
              "      (() => {\n",
              "      const buttonEl =\n",
              "        document.querySelector('#id_a1e3c494-1cd8-4c8f-8a72-56aee41edf55 button.colab-df-generate');\n",
              "      buttonEl.style.display =\n",
              "        google.colab.kernel.accessAllowed ? 'block' : 'none';\n",
              "\n",
              "      buttonEl.onclick = () => {\n",
              "        google.colab.notebook.generateWithVariable('df5');\n",
              "      }\n",
              "      })();\n",
              "    </script>\n",
              "  </div>\n",
              "\n",
              "    </div>\n",
              "  </div>\n"
            ],
            "application/vnd.google.colaboratory.intrinsic+json": {
              "type": "dataframe",
              "variable_name": "df5",
              "summary": "{\n  \"name\": \"df5\",\n  \"rows\": 44,\n  \"fields\": [\n    {\n      \"column\": \"Unnamed: 0\",\n      \"properties\": {\n        \"dtype\": \"string\",\n        \"num_unique_values\": 43,\n        \"samples\": [\n          37,\n          24,\n          25\n        ],\n        \"semantic_type\": \"\",\n        \"description\": \"\"\n      }\n    },\n    {\n      \"column\": \"Unnamed: 1\",\n      \"properties\": {\n        \"dtype\": \"string\",\n        \"num_unique_values\": 43,\n        \"samples\": [\n          \"23301433\",\n          \"23141010\",\n          \"23201409\"\n        ],\n        \"semantic_type\": \"\",\n        \"description\": \"\"\n      }\n    },\n    {\n      \"column\": \"BRAC UNIVERSITY\",\n      \"properties\": {\n        \"dtype\": \"string\",\n        \"num_unique_values\": 43,\n        \"samples\": [\n          \"KAZI MD JAWADUL HOQUE\",\n          \"TANVIR ISHTIAQ\",\n          \"MOHAMMAD HASIBUL AMIN\"\n        ],\n        \"semantic_type\": \"\",\n        \"description\": \"\"\n      }\n    },\n    {\n      \"column\": \"Unnamed: 3\",\n      \"properties\": {\n        \"dtype\": \"category\",\n        \"num_unique_values\": 3,\n        \"samples\": [\n          \"ATTEN.\",\n          0.05,\n          5\n        ],\n        \"semantic_type\": \"\",\n        \"description\": \"\"\n      }\n    },\n    {\n      \"column\": \"Unnamed: 4\",\n      \"properties\": {\n        \"dtype\": \"string\",\n        \"num_unique_values\": 23,\n        \"samples\": [\n          17.5,\n          11.5,\n          \"QUIZ\"\n        ],\n        \"semantic_type\": \"\",\n        \"description\": \"\"\n      }\n    },\n    {\n      \"column\": \"Unnamed: 5\",\n      \"properties\": {\n        \"dtype\": \"category\",\n        \"num_unique_values\": 7,\n        \"samples\": [\n          \"ASSIGNMENT\",\n          0.2,\n          18.95\n        ],\n        \"semantic_type\": \"\",\n        \"description\": \"\"\n      }\n    },\n    {\n      \"column\": \"Unnamed: 6\",\n      \"properties\": {\n        \"dtype\": \"string\",\n        \"num_unique_values\": 25,\n        \"samples\": [\n          4.5,\n          23.5,\n          \"MIDTERM\"\n        ],\n        \"semantic_type\": \"\",\n        \"description\": \"\"\n      }\n    },\n    {\n      \"column\": \"Unnamed: 7\",\n      \"properties\": {\n        \"dtype\": \"string\",\n        \"num_unique_values\": 27,\n        \"samples\": [\n          15,\n          17.5,\n          16.5\n        ],\n        \"semantic_type\": \"\",\n        \"description\": \"\"\n      }\n    },\n    {\n      \"column\": \"Unnamed: 8\",\n      \"properties\": {\n        \"dtype\": \"string\",\n        \"num_unique_values\": 41,\n        \"samples\": [\n          56.5,\n          64.7,\n          64.75\n        ],\n        \"semantic_type\": \"\",\n        \"description\": \"\"\n      }\n    },\n    {\n      \"column\": \"Unnamed: 9\",\n      \"properties\": {\n        \"dtype\": \"string\",\n        \"num_unique_values\": 26,\n        \"samples\": [\n          65,\n          76,\n          \"Total\"\n        ],\n        \"semantic_type\": \"\",\n        \"description\": \"\"\n      }\n    },\n    {\n      \"column\": \"Unnamed: 10\",\n      \"properties\": {\n        \"dtype\": \"category\",\n        \"num_unique_values\": 14,\n        \"samples\": [\n          \"C\",\n          \"C-\",\n          \"GRADES\"\n        ],\n        \"semantic_type\": \"\",\n        \"description\": \"\"\n      }\n    },\n    {\n      \"column\": \"Unnamed: 11\",\n      \"properties\": {\n        \"dtype\": \"category\",\n        \"num_unique_values\": 5,\n        \"samples\": [\n          \"(in words)\",\n          \"MINUS\",\n          \"PLUS\"\n        ],\n        \"semantic_type\": \"\",\n        \"description\": \"\"\n      }\n    }\n  ]\n}"
            }
          },
          "metadata": {},
          "execution_count": 43
        }
      ],
      "source": [
        "df5"
      ]
    },
    {
      "cell_type": "code",
      "execution_count": null,
      "metadata": {
        "id": "gQJfhthA-hO-"
      },
      "outputs": [],
      "source": [
        "df6 = pd.read_excel('/content/drive/MyDrive/AI Training/MAT_216_S_04_ Spring 2025.xlsx',sheet_name=\"Summary\")"
      ]
    },
    {
      "cell_type": "code",
      "execution_count": null,
      "metadata": {
        "colab": {
          "base_uri": "https://localhost:8080/",
          "height": 1000
        },
        "id": "phi1Qkhs-7H5",
        "outputId": "28925765-5c81-4400-e4d7-213f0a0c80d4"
      },
      "outputs": [
        {
          "output_type": "execute_result",
          "data": {
            "text/plain": [
              "    Unnamed: 0        BRAC UNIVERSITY            Unnamed: 2  \\\n",
              "0          NaN                    NaN                   NaN   \n",
              "1          NaN     Summary of Results                   NaN   \n",
              "2          NaN  Semester: Spring 2025                   NaN   \n",
              "3          NaN                    NaN                   NaN   \n",
              "4          NaN            Course No:                    NaN   \n",
              "5          NaN          Course Title:                   NaN   \n",
              "6          NaN           Section No:                    NaN   \n",
              "7          NaN       Faculty Member:                    NaN   \n",
              "8          NaN                    NaN                   NaN   \n",
              "9          NaN                    NaN                   NaN   \n",
              "10         NaN                    NaN                    A+   \n",
              "11         NaN                    NaN                     A   \n",
              "12         NaN                    NaN                    A-   \n",
              "13         NaN                    NaN                    B+   \n",
              "14         NaN                    NaN                     B   \n",
              "15         NaN                    NaN                    B-   \n",
              "16         NaN                    NaN                    C+   \n",
              "17         NaN                    NaN                     C   \n",
              "18         NaN                    NaN                    C-   \n",
              "19         NaN                    NaN                    D+   \n",
              "20         NaN                    NaN                     D   \n",
              "21         NaN                    NaN                    D-   \n",
              "22         NaN                    NaN                     F   \n",
              "23         NaN                    NaN                Total    \n",
              "24         NaN                    NaN                     P   \n",
              "25         NaN                    NaN                     I   \n",
              "26         NaN                    NaN                     W   \n",
              "27         NaN                    NaN                   NaN   \n",
              "28         NaN                    NaN                   NaN   \n",
              "29         NaN                    NaN                   NaN   \n",
              "30         NaN                    NaN  Examiner's Signature   \n",
              "\n",
              "                                    Unnamed: 3  Unnamed: 4   Unnamed: 5  \n",
              "0                                          NaN         NaN          NaN  \n",
              "1                                          NaN         NaN          NaN  \n",
              "2                                          NaN         NaN          NaN  \n",
              "3                                          NaN         NaN          NaN  \n",
              "4                                      MAT 216         NaN          NaN  \n",
              "5   Linear Algebra and Fourier Transformation          NaN          NaN  \n",
              "6                                            4         NaN          NaN  \n",
              "7                              ALI KAISER(ALS)         NaN          NaN  \n",
              "8                                          NaN         NaN          NaN  \n",
              "9                              No. of Students         NaN  % of Total   \n",
              "10                                           0         NaN            0  \n",
              "11                                           3         NaN     7.142857  \n",
              "12                                           8         NaN    19.047619  \n",
              "13                                           6         NaN    14.285714  \n",
              "14                                          10         NaN    23.809524  \n",
              "15                                           2         NaN     4.761905  \n",
              "16                                           3         NaN     7.142857  \n",
              "17                                           2         NaN     4.761905  \n",
              "18                                           2         NaN     4.761905  \n",
              "19                                           1         NaN     2.380952  \n",
              "20                                           2         NaN     4.761905  \n",
              "21                                           1         NaN     2.380952  \n",
              "22                                           2         NaN     4.761905  \n",
              "23                                          42         NaN          100  \n",
              "24                                         NaN         NaN          NaN  \n",
              "25                                           0         NaN          NaN  \n",
              "26                                         NaN         NaN          NaN  \n",
              "27                                         NaN         NaN          NaN  \n",
              "28                                         NaN         NaN          NaN  \n",
              "29                                         NaN         NaN          NaN  \n",
              "30                                         NaN         NaN          NaN  "
            ],
            "text/html": [
              "\n",
              "  <div id=\"df-94acfba7-334d-411e-a076-67e228a4b0cf\" class=\"colab-df-container\">\n",
              "    <div>\n",
              "<style scoped>\n",
              "    .dataframe tbody tr th:only-of-type {\n",
              "        vertical-align: middle;\n",
              "    }\n",
              "\n",
              "    .dataframe tbody tr th {\n",
              "        vertical-align: top;\n",
              "    }\n",
              "\n",
              "    .dataframe thead th {\n",
              "        text-align: right;\n",
              "    }\n",
              "</style>\n",
              "<table border=\"1\" class=\"dataframe\">\n",
              "  <thead>\n",
              "    <tr style=\"text-align: right;\">\n",
              "      <th></th>\n",
              "      <th>Unnamed: 0</th>\n",
              "      <th>BRAC UNIVERSITY</th>\n",
              "      <th>Unnamed: 2</th>\n",
              "      <th>Unnamed: 3</th>\n",
              "      <th>Unnamed: 4</th>\n",
              "      <th>Unnamed: 5</th>\n",
              "    </tr>\n",
              "  </thead>\n",
              "  <tbody>\n",
              "    <tr>\n",
              "      <th>0</th>\n",
              "      <td>NaN</td>\n",
              "      <td>NaN</td>\n",
              "      <td>NaN</td>\n",
              "      <td>NaN</td>\n",
              "      <td>NaN</td>\n",
              "      <td>NaN</td>\n",
              "    </tr>\n",
              "    <tr>\n",
              "      <th>1</th>\n",
              "      <td>NaN</td>\n",
              "      <td>Summary of Results</td>\n",
              "      <td>NaN</td>\n",
              "      <td>NaN</td>\n",
              "      <td>NaN</td>\n",
              "      <td>NaN</td>\n",
              "    </tr>\n",
              "    <tr>\n",
              "      <th>2</th>\n",
              "      <td>NaN</td>\n",
              "      <td>Semester: Spring 2025</td>\n",
              "      <td>NaN</td>\n",
              "      <td>NaN</td>\n",
              "      <td>NaN</td>\n",
              "      <td>NaN</td>\n",
              "    </tr>\n",
              "    <tr>\n",
              "      <th>3</th>\n",
              "      <td>NaN</td>\n",
              "      <td>NaN</td>\n",
              "      <td>NaN</td>\n",
              "      <td>NaN</td>\n",
              "      <td>NaN</td>\n",
              "      <td>NaN</td>\n",
              "    </tr>\n",
              "    <tr>\n",
              "      <th>4</th>\n",
              "      <td>NaN</td>\n",
              "      <td>Course No:</td>\n",
              "      <td>NaN</td>\n",
              "      <td>MAT 216</td>\n",
              "      <td>NaN</td>\n",
              "      <td>NaN</td>\n",
              "    </tr>\n",
              "    <tr>\n",
              "      <th>5</th>\n",
              "      <td>NaN</td>\n",
              "      <td>Course Title:</td>\n",
              "      <td>NaN</td>\n",
              "      <td>Linear Algebra and Fourier Transformation</td>\n",
              "      <td>NaN</td>\n",
              "      <td>NaN</td>\n",
              "    </tr>\n",
              "    <tr>\n",
              "      <th>6</th>\n",
              "      <td>NaN</td>\n",
              "      <td>Section No:</td>\n",
              "      <td>NaN</td>\n",
              "      <td>4</td>\n",
              "      <td>NaN</td>\n",
              "      <td>NaN</td>\n",
              "    </tr>\n",
              "    <tr>\n",
              "      <th>7</th>\n",
              "      <td>NaN</td>\n",
              "      <td>Faculty Member:</td>\n",
              "      <td>NaN</td>\n",
              "      <td>ALI KAISER(ALS)</td>\n",
              "      <td>NaN</td>\n",
              "      <td>NaN</td>\n",
              "    </tr>\n",
              "    <tr>\n",
              "      <th>8</th>\n",
              "      <td>NaN</td>\n",
              "      <td>NaN</td>\n",
              "      <td>NaN</td>\n",
              "      <td>NaN</td>\n",
              "      <td>NaN</td>\n",
              "      <td>NaN</td>\n",
              "    </tr>\n",
              "    <tr>\n",
              "      <th>9</th>\n",
              "      <td>NaN</td>\n",
              "      <td>NaN</td>\n",
              "      <td>NaN</td>\n",
              "      <td>No. of Students</td>\n",
              "      <td>NaN</td>\n",
              "      <td>% of Total</td>\n",
              "    </tr>\n",
              "    <tr>\n",
              "      <th>10</th>\n",
              "      <td>NaN</td>\n",
              "      <td>NaN</td>\n",
              "      <td>A+</td>\n",
              "      <td>0</td>\n",
              "      <td>NaN</td>\n",
              "      <td>0</td>\n",
              "    </tr>\n",
              "    <tr>\n",
              "      <th>11</th>\n",
              "      <td>NaN</td>\n",
              "      <td>NaN</td>\n",
              "      <td>A</td>\n",
              "      <td>3</td>\n",
              "      <td>NaN</td>\n",
              "      <td>7.142857</td>\n",
              "    </tr>\n",
              "    <tr>\n",
              "      <th>12</th>\n",
              "      <td>NaN</td>\n",
              "      <td>NaN</td>\n",
              "      <td>A-</td>\n",
              "      <td>8</td>\n",
              "      <td>NaN</td>\n",
              "      <td>19.047619</td>\n",
              "    </tr>\n",
              "    <tr>\n",
              "      <th>13</th>\n",
              "      <td>NaN</td>\n",
              "      <td>NaN</td>\n",
              "      <td>B+</td>\n",
              "      <td>6</td>\n",
              "      <td>NaN</td>\n",
              "      <td>14.285714</td>\n",
              "    </tr>\n",
              "    <tr>\n",
              "      <th>14</th>\n",
              "      <td>NaN</td>\n",
              "      <td>NaN</td>\n",
              "      <td>B</td>\n",
              "      <td>10</td>\n",
              "      <td>NaN</td>\n",
              "      <td>23.809524</td>\n",
              "    </tr>\n",
              "    <tr>\n",
              "      <th>15</th>\n",
              "      <td>NaN</td>\n",
              "      <td>NaN</td>\n",
              "      <td>B-</td>\n",
              "      <td>2</td>\n",
              "      <td>NaN</td>\n",
              "      <td>4.761905</td>\n",
              "    </tr>\n",
              "    <tr>\n",
              "      <th>16</th>\n",
              "      <td>NaN</td>\n",
              "      <td>NaN</td>\n",
              "      <td>C+</td>\n",
              "      <td>3</td>\n",
              "      <td>NaN</td>\n",
              "      <td>7.142857</td>\n",
              "    </tr>\n",
              "    <tr>\n",
              "      <th>17</th>\n",
              "      <td>NaN</td>\n",
              "      <td>NaN</td>\n",
              "      <td>C</td>\n",
              "      <td>2</td>\n",
              "      <td>NaN</td>\n",
              "      <td>4.761905</td>\n",
              "    </tr>\n",
              "    <tr>\n",
              "      <th>18</th>\n",
              "      <td>NaN</td>\n",
              "      <td>NaN</td>\n",
              "      <td>C-</td>\n",
              "      <td>2</td>\n",
              "      <td>NaN</td>\n",
              "      <td>4.761905</td>\n",
              "    </tr>\n",
              "    <tr>\n",
              "      <th>19</th>\n",
              "      <td>NaN</td>\n",
              "      <td>NaN</td>\n",
              "      <td>D+</td>\n",
              "      <td>1</td>\n",
              "      <td>NaN</td>\n",
              "      <td>2.380952</td>\n",
              "    </tr>\n",
              "    <tr>\n",
              "      <th>20</th>\n",
              "      <td>NaN</td>\n",
              "      <td>NaN</td>\n",
              "      <td>D</td>\n",
              "      <td>2</td>\n",
              "      <td>NaN</td>\n",
              "      <td>4.761905</td>\n",
              "    </tr>\n",
              "    <tr>\n",
              "      <th>21</th>\n",
              "      <td>NaN</td>\n",
              "      <td>NaN</td>\n",
              "      <td>D-</td>\n",
              "      <td>1</td>\n",
              "      <td>NaN</td>\n",
              "      <td>2.380952</td>\n",
              "    </tr>\n",
              "    <tr>\n",
              "      <th>22</th>\n",
              "      <td>NaN</td>\n",
              "      <td>NaN</td>\n",
              "      <td>F</td>\n",
              "      <td>2</td>\n",
              "      <td>NaN</td>\n",
              "      <td>4.761905</td>\n",
              "    </tr>\n",
              "    <tr>\n",
              "      <th>23</th>\n",
              "      <td>NaN</td>\n",
              "      <td>NaN</td>\n",
              "      <td>Total</td>\n",
              "      <td>42</td>\n",
              "      <td>NaN</td>\n",
              "      <td>100</td>\n",
              "    </tr>\n",
              "    <tr>\n",
              "      <th>24</th>\n",
              "      <td>NaN</td>\n",
              "      <td>NaN</td>\n",
              "      <td>P</td>\n",
              "      <td>NaN</td>\n",
              "      <td>NaN</td>\n",
              "      <td>NaN</td>\n",
              "    </tr>\n",
              "    <tr>\n",
              "      <th>25</th>\n",
              "      <td>NaN</td>\n",
              "      <td>NaN</td>\n",
              "      <td>I</td>\n",
              "      <td>0</td>\n",
              "      <td>NaN</td>\n",
              "      <td>NaN</td>\n",
              "    </tr>\n",
              "    <tr>\n",
              "      <th>26</th>\n",
              "      <td>NaN</td>\n",
              "      <td>NaN</td>\n",
              "      <td>W</td>\n",
              "      <td>NaN</td>\n",
              "      <td>NaN</td>\n",
              "      <td>NaN</td>\n",
              "    </tr>\n",
              "    <tr>\n",
              "      <th>27</th>\n",
              "      <td>NaN</td>\n",
              "      <td>NaN</td>\n",
              "      <td>NaN</td>\n",
              "      <td>NaN</td>\n",
              "      <td>NaN</td>\n",
              "      <td>NaN</td>\n",
              "    </tr>\n",
              "    <tr>\n",
              "      <th>28</th>\n",
              "      <td>NaN</td>\n",
              "      <td>NaN</td>\n",
              "      <td>NaN</td>\n",
              "      <td>NaN</td>\n",
              "      <td>NaN</td>\n",
              "      <td>NaN</td>\n",
              "    </tr>\n",
              "    <tr>\n",
              "      <th>29</th>\n",
              "      <td>NaN</td>\n",
              "      <td>NaN</td>\n",
              "      <td>NaN</td>\n",
              "      <td>NaN</td>\n",
              "      <td>NaN</td>\n",
              "      <td>NaN</td>\n",
              "    </tr>\n",
              "    <tr>\n",
              "      <th>30</th>\n",
              "      <td>NaN</td>\n",
              "      <td>NaN</td>\n",
              "      <td>Examiner's Signature</td>\n",
              "      <td>NaN</td>\n",
              "      <td>NaN</td>\n",
              "      <td>NaN</td>\n",
              "    </tr>\n",
              "  </tbody>\n",
              "</table>\n",
              "</div>\n",
              "    <div class=\"colab-df-buttons\">\n",
              "\n",
              "  <div class=\"colab-df-container\">\n",
              "    <button class=\"colab-df-convert\" onclick=\"convertToInteractive('df-94acfba7-334d-411e-a076-67e228a4b0cf')\"\n",
              "            title=\"Convert this dataframe to an interactive table.\"\n",
              "            style=\"display:none;\">\n",
              "\n",
              "  <svg xmlns=\"http://www.w3.org/2000/svg\" height=\"24px\" viewBox=\"0 -960 960 960\">\n",
              "    <path d=\"M120-120v-720h720v720H120Zm60-500h600v-160H180v160Zm220 220h160v-160H400v160Zm0 220h160v-160H400v160ZM180-400h160v-160H180v160Zm440 0h160v-160H620v160ZM180-180h160v-160H180v160Zm440 0h160v-160H620v160Z\"/>\n",
              "  </svg>\n",
              "    </button>\n",
              "\n",
              "  <style>\n",
              "    .colab-df-container {\n",
              "      display:flex;\n",
              "      gap: 12px;\n",
              "    }\n",
              "\n",
              "    .colab-df-convert {\n",
              "      background-color: #E8F0FE;\n",
              "      border: none;\n",
              "      border-radius: 50%;\n",
              "      cursor: pointer;\n",
              "      display: none;\n",
              "      fill: #1967D2;\n",
              "      height: 32px;\n",
              "      padding: 0 0 0 0;\n",
              "      width: 32px;\n",
              "    }\n",
              "\n",
              "    .colab-df-convert:hover {\n",
              "      background-color: #E2EBFA;\n",
              "      box-shadow: 0px 1px 2px rgba(60, 64, 67, 0.3), 0px 1px 3px 1px rgba(60, 64, 67, 0.15);\n",
              "      fill: #174EA6;\n",
              "    }\n",
              "\n",
              "    .colab-df-buttons div {\n",
              "      margin-bottom: 4px;\n",
              "    }\n",
              "\n",
              "    [theme=dark] .colab-df-convert {\n",
              "      background-color: #3B4455;\n",
              "      fill: #D2E3FC;\n",
              "    }\n",
              "\n",
              "    [theme=dark] .colab-df-convert:hover {\n",
              "      background-color: #434B5C;\n",
              "      box-shadow: 0px 1px 3px 1px rgba(0, 0, 0, 0.15);\n",
              "      filter: drop-shadow(0px 1px 2px rgba(0, 0, 0, 0.3));\n",
              "      fill: #FFFFFF;\n",
              "    }\n",
              "  </style>\n",
              "\n",
              "    <script>\n",
              "      const buttonEl =\n",
              "        document.querySelector('#df-94acfba7-334d-411e-a076-67e228a4b0cf button.colab-df-convert');\n",
              "      buttonEl.style.display =\n",
              "        google.colab.kernel.accessAllowed ? 'block' : 'none';\n",
              "\n",
              "      async function convertToInteractive(key) {\n",
              "        const element = document.querySelector('#df-94acfba7-334d-411e-a076-67e228a4b0cf');\n",
              "        const dataTable =\n",
              "          await google.colab.kernel.invokeFunction('convertToInteractive',\n",
              "                                                    [key], {});\n",
              "        if (!dataTable) return;\n",
              "\n",
              "        const docLinkHtml = 'Like what you see? Visit the ' +\n",
              "          '<a target=\"_blank\" href=https://colab.research.google.com/notebooks/data_table.ipynb>data table notebook</a>'\n",
              "          + ' to learn more about interactive tables.';\n",
              "        element.innerHTML = '';\n",
              "        dataTable['output_type'] = 'display_data';\n",
              "        await google.colab.output.renderOutput(dataTable, element);\n",
              "        const docLink = document.createElement('div');\n",
              "        docLink.innerHTML = docLinkHtml;\n",
              "        element.appendChild(docLink);\n",
              "      }\n",
              "    </script>\n",
              "  </div>\n",
              "\n",
              "\n",
              "    <div id=\"df-a15ab32f-aa29-420d-baee-b78de710c986\">\n",
              "      <button class=\"colab-df-quickchart\" onclick=\"quickchart('df-a15ab32f-aa29-420d-baee-b78de710c986')\"\n",
              "                title=\"Suggest charts\"\n",
              "                style=\"display:none;\">\n",
              "\n",
              "<svg xmlns=\"http://www.w3.org/2000/svg\" height=\"24px\"viewBox=\"0 0 24 24\"\n",
              "     width=\"24px\">\n",
              "    <g>\n",
              "        <path d=\"M19 3H5c-1.1 0-2 .9-2 2v14c0 1.1.9 2 2 2h14c1.1 0 2-.9 2-2V5c0-1.1-.9-2-2-2zM9 17H7v-7h2v7zm4 0h-2V7h2v10zm4 0h-2v-4h2v4z\"/>\n",
              "    </g>\n",
              "</svg>\n",
              "      </button>\n",
              "\n",
              "<style>\n",
              "  .colab-df-quickchart {\n",
              "      --bg-color: #E8F0FE;\n",
              "      --fill-color: #1967D2;\n",
              "      --hover-bg-color: #E2EBFA;\n",
              "      --hover-fill-color: #174EA6;\n",
              "      --disabled-fill-color: #AAA;\n",
              "      --disabled-bg-color: #DDD;\n",
              "  }\n",
              "\n",
              "  [theme=dark] .colab-df-quickchart {\n",
              "      --bg-color: #3B4455;\n",
              "      --fill-color: #D2E3FC;\n",
              "      --hover-bg-color: #434B5C;\n",
              "      --hover-fill-color: #FFFFFF;\n",
              "      --disabled-bg-color: #3B4455;\n",
              "      --disabled-fill-color: #666;\n",
              "  }\n",
              "\n",
              "  .colab-df-quickchart {\n",
              "    background-color: var(--bg-color);\n",
              "    border: none;\n",
              "    border-radius: 50%;\n",
              "    cursor: pointer;\n",
              "    display: none;\n",
              "    fill: var(--fill-color);\n",
              "    height: 32px;\n",
              "    padding: 0;\n",
              "    width: 32px;\n",
              "  }\n",
              "\n",
              "  .colab-df-quickchart:hover {\n",
              "    background-color: var(--hover-bg-color);\n",
              "    box-shadow: 0 1px 2px rgba(60, 64, 67, 0.3), 0 1px 3px 1px rgba(60, 64, 67, 0.15);\n",
              "    fill: var(--button-hover-fill-color);\n",
              "  }\n",
              "\n",
              "  .colab-df-quickchart-complete:disabled,\n",
              "  .colab-df-quickchart-complete:disabled:hover {\n",
              "    background-color: var(--disabled-bg-color);\n",
              "    fill: var(--disabled-fill-color);\n",
              "    box-shadow: none;\n",
              "  }\n",
              "\n",
              "  .colab-df-spinner {\n",
              "    border: 2px solid var(--fill-color);\n",
              "    border-color: transparent;\n",
              "    border-bottom-color: var(--fill-color);\n",
              "    animation:\n",
              "      spin 1s steps(1) infinite;\n",
              "  }\n",
              "\n",
              "  @keyframes spin {\n",
              "    0% {\n",
              "      border-color: transparent;\n",
              "      border-bottom-color: var(--fill-color);\n",
              "      border-left-color: var(--fill-color);\n",
              "    }\n",
              "    20% {\n",
              "      border-color: transparent;\n",
              "      border-left-color: var(--fill-color);\n",
              "      border-top-color: var(--fill-color);\n",
              "    }\n",
              "    30% {\n",
              "      border-color: transparent;\n",
              "      border-left-color: var(--fill-color);\n",
              "      border-top-color: var(--fill-color);\n",
              "      border-right-color: var(--fill-color);\n",
              "    }\n",
              "    40% {\n",
              "      border-color: transparent;\n",
              "      border-right-color: var(--fill-color);\n",
              "      border-top-color: var(--fill-color);\n",
              "    }\n",
              "    60% {\n",
              "      border-color: transparent;\n",
              "      border-right-color: var(--fill-color);\n",
              "    }\n",
              "    80% {\n",
              "      border-color: transparent;\n",
              "      border-right-color: var(--fill-color);\n",
              "      border-bottom-color: var(--fill-color);\n",
              "    }\n",
              "    90% {\n",
              "      border-color: transparent;\n",
              "      border-bottom-color: var(--fill-color);\n",
              "    }\n",
              "  }\n",
              "</style>\n",
              "\n",
              "      <script>\n",
              "        async function quickchart(key) {\n",
              "          const quickchartButtonEl =\n",
              "            document.querySelector('#' + key + ' button');\n",
              "          quickchartButtonEl.disabled = true;  // To prevent multiple clicks.\n",
              "          quickchartButtonEl.classList.add('colab-df-spinner');\n",
              "          try {\n",
              "            const charts = await google.colab.kernel.invokeFunction(\n",
              "                'suggestCharts', [key], {});\n",
              "          } catch (error) {\n",
              "            console.error('Error during call to suggestCharts:', error);\n",
              "          }\n",
              "          quickchartButtonEl.classList.remove('colab-df-spinner');\n",
              "          quickchartButtonEl.classList.add('colab-df-quickchart-complete');\n",
              "        }\n",
              "        (() => {\n",
              "          let quickchartButtonEl =\n",
              "            document.querySelector('#df-a15ab32f-aa29-420d-baee-b78de710c986 button');\n",
              "          quickchartButtonEl.style.display =\n",
              "            google.colab.kernel.accessAllowed ? 'block' : 'none';\n",
              "        })();\n",
              "      </script>\n",
              "    </div>\n",
              "\n",
              "  <div id=\"id_e4984f89-2fb3-408b-a259-a572dbe6f002\">\n",
              "    <style>\n",
              "      .colab-df-generate {\n",
              "        background-color: #E8F0FE;\n",
              "        border: none;\n",
              "        border-radius: 50%;\n",
              "        cursor: pointer;\n",
              "        display: none;\n",
              "        fill: #1967D2;\n",
              "        height: 32px;\n",
              "        padding: 0 0 0 0;\n",
              "        width: 32px;\n",
              "      }\n",
              "\n",
              "      .colab-df-generate:hover {\n",
              "        background-color: #E2EBFA;\n",
              "        box-shadow: 0px 1px 2px rgba(60, 64, 67, 0.3), 0px 1px 3px 1px rgba(60, 64, 67, 0.15);\n",
              "        fill: #174EA6;\n",
              "      }\n",
              "\n",
              "      [theme=dark] .colab-df-generate {\n",
              "        background-color: #3B4455;\n",
              "        fill: #D2E3FC;\n",
              "      }\n",
              "\n",
              "      [theme=dark] .colab-df-generate:hover {\n",
              "        background-color: #434B5C;\n",
              "        box-shadow: 0px 1px 3px 1px rgba(0, 0, 0, 0.15);\n",
              "        filter: drop-shadow(0px 1px 2px rgba(0, 0, 0, 0.3));\n",
              "        fill: #FFFFFF;\n",
              "      }\n",
              "    </style>\n",
              "    <button class=\"colab-df-generate\" onclick=\"generateWithVariable('df6')\"\n",
              "            title=\"Generate code using this dataframe.\"\n",
              "            style=\"display:none;\">\n",
              "\n",
              "  <svg xmlns=\"http://www.w3.org/2000/svg\" height=\"24px\"viewBox=\"0 0 24 24\"\n",
              "       width=\"24px\">\n",
              "    <path d=\"M7,19H8.4L18.45,9,17,7.55,7,17.6ZM5,21V16.75L18.45,3.32a2,2,0,0,1,2.83,0l1.4,1.43a1.91,1.91,0,0,1,.58,1.4,1.91,1.91,0,0,1-.58,1.4L9.25,21ZM18.45,9,17,7.55Zm-12,3A5.31,5.31,0,0,0,4.9,8.1,5.31,5.31,0,0,0,1,6.5,5.31,5.31,0,0,0,4.9,4.9,5.31,5.31,0,0,0,6.5,1,5.31,5.31,0,0,0,8.1,4.9,5.31,5.31,0,0,0,12,6.5,5.46,5.46,0,0,0,6.5,12Z\"/>\n",
              "  </svg>\n",
              "    </button>\n",
              "    <script>\n",
              "      (() => {\n",
              "      const buttonEl =\n",
              "        document.querySelector('#id_e4984f89-2fb3-408b-a259-a572dbe6f002 button.colab-df-generate');\n",
              "      buttonEl.style.display =\n",
              "        google.colab.kernel.accessAllowed ? 'block' : 'none';\n",
              "\n",
              "      buttonEl.onclick = () => {\n",
              "        google.colab.notebook.generateWithVariable('df6');\n",
              "      }\n",
              "      })();\n",
              "    </script>\n",
              "  </div>\n",
              "\n",
              "    </div>\n",
              "  </div>\n"
            ],
            "application/vnd.google.colaboratory.intrinsic+json": {
              "type": "dataframe",
              "variable_name": "df6",
              "summary": "{\n  \"name\": \"df6\",\n  \"rows\": 31,\n  \"fields\": [\n    {\n      \"column\": \"Unnamed: 0\",\n      \"properties\": {\n        \"dtype\": \"number\",\n        \"std\": null,\n        \"min\": null,\n        \"max\": null,\n        \"num_unique_values\": 0,\n        \"samples\": [],\n        \"semantic_type\": \"\",\n        \"description\": \"\"\n      }\n    },\n    {\n      \"column\": \"BRAC UNIVERSITY\",\n      \"properties\": {\n        \"dtype\": \"category\",\n        \"num_unique_values\": 6,\n        \"samples\": [],\n        \"semantic_type\": \"\",\n        \"description\": \"\"\n      }\n    },\n    {\n      \"column\": \"Unnamed: 2\",\n      \"properties\": {\n        \"dtype\": \"string\",\n        \"num_unique_values\": 18,\n        \"samples\": [],\n        \"semantic_type\": \"\",\n        \"description\": \"\"\n      }\n    },\n    {\n      \"column\": \"Unnamed: 3\",\n      \"properties\": {\n        \"dtype\": \"category\",\n        \"num_unique_values\": 13,\n        \"samples\": [],\n        \"semantic_type\": \"\",\n        \"description\": \"\"\n      }\n    },\n    {\n      \"column\": \"Unnamed: 4\",\n      \"properties\": {\n        \"dtype\": \"number\",\n        \"std\": null,\n        \"min\": null,\n        \"max\": null,\n        \"num_unique_values\": 0,\n        \"samples\": [],\n        \"semantic_type\": \"\",\n        \"description\": \"\"\n      }\n    },\n    {\n      \"column\": \"Unnamed: 5\",\n      \"properties\": {\n        \"dtype\": \"category\",\n        \"num_unique_values\": 9,\n        \"samples\": [],\n        \"semantic_type\": \"\",\n        \"description\": \"\"\n      }\n    }\n  ]\n}"
            }
          },
          "metadata": {},
          "execution_count": 45
        }
      ],
      "source": [
        "df6"
      ]
    },
    {
      "cell_type": "code",
      "execution_count": null,
      "metadata": {
        "id": "hKsvbaRsADZf"
      },
      "outputs": [],
      "source": [
        "df7 = pd.read_excel('/content/drive/MyDrive/AI Training/MAT_216_S_04_ Spring 2025.xlsx',sheet_name=1)"
      ]
    },
    {
      "cell_type": "code",
      "execution_count": null,
      "metadata": {
        "colab": {
          "base_uri": "https://localhost:8080/",
          "height": 89
        },
        "id": "IGBpOFZdAJwN",
        "outputId": "37373c9d-1dff-43fd-9c51-5b9489dfaa5b"
      },
      "outputs": [
        {
          "output_type": "execute_result",
          "data": {
            "text/plain": [
              "Empty DataFrame\n",
              "Columns: []\n",
              "Index: []"
            ],
            "text/html": [
              "\n",
              "  <div id=\"df-c9874773-4396-4095-b12d-d4b0fbfee71f\" class=\"colab-df-container\">\n",
              "    <div>\n",
              "<style scoped>\n",
              "    .dataframe tbody tr th:only-of-type {\n",
              "        vertical-align: middle;\n",
              "    }\n",
              "\n",
              "    .dataframe tbody tr th {\n",
              "        vertical-align: top;\n",
              "    }\n",
              "\n",
              "    .dataframe thead th {\n",
              "        text-align: right;\n",
              "    }\n",
              "</style>\n",
              "<table border=\"1\" class=\"dataframe\">\n",
              "  <thead>\n",
              "    <tr style=\"text-align: right;\">\n",
              "      <th></th>\n",
              "    </tr>\n",
              "  </thead>\n",
              "  <tbody>\n",
              "  </tbody>\n",
              "</table>\n",
              "</div>\n",
              "    <div class=\"colab-df-buttons\">\n",
              "\n",
              "  <div class=\"colab-df-container\">\n",
              "    <button class=\"colab-df-convert\" onclick=\"convertToInteractive('df-c9874773-4396-4095-b12d-d4b0fbfee71f')\"\n",
              "            title=\"Convert this dataframe to an interactive table.\"\n",
              "            style=\"display:none;\">\n",
              "\n",
              "  <svg xmlns=\"http://www.w3.org/2000/svg\" height=\"24px\" viewBox=\"0 -960 960 960\">\n",
              "    <path d=\"M120-120v-720h720v720H120Zm60-500h600v-160H180v160Zm220 220h160v-160H400v160Zm0 220h160v-160H400v160ZM180-400h160v-160H180v160Zm440 0h160v-160H620v160ZM180-180h160v-160H180v160Zm440 0h160v-160H620v160Z\"/>\n",
              "  </svg>\n",
              "    </button>\n",
              "\n",
              "  <style>\n",
              "    .colab-df-container {\n",
              "      display:flex;\n",
              "      gap: 12px;\n",
              "    }\n",
              "\n",
              "    .colab-df-convert {\n",
              "      background-color: #E8F0FE;\n",
              "      border: none;\n",
              "      border-radius: 50%;\n",
              "      cursor: pointer;\n",
              "      display: none;\n",
              "      fill: #1967D2;\n",
              "      height: 32px;\n",
              "      padding: 0 0 0 0;\n",
              "      width: 32px;\n",
              "    }\n",
              "\n",
              "    .colab-df-convert:hover {\n",
              "      background-color: #E2EBFA;\n",
              "      box-shadow: 0px 1px 2px rgba(60, 64, 67, 0.3), 0px 1px 3px 1px rgba(60, 64, 67, 0.15);\n",
              "      fill: #174EA6;\n",
              "    }\n",
              "\n",
              "    .colab-df-buttons div {\n",
              "      margin-bottom: 4px;\n",
              "    }\n",
              "\n",
              "    [theme=dark] .colab-df-convert {\n",
              "      background-color: #3B4455;\n",
              "      fill: #D2E3FC;\n",
              "    }\n",
              "\n",
              "    [theme=dark] .colab-df-convert:hover {\n",
              "      background-color: #434B5C;\n",
              "      box-shadow: 0px 1px 3px 1px rgba(0, 0, 0, 0.15);\n",
              "      filter: drop-shadow(0px 1px 2px rgba(0, 0, 0, 0.3));\n",
              "      fill: #FFFFFF;\n",
              "    }\n",
              "  </style>\n",
              "\n",
              "    <script>\n",
              "      const buttonEl =\n",
              "        document.querySelector('#df-c9874773-4396-4095-b12d-d4b0fbfee71f button.colab-df-convert');\n",
              "      buttonEl.style.display =\n",
              "        google.colab.kernel.accessAllowed ? 'block' : 'none';\n",
              "\n",
              "      async function convertToInteractive(key) {\n",
              "        const element = document.querySelector('#df-c9874773-4396-4095-b12d-d4b0fbfee71f');\n",
              "        const dataTable =\n",
              "          await google.colab.kernel.invokeFunction('convertToInteractive',\n",
              "                                                    [key], {});\n",
              "        if (!dataTable) return;\n",
              "\n",
              "        const docLinkHtml = 'Like what you see? Visit the ' +\n",
              "          '<a target=\"_blank\" href=https://colab.research.google.com/notebooks/data_table.ipynb>data table notebook</a>'\n",
              "          + ' to learn more about interactive tables.';\n",
              "        element.innerHTML = '';\n",
              "        dataTable['output_type'] = 'display_data';\n",
              "        await google.colab.output.renderOutput(dataTable, element);\n",
              "        const docLink = document.createElement('div');\n",
              "        docLink.innerHTML = docLinkHtml;\n",
              "        element.appendChild(docLink);\n",
              "      }\n",
              "    </script>\n",
              "  </div>\n",
              "\n",
              "\n",
              "  <div id=\"id_ebf005a8-d730-4c44-86e1-10ca48b63360\">\n",
              "    <style>\n",
              "      .colab-df-generate {\n",
              "        background-color: #E8F0FE;\n",
              "        border: none;\n",
              "        border-radius: 50%;\n",
              "        cursor: pointer;\n",
              "        display: none;\n",
              "        fill: #1967D2;\n",
              "        height: 32px;\n",
              "        padding: 0 0 0 0;\n",
              "        width: 32px;\n",
              "      }\n",
              "\n",
              "      .colab-df-generate:hover {\n",
              "        background-color: #E2EBFA;\n",
              "        box-shadow: 0px 1px 2px rgba(60, 64, 67, 0.3), 0px 1px 3px 1px rgba(60, 64, 67, 0.15);\n",
              "        fill: #174EA6;\n",
              "      }\n",
              "\n",
              "      [theme=dark] .colab-df-generate {\n",
              "        background-color: #3B4455;\n",
              "        fill: #D2E3FC;\n",
              "      }\n",
              "\n",
              "      [theme=dark] .colab-df-generate:hover {\n",
              "        background-color: #434B5C;\n",
              "        box-shadow: 0px 1px 3px 1px rgba(0, 0, 0, 0.15);\n",
              "        filter: drop-shadow(0px 1px 2px rgba(0, 0, 0, 0.3));\n",
              "        fill: #FFFFFF;\n",
              "      }\n",
              "    </style>\n",
              "    <button class=\"colab-df-generate\" onclick=\"generateWithVariable('df7')\"\n",
              "            title=\"Generate code using this dataframe.\"\n",
              "            style=\"display:none;\">\n",
              "\n",
              "  <svg xmlns=\"http://www.w3.org/2000/svg\" height=\"24px\"viewBox=\"0 0 24 24\"\n",
              "       width=\"24px\">\n",
              "    <path d=\"M7,19H8.4L18.45,9,17,7.55,7,17.6ZM5,21V16.75L18.45,3.32a2,2,0,0,1,2.83,0l1.4,1.43a1.91,1.91,0,0,1,.58,1.4,1.91,1.91,0,0,1-.58,1.4L9.25,21ZM18.45,9,17,7.55Zm-12,3A5.31,5.31,0,0,0,4.9,8.1,5.31,5.31,0,0,0,1,6.5,5.31,5.31,0,0,0,4.9,4.9,5.31,5.31,0,0,0,6.5,1,5.31,5.31,0,0,0,8.1,4.9,5.31,5.31,0,0,0,12,6.5,5.46,5.46,0,0,0,6.5,12Z\"/>\n",
              "  </svg>\n",
              "    </button>\n",
              "    <script>\n",
              "      (() => {\n",
              "      const buttonEl =\n",
              "        document.querySelector('#id_ebf005a8-d730-4c44-86e1-10ca48b63360 button.colab-df-generate');\n",
              "      buttonEl.style.display =\n",
              "        google.colab.kernel.accessAllowed ? 'block' : 'none';\n",
              "\n",
              "      buttonEl.onclick = () => {\n",
              "        google.colab.notebook.generateWithVariable('df7');\n",
              "      }\n",
              "      })();\n",
              "    </script>\n",
              "  </div>\n",
              "\n",
              "    </div>\n",
              "  </div>\n"
            ],
            "application/vnd.google.colaboratory.intrinsic+json": {
              "type": "dataframe",
              "variable_name": "df7",
              "summary": "{\n  \"name\": \"df7\",\n  \"rows\": 0,\n  \"fields\": []\n}"
            }
          },
          "metadata": {},
          "execution_count": 47
        }
      ],
      "source": [
        "df7"
      ]
    },
    {
      "cell_type": "code",
      "execution_count": null,
      "metadata": {
        "colab": {
          "base_uri": "https://localhost:8080/"
        },
        "id": "RRMgNgI98mFF",
        "outputId": "61227d1a-4dd8-4e31-c823-afabf8e7ff71"
      },
      "outputs": [
        {
          "output_type": "stream",
          "name": "stdout",
          "text": [
            "(44, 12)\n",
            "Index(['Unnamed: 0', 'Unnamed: 1', 'BRAC UNIVERSITY', 'Unnamed: 3',\n",
            "       'Unnamed: 4', 'Unnamed: 5', 'Unnamed: 6', 'Unnamed: 7', 'Unnamed: 8',\n",
            "       'Unnamed: 9', 'Unnamed: 10', 'Unnamed: 11'],\n",
            "      dtype='object')\n",
            "Unnamed: 0         object\n",
            "Unnamed: 1         object\n",
            "BRAC UNIVERSITY    object\n",
            "Unnamed: 3         object\n",
            "Unnamed: 4         object\n",
            "Unnamed: 5         object\n",
            "Unnamed: 6         object\n",
            "Unnamed: 7         object\n",
            "Unnamed: 8         object\n",
            "Unnamed: 9         object\n",
            "Unnamed: 10        object\n",
            "Unnamed: 11        object\n",
            "dtype: object\n",
            "<class 'pandas.core.frame.DataFrame'>\n",
            "RangeIndex: 44 entries, 7 to 50\n",
            "Data columns (total 12 columns):\n",
            " #   Column           Non-Null Count  Dtype \n",
            "---  ------           --------------  ----- \n",
            " 0   Unnamed: 0       43 non-null     object\n",
            " 1   Unnamed: 1       43 non-null     object\n",
            " 2   BRAC UNIVERSITY  43 non-null     object\n",
            " 3   Unnamed: 3       44 non-null     object\n",
            " 4   Unnamed: 4       44 non-null     object\n",
            " 5   Unnamed: 5       44 non-null     object\n",
            " 6   Unnamed: 6       44 non-null     object\n",
            " 7   Unnamed: 7       44 non-null     object\n",
            " 8   Unnamed: 8       44 non-null     object\n",
            " 9   Unnamed: 9       44 non-null     object\n",
            " 10  Unnamed: 10      44 non-null     object\n",
            " 11  Unnamed: 11      44 non-null     object\n",
            "dtypes: object(12)\n",
            "memory usage: 4.3+ KB\n",
            "None\n",
            "       Unnamed: 0    Unnamed: 1 BRAC UNIVERSITY  Unnamed: 3  Unnamed: 4  \\\n",
            "count          43            43              43          44        44.0   \n",
            "unique         43            43              43           3        23.0   \n",
            "top          SL #  STUDENT ID #    STUDENT NAME           5        16.5   \n",
            "freq            1             1               1          42         6.0   \n",
            "\n",
            "        Unnamed: 5  Unnamed: 6  Unnamed: 7  Unnamed: 8  Unnamed: 9  \\\n",
            "count           44        44.0        44.0       44.00          44   \n",
            "unique           7        25.0        27.0       41.00          26   \n",
            "top             20        24.5        16.5       62.25          75   \n",
            "freq            34         4.0         3.0        2.00           5   \n",
            "\n",
            "       Unnamed: 10 Unnamed: 11  \n",
            "count           44          44  \n",
            "unique          14           5  \n",
            "top              B       PLAIN  \n",
            "freq            10          19  \n"
          ]
        }
      ],
      "source": [
        "print(df5.shape)       # Rows and columns\n",
        "print(df5.columns)     # Column names\n",
        "print(df5.dtypes)      # Data types\n",
        "print(df5.info())      # Summary\n",
        "print(df5.describe())  # Statistics"
      ]
    },
    {
      "cell_type": "code",
      "execution_count": null,
      "metadata": {
        "colab": {
          "base_uri": "https://localhost:8080/",
          "height": 316
        },
        "id": "n048tmlv8Z7e",
        "outputId": "d38bcdc2-c4b7-4d6c-c59e-b51dcbb978ab"
      },
      "outputs": [
        {
          "output_type": "execute_result",
          "data": {
            "text/plain": [
              "   Unnamed: 0    Unnamed: 1     BRAC UNIVERSITY Unnamed: 3 Unnamed: 4  \\\n",
              "7        SL #  STUDENT ID #        STUDENT NAME     ATTEN.       QUIZ   \n",
              "8         NaN           NaN                 NaN       0.05        0.2   \n",
              "9           1      19101307  NISHAT TASNIM NOVA          5      17.75   \n",
              "10          2      21101289      ASIF AHMED JOY          5      15.25   \n",
              "\n",
              "    Unnamed: 5 Unnamed: 6 Unnamed: 7 Unnamed: 8 Unnamed: 9    Unnamed: 10  \\\n",
              "7   ASSIGNMENT    MIDTERM      FINAL      Total      Total         GRADES   \n",
              "8          0.2       0.25        0.3        100          1  (with suffix)   \n",
              "9           20       24.5         13      80.25         80             B+   \n",
              "10          20         14       20.5      74.75         75              B   \n",
              "\n",
              "   Unnamed: 11  \n",
              "7       SUFFIX  \n",
              "8   (in words)  \n",
              "9         PLUS  \n",
              "10       PLAIN  "
            ],
            "text/html": [
              "\n",
              "  <div id=\"df-27ccd31b-5f72-48ec-9de8-041892cb0170\" class=\"colab-df-container\">\n",
              "    <div>\n",
              "<style scoped>\n",
              "    .dataframe tbody tr th:only-of-type {\n",
              "        vertical-align: middle;\n",
              "    }\n",
              "\n",
              "    .dataframe tbody tr th {\n",
              "        vertical-align: top;\n",
              "    }\n",
              "\n",
              "    .dataframe thead th {\n",
              "        text-align: right;\n",
              "    }\n",
              "</style>\n",
              "<table border=\"1\" class=\"dataframe\">\n",
              "  <thead>\n",
              "    <tr style=\"text-align: right;\">\n",
              "      <th></th>\n",
              "      <th>Unnamed: 0</th>\n",
              "      <th>Unnamed: 1</th>\n",
              "      <th>BRAC UNIVERSITY</th>\n",
              "      <th>Unnamed: 3</th>\n",
              "      <th>Unnamed: 4</th>\n",
              "      <th>Unnamed: 5</th>\n",
              "      <th>Unnamed: 6</th>\n",
              "      <th>Unnamed: 7</th>\n",
              "      <th>Unnamed: 8</th>\n",
              "      <th>Unnamed: 9</th>\n",
              "      <th>Unnamed: 10</th>\n",
              "      <th>Unnamed: 11</th>\n",
              "    </tr>\n",
              "  </thead>\n",
              "  <tbody>\n",
              "    <tr>\n",
              "      <th>7</th>\n",
              "      <td>SL #</td>\n",
              "      <td>STUDENT ID #</td>\n",
              "      <td>STUDENT NAME</td>\n",
              "      <td>ATTEN.</td>\n",
              "      <td>QUIZ</td>\n",
              "      <td>ASSIGNMENT</td>\n",
              "      <td>MIDTERM</td>\n",
              "      <td>FINAL</td>\n",
              "      <td>Total</td>\n",
              "      <td>Total</td>\n",
              "      <td>GRADES</td>\n",
              "      <td>SUFFIX</td>\n",
              "    </tr>\n",
              "    <tr>\n",
              "      <th>8</th>\n",
              "      <td>NaN</td>\n",
              "      <td>NaN</td>\n",
              "      <td>NaN</td>\n",
              "      <td>0.05</td>\n",
              "      <td>0.2</td>\n",
              "      <td>0.2</td>\n",
              "      <td>0.25</td>\n",
              "      <td>0.3</td>\n",
              "      <td>100</td>\n",
              "      <td>1</td>\n",
              "      <td>(with suffix)</td>\n",
              "      <td>(in words)</td>\n",
              "    </tr>\n",
              "    <tr>\n",
              "      <th>9</th>\n",
              "      <td>1</td>\n",
              "      <td>19101307</td>\n",
              "      <td>NISHAT TASNIM NOVA</td>\n",
              "      <td>5</td>\n",
              "      <td>17.75</td>\n",
              "      <td>20</td>\n",
              "      <td>24.5</td>\n",
              "      <td>13</td>\n",
              "      <td>80.25</td>\n",
              "      <td>80</td>\n",
              "      <td>B+</td>\n",
              "      <td>PLUS</td>\n",
              "    </tr>\n",
              "    <tr>\n",
              "      <th>10</th>\n",
              "      <td>2</td>\n",
              "      <td>21101289</td>\n",
              "      <td>ASIF AHMED JOY</td>\n",
              "      <td>5</td>\n",
              "      <td>15.25</td>\n",
              "      <td>20</td>\n",
              "      <td>14</td>\n",
              "      <td>20.5</td>\n",
              "      <td>74.75</td>\n",
              "      <td>75</td>\n",
              "      <td>B</td>\n",
              "      <td>PLAIN</td>\n",
              "    </tr>\n",
              "  </tbody>\n",
              "</table>\n",
              "</div>\n",
              "    <div class=\"colab-df-buttons\">\n",
              "\n",
              "  <div class=\"colab-df-container\">\n",
              "    <button class=\"colab-df-convert\" onclick=\"convertToInteractive('df-27ccd31b-5f72-48ec-9de8-041892cb0170')\"\n",
              "            title=\"Convert this dataframe to an interactive table.\"\n",
              "            style=\"display:none;\">\n",
              "\n",
              "  <svg xmlns=\"http://www.w3.org/2000/svg\" height=\"24px\" viewBox=\"0 -960 960 960\">\n",
              "    <path d=\"M120-120v-720h720v720H120Zm60-500h600v-160H180v160Zm220 220h160v-160H400v160Zm0 220h160v-160H400v160ZM180-400h160v-160H180v160Zm440 0h160v-160H620v160ZM180-180h160v-160H180v160Zm440 0h160v-160H620v160Z\"/>\n",
              "  </svg>\n",
              "    </button>\n",
              "\n",
              "  <style>\n",
              "    .colab-df-container {\n",
              "      display:flex;\n",
              "      gap: 12px;\n",
              "    }\n",
              "\n",
              "    .colab-df-convert {\n",
              "      background-color: #E8F0FE;\n",
              "      border: none;\n",
              "      border-radius: 50%;\n",
              "      cursor: pointer;\n",
              "      display: none;\n",
              "      fill: #1967D2;\n",
              "      height: 32px;\n",
              "      padding: 0 0 0 0;\n",
              "      width: 32px;\n",
              "    }\n",
              "\n",
              "    .colab-df-convert:hover {\n",
              "      background-color: #E2EBFA;\n",
              "      box-shadow: 0px 1px 2px rgba(60, 64, 67, 0.3), 0px 1px 3px 1px rgba(60, 64, 67, 0.15);\n",
              "      fill: #174EA6;\n",
              "    }\n",
              "\n",
              "    .colab-df-buttons div {\n",
              "      margin-bottom: 4px;\n",
              "    }\n",
              "\n",
              "    [theme=dark] .colab-df-convert {\n",
              "      background-color: #3B4455;\n",
              "      fill: #D2E3FC;\n",
              "    }\n",
              "\n",
              "    [theme=dark] .colab-df-convert:hover {\n",
              "      background-color: #434B5C;\n",
              "      box-shadow: 0px 1px 3px 1px rgba(0, 0, 0, 0.15);\n",
              "      filter: drop-shadow(0px 1px 2px rgba(0, 0, 0, 0.3));\n",
              "      fill: #FFFFFF;\n",
              "    }\n",
              "  </style>\n",
              "\n",
              "    <script>\n",
              "      const buttonEl =\n",
              "        document.querySelector('#df-27ccd31b-5f72-48ec-9de8-041892cb0170 button.colab-df-convert');\n",
              "      buttonEl.style.display =\n",
              "        google.colab.kernel.accessAllowed ? 'block' : 'none';\n",
              "\n",
              "      async function convertToInteractive(key) {\n",
              "        const element = document.querySelector('#df-27ccd31b-5f72-48ec-9de8-041892cb0170');\n",
              "        const dataTable =\n",
              "          await google.colab.kernel.invokeFunction('convertToInteractive',\n",
              "                                                    [key], {});\n",
              "        if (!dataTable) return;\n",
              "\n",
              "        const docLinkHtml = 'Like what you see? Visit the ' +\n",
              "          '<a target=\"_blank\" href=https://colab.research.google.com/notebooks/data_table.ipynb>data table notebook</a>'\n",
              "          + ' to learn more about interactive tables.';\n",
              "        element.innerHTML = '';\n",
              "        dataTable['output_type'] = 'display_data';\n",
              "        await google.colab.output.renderOutput(dataTable, element);\n",
              "        const docLink = document.createElement('div');\n",
              "        docLink.innerHTML = docLinkHtml;\n",
              "        element.appendChild(docLink);\n",
              "      }\n",
              "    </script>\n",
              "  </div>\n",
              "\n",
              "\n",
              "    <div id=\"df-fcbb2171-d515-40e2-80cf-234810c050d3\">\n",
              "      <button class=\"colab-df-quickchart\" onclick=\"quickchart('df-fcbb2171-d515-40e2-80cf-234810c050d3')\"\n",
              "                title=\"Suggest charts\"\n",
              "                style=\"display:none;\">\n",
              "\n",
              "<svg xmlns=\"http://www.w3.org/2000/svg\" height=\"24px\"viewBox=\"0 0 24 24\"\n",
              "     width=\"24px\">\n",
              "    <g>\n",
              "        <path d=\"M19 3H5c-1.1 0-2 .9-2 2v14c0 1.1.9 2 2 2h14c1.1 0 2-.9 2-2V5c0-1.1-.9-2-2-2zM9 17H7v-7h2v7zm4 0h-2V7h2v10zm4 0h-2v-4h2v4z\"/>\n",
              "    </g>\n",
              "</svg>\n",
              "      </button>\n",
              "\n",
              "<style>\n",
              "  .colab-df-quickchart {\n",
              "      --bg-color: #E8F0FE;\n",
              "      --fill-color: #1967D2;\n",
              "      --hover-bg-color: #E2EBFA;\n",
              "      --hover-fill-color: #174EA6;\n",
              "      --disabled-fill-color: #AAA;\n",
              "      --disabled-bg-color: #DDD;\n",
              "  }\n",
              "\n",
              "  [theme=dark] .colab-df-quickchart {\n",
              "      --bg-color: #3B4455;\n",
              "      --fill-color: #D2E3FC;\n",
              "      --hover-bg-color: #434B5C;\n",
              "      --hover-fill-color: #FFFFFF;\n",
              "      --disabled-bg-color: #3B4455;\n",
              "      --disabled-fill-color: #666;\n",
              "  }\n",
              "\n",
              "  .colab-df-quickchart {\n",
              "    background-color: var(--bg-color);\n",
              "    border: none;\n",
              "    border-radius: 50%;\n",
              "    cursor: pointer;\n",
              "    display: none;\n",
              "    fill: var(--fill-color);\n",
              "    height: 32px;\n",
              "    padding: 0;\n",
              "    width: 32px;\n",
              "  }\n",
              "\n",
              "  .colab-df-quickchart:hover {\n",
              "    background-color: var(--hover-bg-color);\n",
              "    box-shadow: 0 1px 2px rgba(60, 64, 67, 0.3), 0 1px 3px 1px rgba(60, 64, 67, 0.15);\n",
              "    fill: var(--button-hover-fill-color);\n",
              "  }\n",
              "\n",
              "  .colab-df-quickchart-complete:disabled,\n",
              "  .colab-df-quickchart-complete:disabled:hover {\n",
              "    background-color: var(--disabled-bg-color);\n",
              "    fill: var(--disabled-fill-color);\n",
              "    box-shadow: none;\n",
              "  }\n",
              "\n",
              "  .colab-df-spinner {\n",
              "    border: 2px solid var(--fill-color);\n",
              "    border-color: transparent;\n",
              "    border-bottom-color: var(--fill-color);\n",
              "    animation:\n",
              "      spin 1s steps(1) infinite;\n",
              "  }\n",
              "\n",
              "  @keyframes spin {\n",
              "    0% {\n",
              "      border-color: transparent;\n",
              "      border-bottom-color: var(--fill-color);\n",
              "      border-left-color: var(--fill-color);\n",
              "    }\n",
              "    20% {\n",
              "      border-color: transparent;\n",
              "      border-left-color: var(--fill-color);\n",
              "      border-top-color: var(--fill-color);\n",
              "    }\n",
              "    30% {\n",
              "      border-color: transparent;\n",
              "      border-left-color: var(--fill-color);\n",
              "      border-top-color: var(--fill-color);\n",
              "      border-right-color: var(--fill-color);\n",
              "    }\n",
              "    40% {\n",
              "      border-color: transparent;\n",
              "      border-right-color: var(--fill-color);\n",
              "      border-top-color: var(--fill-color);\n",
              "    }\n",
              "    60% {\n",
              "      border-color: transparent;\n",
              "      border-right-color: var(--fill-color);\n",
              "    }\n",
              "    80% {\n",
              "      border-color: transparent;\n",
              "      border-right-color: var(--fill-color);\n",
              "      border-bottom-color: var(--fill-color);\n",
              "    }\n",
              "    90% {\n",
              "      border-color: transparent;\n",
              "      border-bottom-color: var(--fill-color);\n",
              "    }\n",
              "  }\n",
              "</style>\n",
              "\n",
              "      <script>\n",
              "        async function quickchart(key) {\n",
              "          const quickchartButtonEl =\n",
              "            document.querySelector('#' + key + ' button');\n",
              "          quickchartButtonEl.disabled = true;  // To prevent multiple clicks.\n",
              "          quickchartButtonEl.classList.add('colab-df-spinner');\n",
              "          try {\n",
              "            const charts = await google.colab.kernel.invokeFunction(\n",
              "                'suggestCharts', [key], {});\n",
              "          } catch (error) {\n",
              "            console.error('Error during call to suggestCharts:', error);\n",
              "          }\n",
              "          quickchartButtonEl.classList.remove('colab-df-spinner');\n",
              "          quickchartButtonEl.classList.add('colab-df-quickchart-complete');\n",
              "        }\n",
              "        (() => {\n",
              "          let quickchartButtonEl =\n",
              "            document.querySelector('#df-fcbb2171-d515-40e2-80cf-234810c050d3 button');\n",
              "          quickchartButtonEl.style.display =\n",
              "            google.colab.kernel.accessAllowed ? 'block' : 'none';\n",
              "        })();\n",
              "      </script>\n",
              "    </div>\n",
              "\n",
              "    </div>\n",
              "  </div>\n"
            ],
            "application/vnd.google.colaboratory.intrinsic+json": {
              "type": "dataframe",
              "variable_name": "df5",
              "summary": "{\n  \"name\": \"df5\",\n  \"rows\": 44,\n  \"fields\": [\n    {\n      \"column\": \"Unnamed: 0\",\n      \"properties\": {\n        \"dtype\": \"string\",\n        \"num_unique_values\": 43,\n        \"samples\": [\n          37,\n          24,\n          25\n        ],\n        \"semantic_type\": \"\",\n        \"description\": \"\"\n      }\n    },\n    {\n      \"column\": \"Unnamed: 1\",\n      \"properties\": {\n        \"dtype\": \"string\",\n        \"num_unique_values\": 43,\n        \"samples\": [\n          \"23301433\",\n          \"23141010\",\n          \"23201409\"\n        ],\n        \"semantic_type\": \"\",\n        \"description\": \"\"\n      }\n    },\n    {\n      \"column\": \"BRAC UNIVERSITY\",\n      \"properties\": {\n        \"dtype\": \"string\",\n        \"num_unique_values\": 43,\n        \"samples\": [\n          \"KAZI MD JAWADUL HOQUE\",\n          \"TANVIR ISHTIAQ\",\n          \"MOHAMMAD HASIBUL AMIN\"\n        ],\n        \"semantic_type\": \"\",\n        \"description\": \"\"\n      }\n    },\n    {\n      \"column\": \"Unnamed: 3\",\n      \"properties\": {\n        \"dtype\": \"category\",\n        \"num_unique_values\": 3,\n        \"samples\": [\n          \"ATTEN.\",\n          0.05,\n          5\n        ],\n        \"semantic_type\": \"\",\n        \"description\": \"\"\n      }\n    },\n    {\n      \"column\": \"Unnamed: 4\",\n      \"properties\": {\n        \"dtype\": \"string\",\n        \"num_unique_values\": 23,\n        \"samples\": [\n          17.5,\n          11.5,\n          \"QUIZ\"\n        ],\n        \"semantic_type\": \"\",\n        \"description\": \"\"\n      }\n    },\n    {\n      \"column\": \"Unnamed: 5\",\n      \"properties\": {\n        \"dtype\": \"category\",\n        \"num_unique_values\": 7,\n        \"samples\": [\n          \"ASSIGNMENT\",\n          0.2,\n          18.95\n        ],\n        \"semantic_type\": \"\",\n        \"description\": \"\"\n      }\n    },\n    {\n      \"column\": \"Unnamed: 6\",\n      \"properties\": {\n        \"dtype\": \"string\",\n        \"num_unique_values\": 25,\n        \"samples\": [\n          4.5,\n          23.5,\n          \"MIDTERM\"\n        ],\n        \"semantic_type\": \"\",\n        \"description\": \"\"\n      }\n    },\n    {\n      \"column\": \"Unnamed: 7\",\n      \"properties\": {\n        \"dtype\": \"string\",\n        \"num_unique_values\": 27,\n        \"samples\": [\n          15,\n          17.5,\n          16.5\n        ],\n        \"semantic_type\": \"\",\n        \"description\": \"\"\n      }\n    },\n    {\n      \"column\": \"Unnamed: 8\",\n      \"properties\": {\n        \"dtype\": \"string\",\n        \"num_unique_values\": 41,\n        \"samples\": [\n          56.5,\n          64.7,\n          64.75\n        ],\n        \"semantic_type\": \"\",\n        \"description\": \"\"\n      }\n    },\n    {\n      \"column\": \"Unnamed: 9\",\n      \"properties\": {\n        \"dtype\": \"string\",\n        \"num_unique_values\": 26,\n        \"samples\": [\n          65,\n          76,\n          \"Total\"\n        ],\n        \"semantic_type\": \"\",\n        \"description\": \"\"\n      }\n    },\n    {\n      \"column\": \"Unnamed: 10\",\n      \"properties\": {\n        \"dtype\": \"category\",\n        \"num_unique_values\": 14,\n        \"samples\": [\n          \"C\",\n          \"C-\",\n          \"GRADES\"\n        ],\n        \"semantic_type\": \"\",\n        \"description\": \"\"\n      }\n    },\n    {\n      \"column\": \"Unnamed: 11\",\n      \"properties\": {\n        \"dtype\": \"category\",\n        \"num_unique_values\": 5,\n        \"samples\": [\n          \"(in words)\",\n          \"MINUS\",\n          \"PLUS\"\n        ],\n        \"semantic_type\": \"\",\n        \"description\": \"\"\n      }\n    }\n  ]\n}"
            }
          },
          "metadata": {},
          "execution_count": 49
        }
      ],
      "source": [
        "df5.head(4)"
      ]
    },
    {
      "cell_type": "code",
      "execution_count": null,
      "metadata": {
        "id": "8CAfNlXPlPtt"
      },
      "outputs": [],
      "source": [
        "df3=pd.read_excel('/content/drive/MyDrive/AI Training/Training Grades.xlsx',sheet_name=2)"
      ]
    },
    {
      "cell_type": "code",
      "execution_count": null,
      "metadata": {
        "colab": {
          "base_uri": "https://localhost:8080/",
          "height": 206
        },
        "id": "8rkBv_4NlPws",
        "outputId": "f7858872-9dd4-4c52-b89a-9e0e6248f023"
      },
      "outputs": [
        {
          "output_type": "execute_result",
          "data": {
            "text/plain": [
              "   ID  Grade \n",
              "0  11      55\n",
              "1  12      66\n",
              "2  13      77\n",
              "3  14      88\n",
              "4  15      99"
            ],
            "text/html": [
              "\n",
              "  <div id=\"df-1c9296e8-ddd1-4301-a9a5-cbbd7d4b981a\" class=\"colab-df-container\">\n",
              "    <div>\n",
              "<style scoped>\n",
              "    .dataframe tbody tr th:only-of-type {\n",
              "        vertical-align: middle;\n",
              "    }\n",
              "\n",
              "    .dataframe tbody tr th {\n",
              "        vertical-align: top;\n",
              "    }\n",
              "\n",
              "    .dataframe thead th {\n",
              "        text-align: right;\n",
              "    }\n",
              "</style>\n",
              "<table border=\"1\" class=\"dataframe\">\n",
              "  <thead>\n",
              "    <tr style=\"text-align: right;\">\n",
              "      <th></th>\n",
              "      <th>ID</th>\n",
              "      <th>Grade</th>\n",
              "    </tr>\n",
              "  </thead>\n",
              "  <tbody>\n",
              "    <tr>\n",
              "      <th>0</th>\n",
              "      <td>11</td>\n",
              "      <td>55</td>\n",
              "    </tr>\n",
              "    <tr>\n",
              "      <th>1</th>\n",
              "      <td>12</td>\n",
              "      <td>66</td>\n",
              "    </tr>\n",
              "    <tr>\n",
              "      <th>2</th>\n",
              "      <td>13</td>\n",
              "      <td>77</td>\n",
              "    </tr>\n",
              "    <tr>\n",
              "      <th>3</th>\n",
              "      <td>14</td>\n",
              "      <td>88</td>\n",
              "    </tr>\n",
              "    <tr>\n",
              "      <th>4</th>\n",
              "      <td>15</td>\n",
              "      <td>99</td>\n",
              "    </tr>\n",
              "  </tbody>\n",
              "</table>\n",
              "</div>\n",
              "    <div class=\"colab-df-buttons\">\n",
              "\n",
              "  <div class=\"colab-df-container\">\n",
              "    <button class=\"colab-df-convert\" onclick=\"convertToInteractive('df-1c9296e8-ddd1-4301-a9a5-cbbd7d4b981a')\"\n",
              "            title=\"Convert this dataframe to an interactive table.\"\n",
              "            style=\"display:none;\">\n",
              "\n",
              "  <svg xmlns=\"http://www.w3.org/2000/svg\" height=\"24px\" viewBox=\"0 -960 960 960\">\n",
              "    <path d=\"M120-120v-720h720v720H120Zm60-500h600v-160H180v160Zm220 220h160v-160H400v160Zm0 220h160v-160H400v160ZM180-400h160v-160H180v160Zm440 0h160v-160H620v160ZM180-180h160v-160H180v160Zm440 0h160v-160H620v160Z\"/>\n",
              "  </svg>\n",
              "    </button>\n",
              "\n",
              "  <style>\n",
              "    .colab-df-container {\n",
              "      display:flex;\n",
              "      gap: 12px;\n",
              "    }\n",
              "\n",
              "    .colab-df-convert {\n",
              "      background-color: #E8F0FE;\n",
              "      border: none;\n",
              "      border-radius: 50%;\n",
              "      cursor: pointer;\n",
              "      display: none;\n",
              "      fill: #1967D2;\n",
              "      height: 32px;\n",
              "      padding: 0 0 0 0;\n",
              "      width: 32px;\n",
              "    }\n",
              "\n",
              "    .colab-df-convert:hover {\n",
              "      background-color: #E2EBFA;\n",
              "      box-shadow: 0px 1px 2px rgba(60, 64, 67, 0.3), 0px 1px 3px 1px rgba(60, 64, 67, 0.15);\n",
              "      fill: #174EA6;\n",
              "    }\n",
              "\n",
              "    .colab-df-buttons div {\n",
              "      margin-bottom: 4px;\n",
              "    }\n",
              "\n",
              "    [theme=dark] .colab-df-convert {\n",
              "      background-color: #3B4455;\n",
              "      fill: #D2E3FC;\n",
              "    }\n",
              "\n",
              "    [theme=dark] .colab-df-convert:hover {\n",
              "      background-color: #434B5C;\n",
              "      box-shadow: 0px 1px 3px 1px rgba(0, 0, 0, 0.15);\n",
              "      filter: drop-shadow(0px 1px 2px rgba(0, 0, 0, 0.3));\n",
              "      fill: #FFFFFF;\n",
              "    }\n",
              "  </style>\n",
              "\n",
              "    <script>\n",
              "      const buttonEl =\n",
              "        document.querySelector('#df-1c9296e8-ddd1-4301-a9a5-cbbd7d4b981a button.colab-df-convert');\n",
              "      buttonEl.style.display =\n",
              "        google.colab.kernel.accessAllowed ? 'block' : 'none';\n",
              "\n",
              "      async function convertToInteractive(key) {\n",
              "        const element = document.querySelector('#df-1c9296e8-ddd1-4301-a9a5-cbbd7d4b981a');\n",
              "        const dataTable =\n",
              "          await google.colab.kernel.invokeFunction('convertToInteractive',\n",
              "                                                    [key], {});\n",
              "        if (!dataTable) return;\n",
              "\n",
              "        const docLinkHtml = 'Like what you see? Visit the ' +\n",
              "          '<a target=\"_blank\" href=https://colab.research.google.com/notebooks/data_table.ipynb>data table notebook</a>'\n",
              "          + ' to learn more about interactive tables.';\n",
              "        element.innerHTML = '';\n",
              "        dataTable['output_type'] = 'display_data';\n",
              "        await google.colab.output.renderOutput(dataTable, element);\n",
              "        const docLink = document.createElement('div');\n",
              "        docLink.innerHTML = docLinkHtml;\n",
              "        element.appendChild(docLink);\n",
              "      }\n",
              "    </script>\n",
              "  </div>\n",
              "\n",
              "\n",
              "    <div id=\"df-ad42b29c-8d5d-41fe-94e9-027c75da31c8\">\n",
              "      <button class=\"colab-df-quickchart\" onclick=\"quickchart('df-ad42b29c-8d5d-41fe-94e9-027c75da31c8')\"\n",
              "                title=\"Suggest charts\"\n",
              "                style=\"display:none;\">\n",
              "\n",
              "<svg xmlns=\"http://www.w3.org/2000/svg\" height=\"24px\"viewBox=\"0 0 24 24\"\n",
              "     width=\"24px\">\n",
              "    <g>\n",
              "        <path d=\"M19 3H5c-1.1 0-2 .9-2 2v14c0 1.1.9 2 2 2h14c1.1 0 2-.9 2-2V5c0-1.1-.9-2-2-2zM9 17H7v-7h2v7zm4 0h-2V7h2v10zm4 0h-2v-4h2v4z\"/>\n",
              "    </g>\n",
              "</svg>\n",
              "      </button>\n",
              "\n",
              "<style>\n",
              "  .colab-df-quickchart {\n",
              "      --bg-color: #E8F0FE;\n",
              "      --fill-color: #1967D2;\n",
              "      --hover-bg-color: #E2EBFA;\n",
              "      --hover-fill-color: #174EA6;\n",
              "      --disabled-fill-color: #AAA;\n",
              "      --disabled-bg-color: #DDD;\n",
              "  }\n",
              "\n",
              "  [theme=dark] .colab-df-quickchart {\n",
              "      --bg-color: #3B4455;\n",
              "      --fill-color: #D2E3FC;\n",
              "      --hover-bg-color: #434B5C;\n",
              "      --hover-fill-color: #FFFFFF;\n",
              "      --disabled-bg-color: #3B4455;\n",
              "      --disabled-fill-color: #666;\n",
              "  }\n",
              "\n",
              "  .colab-df-quickchart {\n",
              "    background-color: var(--bg-color);\n",
              "    border: none;\n",
              "    border-radius: 50%;\n",
              "    cursor: pointer;\n",
              "    display: none;\n",
              "    fill: var(--fill-color);\n",
              "    height: 32px;\n",
              "    padding: 0;\n",
              "    width: 32px;\n",
              "  }\n",
              "\n",
              "  .colab-df-quickchart:hover {\n",
              "    background-color: var(--hover-bg-color);\n",
              "    box-shadow: 0 1px 2px rgba(60, 64, 67, 0.3), 0 1px 3px 1px rgba(60, 64, 67, 0.15);\n",
              "    fill: var(--button-hover-fill-color);\n",
              "  }\n",
              "\n",
              "  .colab-df-quickchart-complete:disabled,\n",
              "  .colab-df-quickchart-complete:disabled:hover {\n",
              "    background-color: var(--disabled-bg-color);\n",
              "    fill: var(--disabled-fill-color);\n",
              "    box-shadow: none;\n",
              "  }\n",
              "\n",
              "  .colab-df-spinner {\n",
              "    border: 2px solid var(--fill-color);\n",
              "    border-color: transparent;\n",
              "    border-bottom-color: var(--fill-color);\n",
              "    animation:\n",
              "      spin 1s steps(1) infinite;\n",
              "  }\n",
              "\n",
              "  @keyframes spin {\n",
              "    0% {\n",
              "      border-color: transparent;\n",
              "      border-bottom-color: var(--fill-color);\n",
              "      border-left-color: var(--fill-color);\n",
              "    }\n",
              "    20% {\n",
              "      border-color: transparent;\n",
              "      border-left-color: var(--fill-color);\n",
              "      border-top-color: var(--fill-color);\n",
              "    }\n",
              "    30% {\n",
              "      border-color: transparent;\n",
              "      border-left-color: var(--fill-color);\n",
              "      border-top-color: var(--fill-color);\n",
              "      border-right-color: var(--fill-color);\n",
              "    }\n",
              "    40% {\n",
              "      border-color: transparent;\n",
              "      border-right-color: var(--fill-color);\n",
              "      border-top-color: var(--fill-color);\n",
              "    }\n",
              "    60% {\n",
              "      border-color: transparent;\n",
              "      border-right-color: var(--fill-color);\n",
              "    }\n",
              "    80% {\n",
              "      border-color: transparent;\n",
              "      border-right-color: var(--fill-color);\n",
              "      border-bottom-color: var(--fill-color);\n",
              "    }\n",
              "    90% {\n",
              "      border-color: transparent;\n",
              "      border-bottom-color: var(--fill-color);\n",
              "    }\n",
              "  }\n",
              "</style>\n",
              "\n",
              "      <script>\n",
              "        async function quickchart(key) {\n",
              "          const quickchartButtonEl =\n",
              "            document.querySelector('#' + key + ' button');\n",
              "          quickchartButtonEl.disabled = true;  // To prevent multiple clicks.\n",
              "          quickchartButtonEl.classList.add('colab-df-spinner');\n",
              "          try {\n",
              "            const charts = await google.colab.kernel.invokeFunction(\n",
              "                'suggestCharts', [key], {});\n",
              "          } catch (error) {\n",
              "            console.error('Error during call to suggestCharts:', error);\n",
              "          }\n",
              "          quickchartButtonEl.classList.remove('colab-df-spinner');\n",
              "          quickchartButtonEl.classList.add('colab-df-quickchart-complete');\n",
              "        }\n",
              "        (() => {\n",
              "          let quickchartButtonEl =\n",
              "            document.querySelector('#df-ad42b29c-8d5d-41fe-94e9-027c75da31c8 button');\n",
              "          quickchartButtonEl.style.display =\n",
              "            google.colab.kernel.accessAllowed ? 'block' : 'none';\n",
              "        })();\n",
              "      </script>\n",
              "    </div>\n",
              "\n",
              "  <div id=\"id_4c31a90c-6bb5-463a-80c8-8ddfa96f17ae\">\n",
              "    <style>\n",
              "      .colab-df-generate {\n",
              "        background-color: #E8F0FE;\n",
              "        border: none;\n",
              "        border-radius: 50%;\n",
              "        cursor: pointer;\n",
              "        display: none;\n",
              "        fill: #1967D2;\n",
              "        height: 32px;\n",
              "        padding: 0 0 0 0;\n",
              "        width: 32px;\n",
              "      }\n",
              "\n",
              "      .colab-df-generate:hover {\n",
              "        background-color: #E2EBFA;\n",
              "        box-shadow: 0px 1px 2px rgba(60, 64, 67, 0.3), 0px 1px 3px 1px rgba(60, 64, 67, 0.15);\n",
              "        fill: #174EA6;\n",
              "      }\n",
              "\n",
              "      [theme=dark] .colab-df-generate {\n",
              "        background-color: #3B4455;\n",
              "        fill: #D2E3FC;\n",
              "      }\n",
              "\n",
              "      [theme=dark] .colab-df-generate:hover {\n",
              "        background-color: #434B5C;\n",
              "        box-shadow: 0px 1px 3px 1px rgba(0, 0, 0, 0.15);\n",
              "        filter: drop-shadow(0px 1px 2px rgba(0, 0, 0, 0.3));\n",
              "        fill: #FFFFFF;\n",
              "      }\n",
              "    </style>\n",
              "    <button class=\"colab-df-generate\" onclick=\"generateWithVariable('df3')\"\n",
              "            title=\"Generate code using this dataframe.\"\n",
              "            style=\"display:none;\">\n",
              "\n",
              "  <svg xmlns=\"http://www.w3.org/2000/svg\" height=\"24px\"viewBox=\"0 0 24 24\"\n",
              "       width=\"24px\">\n",
              "    <path d=\"M7,19H8.4L18.45,9,17,7.55,7,17.6ZM5,21V16.75L18.45,3.32a2,2,0,0,1,2.83,0l1.4,1.43a1.91,1.91,0,0,1,.58,1.4,1.91,1.91,0,0,1-.58,1.4L9.25,21ZM18.45,9,17,7.55Zm-12,3A5.31,5.31,0,0,0,4.9,8.1,5.31,5.31,0,0,0,1,6.5,5.31,5.31,0,0,0,4.9,4.9,5.31,5.31,0,0,0,6.5,1,5.31,5.31,0,0,0,8.1,4.9,5.31,5.31,0,0,0,12,6.5,5.46,5.46,0,0,0,6.5,12Z\"/>\n",
              "  </svg>\n",
              "    </button>\n",
              "    <script>\n",
              "      (() => {\n",
              "      const buttonEl =\n",
              "        document.querySelector('#id_4c31a90c-6bb5-463a-80c8-8ddfa96f17ae button.colab-df-generate');\n",
              "      buttonEl.style.display =\n",
              "        google.colab.kernel.accessAllowed ? 'block' : 'none';\n",
              "\n",
              "      buttonEl.onclick = () => {\n",
              "        google.colab.notebook.generateWithVariable('df3');\n",
              "      }\n",
              "      })();\n",
              "    </script>\n",
              "  </div>\n",
              "\n",
              "    </div>\n",
              "  </div>\n"
            ],
            "application/vnd.google.colaboratory.intrinsic+json": {
              "type": "dataframe",
              "variable_name": "df3",
              "summary": "{\n  \"name\": \"df3\",\n  \"rows\": 5,\n  \"fields\": [\n    {\n      \"column\": \"ID\",\n      \"properties\": {\n        \"dtype\": \"number\",\n        \"std\": 1,\n        \"min\": 11,\n        \"max\": 15,\n        \"num_unique_values\": 5,\n        \"samples\": [\n          12,\n          15,\n          13\n        ],\n        \"semantic_type\": \"\",\n        \"description\": \"\"\n      }\n    },\n    {\n      \"column\": \"Grade \",\n      \"properties\": {\n        \"dtype\": \"number\",\n        \"std\": 17,\n        \"min\": 55,\n        \"max\": 99,\n        \"num_unique_values\": 5,\n        \"samples\": [\n          66,\n          99,\n          77\n        ],\n        \"semantic_type\": \"\",\n        \"description\": \"\"\n      }\n    }\n  ]\n}"
            }
          },
          "metadata": {},
          "execution_count": 51
        }
      ],
      "source": [
        "df3"
      ]
    },
    {
      "cell_type": "code",
      "execution_count": null,
      "metadata": {
        "id": "TZovSMUElPzz"
      },
      "outputs": [],
      "source": []
    },
    {
      "cell_type": "code",
      "execution_count": null,
      "metadata": {
        "id": "fr2HKAfLlP3i"
      },
      "outputs": [],
      "source": []
    },
    {
      "cell_type": "code",
      "execution_count": null,
      "metadata": {
        "id": "prX16Zo3lP7Y"
      },
      "outputs": [],
      "source": []
    },
    {
      "cell_type": "markdown",
      "metadata": {
        "id": "05ASKtYTRvUF"
      },
      "source": [
        "1. Introduction to NumPy\n",
        "What is NumPy?\n",
        "\n",
        "NumPy (Numerical Python) is a library for numerical computations in Python. It provides support for large, multi-dimensional arrays and matrices, along with a collection of mathematical functions to operate on these arrays.\n",
        "\n",
        "Core Data Structure: The primary data structure in NumPy is the ndarray (N-dimensional array).\n",
        "\n",
        "Why Use NumPy?\n",
        "\n",
        "Fast and efficient operations on large datasets.\n",
        "\n",
        "Provides vectorized operations, which are much faster than regular Python lists.\n",
        "\n",
        "Integrated with other scientific libraries like SciPy, Pandas, and Matplotlib.\n",
        "\n",
        "2. NumPy Array Basics\n",
        "Creating NumPy Arrays\n",
        "\n",
        "Using np.array(): Create a NumPy array from a list or a tuple.\n",
        "\n",
        "python\n",
        "Copy\n"
      ]
    },
    {
      "cell_type": "code",
      "execution_count": null,
      "metadata": {
        "colab": {
          "base_uri": "https://localhost:8080/"
        },
        "id": "cuawha_tRwQT",
        "outputId": "296cdb27-f1df-458b-8ae7-4885bd015552"
      },
      "outputs": [
        {
          "output_type": "stream",
          "name": "stdout",
          "text": [
            "[1.1 2.3 3.5 4.4 6.5]\n"
          ]
        }
      ],
      "source": [
        "import numpy as np\n",
        "arr = np.array([1.1, 2.3, 3.5, 4.4, 6.5])  # 1D array\n",
        "print(arr)\n"
      ]
    },
    {
      "cell_type": "code",
      "execution_count": null,
      "metadata": {
        "colab": {
          "base_uri": "https://localhost:8080/"
        },
        "id": "cMOsAsoRmk2d",
        "outputId": "4e846850-bfb6-4a7e-9653-c46d7a7ddde9"
      },
      "outputs": [
        {
          "output_type": "stream",
          "name": "stdout",
          "text": [
            "6.5\n"
          ]
        }
      ],
      "source": [
        "print(arr[4])"
      ]
    },
    {
      "cell_type": "code",
      "execution_count": null,
      "metadata": {
        "colab": {
          "base_uri": "https://localhost:8080/"
        },
        "id": "rZqV29YGmK_t",
        "outputId": "30426502-938b-4085-e7fb-62cffaa15164"
      },
      "outputs": [
        {
          "output_type": "stream",
          "name": "stdout",
          "text": [
            "[3.5 4.4]\n"
          ]
        }
      ],
      "source": [
        "print(arr[2:4])"
      ]
    },
    {
      "cell_type": "code",
      "execution_count": null,
      "metadata": {
        "colab": {
          "base_uri": "https://localhost:8080/"
        },
        "id": "muen6i06loYc",
        "outputId": "5e87ae89-5ff5-47bd-e729-b30f351f986e"
      },
      "outputs": [
        {
          "output_type": "stream",
          "name": "stdout",
          "text": [
            "[2.3 3.5 4.4]\n"
          ]
        }
      ],
      "source": [
        "print(arr[1:4])"
      ]
    },
    {
      "cell_type": "code",
      "execution_count": null,
      "metadata": {
        "colab": {
          "base_uri": "https://localhost:8080/"
        },
        "id": "uMvaJfTvlZp2",
        "outputId": "e1a6ccd5-6840-402a-df23-4df8e58cdc57"
      },
      "outputs": [
        {
          "output_type": "stream",
          "name": "stdout",
          "text": [
            "1.1\n"
          ]
        }
      ],
      "source": [
        "print(arr[0])  # Access the first element"
      ]
    },
    {
      "cell_type": "code",
      "execution_count": null,
      "metadata": {
        "colab": {
          "base_uri": "https://localhost:8080/"
        },
        "id": "Axzhtp-HDQbO",
        "outputId": "89c9756a-5df6-444b-aa3b-25413924d747"
      },
      "outputs": [
        {
          "output_type": "stream",
          "name": "stdout",
          "text": [
            "4.4\n"
          ]
        }
      ],
      "source": [
        "print(arr[3])  # Access the first element"
      ]
    },
    {
      "cell_type": "markdown",
      "metadata": {
        "id": "NAtt4N5WR1Ns"
      },
      "source": [
        "Array Dimensions\n",
        "\n",
        "1D Array: A single row or column of data.\n",
        "\n",
        "2D Array: A matrix (rows and columns).\n",
        "\n",
        "3D Array: A collection of matrices, like a tensor.\n",
        "\n",
        "python\n",
        "Copy\n"
      ]
    },
    {
      "cell_type": "code",
      "execution_count": null,
      "metadata": {
        "id": "RlwRuRIRR1jM"
      },
      "outputs": [],
      "source": [
        "arr_2d = np.array([[1, 2, 3], [4, 5, 6]])\n"
      ]
    },
    {
      "cell_type": "code",
      "execution_count": null,
      "metadata": {
        "colab": {
          "base_uri": "https://localhost:8080/"
        },
        "id": "xpBS7Yn_Jgph",
        "outputId": "b7c79ae8-06c1-4702-a6b0-748dc42fefb9"
      },
      "outputs": [
        {
          "output_type": "execute_result",
          "data": {
            "text/plain": [
              "array([[1, 2, 3],\n",
              "       [4, 5, 6]])"
            ]
          },
          "metadata": {},
          "execution_count": 59
        }
      ],
      "source": [
        "arr_2d"
      ]
    },
    {
      "cell_type": "code",
      "execution_count": null,
      "metadata": {
        "colab": {
          "base_uri": "https://localhost:8080/"
        },
        "id": "TUtPuANqEBbP",
        "outputId": "f6547771-052f-43ed-9590-5b190a3114f0"
      },
      "outputs": [
        {
          "output_type": "stream",
          "name": "stdout",
          "text": [
            "3\n"
          ]
        }
      ],
      "source": [
        "print(arr_2d[0, 2])  # Access element in 2D array (row 0, column 1)"
      ]
    },
    {
      "cell_type": "code",
      "execution_count": null,
      "metadata": {
        "id": "F6sNB3L3Fk9E"
      },
      "outputs": [],
      "source": []
    },
    {
      "cell_type": "markdown",
      "metadata": {
        "id": "74RuwiP5R70M"
      },
      "source": [
        "Array Shape\n",
        "\n",
        ".shape tells the shape of an array (number of rows, columns, etc.).\n",
        "\n",
        "\n"
      ]
    },
    {
      "cell_type": "code",
      "execution_count": null,
      "metadata": {
        "colab": {
          "base_uri": "https://localhost:8080/"
        },
        "id": "nuai5Da-R8Fc",
        "outputId": "81920de5-ad62-4c87-8696-3c779583258d"
      },
      "outputs": [
        {
          "output_type": "stream",
          "name": "stdout",
          "text": [
            "(5,)\n",
            "(2, 3)\n"
          ]
        }
      ],
      "source": [
        "print(arr.shape)  # Output: (5,)\n",
        "print(arr_2d.shape)  # Output: (2, 3)\n"
      ]
    },
    {
      "cell_type": "markdown",
      "metadata": {
        "id": "mbnGUfFjSCgE"
      },
      "source": [
        "Array Data Type:\n",
        "\n",
        ".dtype tells the data type of the elements in the array.\n",
        "\n",
        "python\n",
        "Copy\n"
      ]
    },
    {
      "cell_type": "code",
      "execution_count": null,
      "metadata": {
        "colab": {
          "base_uri": "https://localhost:8080/"
        },
        "id": "4yeqwPutSDV8",
        "outputId": "ed3fcc1d-9db0-4eae-c7ea-082cf23f7768"
      },
      "outputs": [
        {
          "output_type": "stream",
          "name": "stdout",
          "text": [
            "float64\n"
          ]
        }
      ],
      "source": [
        "print(arr.dtype)\n"
      ]
    },
    {
      "cell_type": "code",
      "execution_count": null,
      "metadata": {
        "colab": {
          "base_uri": "https://localhost:8080/"
        },
        "id": "wgU8lfO6LwOS",
        "outputId": "5af9af1b-ceb8-43c9-96b5-a9d60fd3c92f"
      },
      "outputs": [
        {
          "output_type": "stream",
          "name": "stdout",
          "text": [
            "int64\n"
          ]
        }
      ],
      "source": [
        "print(arr_2d.dtype)"
      ]
    },
    {
      "cell_type": "markdown",
      "metadata": {
        "id": "PZxFtRptSJw0"
      },
      "source": [
        "3. NumPy Array Indexing and Slicing\n",
        "Indexing\n",
        "\n",
        "Access individual elements using indices."
      ]
    },
    {
      "cell_type": "code",
      "execution_count": null,
      "metadata": {
        "colab": {
          "base_uri": "https://localhost:8080/"
        },
        "id": "KgvTm3ppSOI8",
        "outputId": "3a02a22b-541e-4331-ae37-c2486a8d1332"
      },
      "outputs": [
        {
          "output_type": "stream",
          "name": "stdout",
          "text": [
            "1.1\n",
            "2\n"
          ]
        }
      ],
      "source": [
        "print(arr[0])  # Access the first element\n",
        "print(arr_2d[0, 1])  # Access element in 2D array (row 0, column 1)\n"
      ]
    },
    {
      "cell_type": "markdown",
      "metadata": {
        "id": "ZKqXKumXSQk0"
      },
      "source": [
        "Slicing\n",
        "\n",
        "Extract subsets of arrays using slicing.\n",
        "\n",
        "\n"
      ]
    },
    {
      "cell_type": "code",
      "execution_count": null,
      "metadata": {
        "colab": {
          "base_uri": "https://localhost:8080/"
        },
        "id": "nRsbyWBsF5xN",
        "outputId": "313901c9-4b89-4398-c519-f8b843106dd5"
      },
      "outputs": [
        {
          "output_type": "stream",
          "name": "stdout",
          "text": [
            "[1.1 2.3 3.5 4.4 6.5]\n"
          ]
        }
      ],
      "source": [
        "print(arr)"
      ]
    },
    {
      "cell_type": "code",
      "execution_count": null,
      "metadata": {
        "colab": {
          "base_uri": "https://localhost:8080/"
        },
        "id": "FfMONBueGHot",
        "outputId": "6dbd21b4-5edc-43d8-d034-955c00a23b31"
      },
      "outputs": [
        {
          "output_type": "stream",
          "name": "stdout",
          "text": [
            "[2.3 3.5 4.4]\n"
          ]
        }
      ],
      "source": [
        "print(arr[1:4])  # Slice from index 1 to 3"
      ]
    },
    {
      "cell_type": "code",
      "execution_count": null,
      "metadata": {
        "colab": {
          "base_uri": "https://localhost:8080/"
        },
        "id": "WHKKCqEBSUXU",
        "outputId": "abd50f81-05fe-42bf-8768-3d4b5755cb96"
      },
      "outputs": [
        {
          "output_type": "stream",
          "name": "stdout",
          "text": [
            "[2.3 3.5 4.4]\n",
            "[1 2 3]\n"
          ]
        }
      ],
      "source": [
        "print(arr[1:4])  # Slice from index 1 to 3\n",
        "print(arr_2d[0, :])  # Slice the first row\n"
      ]
    },
    {
      "cell_type": "markdown",
      "metadata": {
        "id": "eCyqlMe6Sas0"
      },
      "source": [
        "Advanced Indexing\n",
        "\n",
        "Use boolean indexing and fancy indexing to extract elements based on conditions or indices."
      ]
    },
    {
      "cell_type": "code",
      "execution_count": null,
      "metadata": {
        "colab": {
          "base_uri": "https://localhost:8080/"
        },
        "id": "J-7IQbE-Sbis",
        "outputId": "479d3b6a-65fa-4002-d114-d36ba9c0b6d3"
      },
      "outputs": [
        {
          "output_type": "stream",
          "name": "stdout",
          "text": [
            "[2.3 3.5 4.4 6.5]\n",
            "[3 6]\n"
          ]
        }
      ],
      "source": [
        "print(arr[arr > 2])  # Elements greater than 2\n",
        "print(arr_2d[[0, 1], 2])  # Specific rows and columns\n"
      ]
    },
    {
      "cell_type": "markdown",
      "metadata": {
        "id": "EjArtVcySh7s"
      },
      "source": [
        "4. Array Operations\n",
        "Mathematical Operations\n",
        "\n",
        "NumPy allows element-wise mathematical operations on arrays, such as addition, multiplication, etc."
      ]
    },
    {
      "cell_type": "code",
      "source": [
        "arr = np.array([1, 2, 3, 4])\n",
        "print(arr)"
      ],
      "metadata": {
        "colab": {
          "base_uri": "https://localhost:8080/"
        },
        "id": "366ETcNXT8fJ",
        "outputId": "9cf30c2d-a6ae-4b67-cece-e8ede1aaf540"
      },
      "execution_count": null,
      "outputs": [
        {
          "output_type": "stream",
          "name": "stdout",
          "text": [
            "[1 2 3 4]\n"
          ]
        }
      ]
    },
    {
      "cell_type": "code",
      "source": [
        "print(arr - 5)  # Sutract 5 to each element"
      ],
      "metadata": {
        "colab": {
          "base_uri": "https://localhost:8080/"
        },
        "id": "O_lg8XLSWhZA",
        "outputId": "c01c092a-7d76-4949-c309-5a0d91044b79"
      },
      "execution_count": null,
      "outputs": [
        {
          "output_type": "stream",
          "name": "stdout",
          "text": [
            "[-4 -3 -2 -1]\n"
          ]
        }
      ]
    },
    {
      "cell_type": "code",
      "source": [
        "print(arr/ 2)  # Divide each element by 2"
      ],
      "metadata": {
        "colab": {
          "base_uri": "https://localhost:8080/"
        },
        "id": "mqyfmsHrWROP",
        "outputId": "488217fc-219d-42ce-c78f-d664c766380f"
      },
      "execution_count": null,
      "outputs": [
        {
          "output_type": "stream",
          "name": "stdout",
          "text": [
            "[0.5 1.  1.5 2. ]\n"
          ]
        }
      ]
    },
    {
      "cell_type": "code",
      "source": [
        "print(arr * 7)  # Multiply each element by 2"
      ],
      "metadata": {
        "colab": {
          "base_uri": "https://localhost:8080/"
        },
        "id": "bKw_emEhWCFQ",
        "outputId": "d967c9a3-cb5b-4ce4-c151-130aa6ef38e9"
      },
      "execution_count": null,
      "outputs": [
        {
          "output_type": "stream",
          "name": "stdout",
          "text": [
            "[ 7 14 21 28]\n"
          ]
        }
      ]
    },
    {
      "cell_type": "code",
      "source": [
        "arr1 = (arr + 5)  # Add 5 to each element"
      ],
      "metadata": {
        "id": "dBhRvXpTVfOo"
      },
      "execution_count": null,
      "outputs": []
    },
    {
      "cell_type": "code",
      "source": [
        "print(arr1)"
      ],
      "metadata": {
        "colab": {
          "base_uri": "https://localhost:8080/"
        },
        "id": "NI-6UgAAVpFX",
        "outputId": "95e41843-a98d-473a-f5a0-61ec90f572ec"
      },
      "execution_count": null,
      "outputs": [
        {
          "output_type": "stream",
          "name": "stdout",
          "text": [
            "[6 7 8 9]\n"
          ]
        }
      ]
    },
    {
      "cell_type": "code",
      "execution_count": null,
      "metadata": {
        "colab": {
          "base_uri": "https://localhost:8080/"
        },
        "id": "b8vwJwfNSisc",
        "outputId": "2fb8c716-1aca-4353-c8ca-7e7d770cd816"
      },
      "outputs": [
        {
          "output_type": "stream",
          "name": "stdout",
          "text": [
            "[6 7 8 9]\n",
            "[2 4 6 8]\n"
          ]
        }
      ],
      "source": [
        "arr = np.array([1, 2, 3, 4])\n",
        "print(arr + 5)  # Add 5 to each element\n",
        "print(arr * 2)  # Multiply each element by 2\n"
      ]
    },
    {
      "cell_type": "markdown",
      "metadata": {
        "id": "0nEuWmLlSnlc"
      },
      "source": [
        "Array Broadcasting\n",
        "\n",
        "Broadcasting allows NumPy to perform operations on arrays of different shapes in a way that makes sense."
      ]
    },
    {
      "cell_type": "code",
      "source": [
        "arr = np.array([1, 2, 3])\n",
        "print(arr)"
      ],
      "metadata": {
        "colab": {
          "base_uri": "https://localhost:8080/"
        },
        "id": "iG-4btjvYHVA",
        "outputId": "0df878e9-cc98-4133-f937-4b124dcaab2c"
      },
      "execution_count": null,
      "outputs": [
        {
          "output_type": "stream",
          "name": "stdout",
          "text": [
            "[1 2 3]\n"
          ]
        }
      ]
    },
    {
      "cell_type": "code",
      "source": [
        "arr_2d = np.array([[10, 20, 30], [40, 50, 60]])\n",
        "print(arr_2d)"
      ],
      "metadata": {
        "colab": {
          "base_uri": "https://localhost:8080/"
        },
        "id": "tbVnbhVpYMNf",
        "outputId": "8a6f2422-27b7-4caf-8312-73adf9a616e2"
      },
      "execution_count": null,
      "outputs": [
        {
          "output_type": "stream",
          "name": "stdout",
          "text": [
            "[[10 20 30]\n",
            " [40 50 60]]\n"
          ]
        }
      ]
    },
    {
      "cell_type": "code",
      "execution_count": null,
      "metadata": {
        "colab": {
          "base_uri": "https://localhost:8080/"
        },
        "id": "D4V5S7JOSoVc",
        "outputId": "1c6b536e-0eec-4e9f-b5ba-5dc1c4c39bfc"
      },
      "outputs": [
        {
          "output_type": "stream",
          "name": "stdout",
          "text": [
            "[[11 22 33]\n",
            " [41 52 63]]\n"
          ]
        }
      ],
      "source": [
        "arr = np.array([1, 2, 3])\n",
        "arr_2d = np.array([[10, 20, 30], [40, 50, 60]])\n",
        "print(arr_2d + arr)  # Broadcasting addition\n"
      ]
    },
    {
      "cell_type": "markdown",
      "metadata": {
        "id": "CD8O2yzDStIM"
      },
      "source": [
        "5. Reshaping and Modifying Arrays\n",
        "Reshaping Arrays\n",
        "\n",
        "Use .reshape() to change the shape of the array.\n",
        "\n"
      ]
    },
    {
      "cell_type": "code",
      "execution_count": null,
      "metadata": {
        "colab": {
          "base_uri": "https://localhost:8080/"
        },
        "id": "jgN55wg2SusE",
        "outputId": "bb9ef916-e88d-40af-de0d-e0467a9d8d92"
      },
      "outputs": [
        {
          "output_type": "stream",
          "name": "stdout",
          "text": [
            "[[1 2 3]\n",
            " [4 5 6]]\n"
          ]
        }
      ],
      "source": [
        "\n",
        "arr = np.array([1, 2, 3, 4, 5, 6])\n",
        "arr_reshaped = arr.reshape(2, 3)  # 2 rows, 3 columns\n",
        "print(arr_reshaped)"
      ]
    },
    {
      "cell_type": "code",
      "source": [
        "arr = np.array([1, 2, 3, 4, 5, 6])\n",
        "print(arr)"
      ],
      "metadata": {
        "colab": {
          "base_uri": "https://localhost:8080/"
        },
        "id": "7UrFWDGra4Uv",
        "outputId": "c5c1b8b5-8b06-40c4-8871-8f159a4e2942"
      },
      "execution_count": null,
      "outputs": [
        {
          "output_type": "stream",
          "name": "stdout",
          "text": [
            "[1 2 3 4 5 6]\n"
          ]
        }
      ]
    },
    {
      "cell_type": "code",
      "source": [
        "arr_reshaped = arr.reshape(3, 2)  # 2 rows, 3 columns\n",
        "print(arr_reshaped)"
      ],
      "metadata": {
        "colab": {
          "base_uri": "https://localhost:8080/"
        },
        "id": "WwjICwtycIro",
        "outputId": "568686f4-3a2c-4799-ba42-50fcd4930497"
      },
      "execution_count": null,
      "outputs": [
        {
          "output_type": "stream",
          "name": "stdout",
          "text": [
            "[[1 2]\n",
            " [3 4]\n",
            " [5 6]]\n"
          ]
        }
      ]
    },
    {
      "cell_type": "code",
      "source": [
        "arr_reshaped1 = arr.reshape(2, 3)  # 2 rows, 3 columns\n",
        "print(arr_reshaped1)"
      ],
      "metadata": {
        "colab": {
          "base_uri": "https://localhost:8080/"
        },
        "id": "GhQcaRA_bztq",
        "outputId": "35a85439-8158-4965-822d-7c9832da3057"
      },
      "execution_count": null,
      "outputs": [
        {
          "output_type": "stream",
          "name": "stdout",
          "text": [
            "[[1 2 3]\n",
            " [4 5 6]]\n"
          ]
        }
      ]
    },
    {
      "cell_type": "code",
      "source": [
        "print(arr_reshaped)"
      ],
      "metadata": {
        "colab": {
          "base_uri": "https://localhost:8080/"
        },
        "id": "NOLhTHulcvpw",
        "outputId": "1e65a968-723b-42a7-d1a7-514ef97711c2"
      },
      "execution_count": null,
      "outputs": [
        {
          "output_type": "stream",
          "name": "stdout",
          "text": [
            "[[1 2]\n",
            " [3 4]\n",
            " [5 6]]\n"
          ]
        }
      ]
    },
    {
      "cell_type": "code",
      "source": [
        "arr_flatten=arr_reshaped.flatten()"
      ],
      "metadata": {
        "id": "AprChQHsdzAR"
      },
      "execution_count": null,
      "outputs": []
    },
    {
      "cell_type": "code",
      "source": [
        "print(arr_flatten)"
      ],
      "metadata": {
        "colab": {
          "base_uri": "https://localhost:8080/"
        },
        "id": "FjEvtPIRd5E-",
        "outputId": "a0b463f3-9ad4-4de0-ba58-dbffdaf288ca"
      },
      "execution_count": null,
      "outputs": [
        {
          "output_type": "stream",
          "name": "stdout",
          "text": [
            "[1 2 3 4 5 6]\n"
          ]
        }
      ]
    },
    {
      "cell_type": "markdown",
      "metadata": {
        "id": "MMqy3e3uS3FM"
      },
      "source": [
        "Flattening Arrays\n",
        "\n",
        "Convert a multi-dimensional array into a 1D array.\n",
        "\n",
        "\n"
      ]
    },
    {
      "cell_type": "code",
      "execution_count": null,
      "metadata": {
        "id": "dnXdbJijS4ek"
      },
      "outputs": [],
      "source": [
        "arr_flat = arr_reshaped.flatten()\n"
      ]
    },
    {
      "cell_type": "markdown",
      "metadata": {
        "id": "yUmWYOs0S9Uc"
      },
      "source": [
        "6. NumPy Array Operations for Statistical Analysis\n",
        "Basic Statistics\n",
        "\n",
        "NumPy provides a variety of functions for calculating statistics on arrays."
      ]
    },
    {
      "cell_type": "code",
      "source": [
        "arr = np.array([1, 2, 3, 4, 5, 6])\n",
        "print(arr)"
      ],
      "metadata": {
        "colab": {
          "base_uri": "https://localhost:8080/"
        },
        "id": "Izuu9TvQePZY",
        "outputId": "8ab4a2d1-8ac9-421b-d438-e1a52a923d55"
      },
      "execution_count": null,
      "outputs": [
        {
          "output_type": "stream",
          "name": "stdout",
          "text": [
            "[1 2 3 4 5 6]\n"
          ]
        }
      ]
    },
    {
      "cell_type": "code",
      "source": [
        "print(np.sum(arr))  # Sum of values"
      ],
      "metadata": {
        "colab": {
          "base_uri": "https://localhost:8080/"
        },
        "id": "hBWfSBKrgCPW",
        "outputId": "ad1b7bc3-c90c-43ed-d7b8-d16cb7101b48"
      },
      "execution_count": null,
      "outputs": [
        {
          "output_type": "stream",
          "name": "stdout",
          "text": [
            "21\n"
          ]
        }
      ]
    },
    {
      "cell_type": "code",
      "source": [
        "print(np.max(arr))  # Maximum value"
      ],
      "metadata": {
        "colab": {
          "base_uri": "https://localhost:8080/"
        },
        "id": "u1Gzq1lSf-kY",
        "outputId": "d64706e6-1e59-41a0-c2fb-ce17067691c4"
      },
      "execution_count": null,
      "outputs": [
        {
          "output_type": "stream",
          "name": "stdout",
          "text": [
            "6\n"
          ]
        }
      ]
    },
    {
      "cell_type": "code",
      "source": [
        "print(np.min(arr))  # Minimum value"
      ],
      "metadata": {
        "colab": {
          "base_uri": "https://localhost:8080/"
        },
        "id": "VPzW6Ijcf7Lh",
        "outputId": "a1bb2ecc-31fd-4de8-e9eb-63cf41198ba6"
      },
      "execution_count": null,
      "outputs": [
        {
          "output_type": "stream",
          "name": "stdout",
          "text": [
            "1\n"
          ]
        }
      ]
    },
    {
      "cell_type": "code",
      "source": [
        "print(np.median(arr))  # Median of the array"
      ],
      "metadata": {
        "colab": {
          "base_uri": "https://localhost:8080/"
        },
        "id": "kW0hZwzGe6FH",
        "outputId": "fbb011db-0226-4bca-fc5a-7d2af9397551"
      },
      "execution_count": null,
      "outputs": [
        {
          "output_type": "stream",
          "name": "stdout",
          "text": [
            "3.5\n"
          ]
        }
      ]
    },
    {
      "cell_type": "code",
      "source": [
        "print(np.mean(arr))  # Mean of the array"
      ],
      "metadata": {
        "colab": {
          "base_uri": "https://localhost:8080/"
        },
        "id": "ttLEqAhHeVZ3",
        "outputId": "b39c8365-21a0-4604-9915-1266e0ae5023"
      },
      "execution_count": null,
      "outputs": [
        {
          "output_type": "stream",
          "name": "stdout",
          "text": [
            "3.5\n"
          ]
        }
      ]
    },
    {
      "cell_type": "code",
      "execution_count": null,
      "metadata": {
        "colab": {
          "base_uri": "https://localhost:8080/"
        },
        "id": "DoLDcGBqS-Nt",
        "outputId": "006b1c22-fc07-4a87-aa3d-3224cbf65f2b"
      },
      "outputs": [
        {
          "output_type": "stream",
          "name": "stdout",
          "text": [
            "3.0\n",
            "3.0\n",
            "1.4142135623730951\n"
          ]
        }
      ],
      "source": [
        "arr = np.array([1, 2, 3, 4, 5])\n",
        "print(np.mean(arr))  # Mean of the array\n",
        "print(np.median(arr))  # Median of the array\n",
        "print(np.std(arr))  # Standard deviation of the array\n"
      ]
    },
    {
      "cell_type": "markdown",
      "metadata": {
        "id": "v79ysYmSTCt0"
      },
      "source": [
        "Min, Max, and Sum\n",
        "\n",
        "np.min(), np.max(), and np.sum() to get the minimum, maximum, and sum of the array elements.\n",
        "\n",
        "\n"
      ]
    },
    {
      "cell_type": "code",
      "execution_count": null,
      "metadata": {
        "colab": {
          "base_uri": "https://localhost:8080/"
        },
        "id": "aVsykN7VTHmk",
        "outputId": "fd1d2cd4-8396-401e-a9c1-d87da23c5162"
      },
      "outputs": [
        {
          "output_type": "stream",
          "name": "stdout",
          "text": [
            "1\n",
            "5\n",
            "15\n"
          ]
        }
      ],
      "source": [
        "print(np.min(arr))  # Minimum value\n",
        "print(np.max(arr))  # Maximum value\n",
        "print(np.sum(arr))  # Sum of values\n"
      ]
    },
    {
      "cell_type": "markdown",
      "metadata": {
        "id": "x-hGh95BTK-k"
      },
      "source": [
        ". Random Numbers and Seed Generation\n",
        "Random Number Generation\n",
        "\n",
        "Use np.random for generating random numbers, such as random integers, floats, or distributions."
      ]
    },
    {
      "cell_type": "code",
      "execution_count": null,
      "metadata": {
        "id": "NKF_FgU3TLnE"
      },
      "outputs": [],
      "source": [
        "rand_int = np.random.randint(0, 10, size=5)  # Random integers\n",
        "rand_float = np.random.rand(3, 3)  # Random floats between 0 and 1\n"
      ]
    },
    {
      "cell_type": "code",
      "source": [
        "rand_int = np.random.randint(0, 10, size=5)  # Random integers\n",
        "print(rand_int)"
      ],
      "metadata": {
        "colab": {
          "base_uri": "https://localhost:8080/"
        },
        "id": "CxwC9fe1gMo_",
        "outputId": "a149a3c9-af7f-4360-fca1-0406a8f76fc6"
      },
      "execution_count": null,
      "outputs": [
        {
          "output_type": "stream",
          "name": "stdout",
          "text": [
            "[6 4 4 0 4]\n"
          ]
        }
      ]
    },
    {
      "cell_type": "code",
      "source": [
        "#Random 20 integers etween 10 to 100\n",
        "rand_int = np.random.randint(10, 100, size=20)  # Random integers\n",
        "print(rand_int)"
      ],
      "metadata": {
        "colab": {
          "base_uri": "https://localhost:8080/"
        },
        "id": "ZZayY0XGgWuf",
        "outputId": "eb0f1cf2-360b-4f9b-d7d9-d2cceb349a5a"
      },
      "execution_count": null,
      "outputs": [
        {
          "output_type": "stream",
          "name": "stdout",
          "text": [
            "[44 42 81 18 10 58 26 79 59 54 97 75 88 88 28 95 91 62 14 53]\n"
          ]
        }
      ]
    },
    {
      "cell_type": "markdown",
      "metadata": {
        "id": "d6HXQGfFTfdE"
      },
      "source": [
        "9. Working with Multi-dimensional Arrays\n",
        "Creating Multi-dimensional Arrays\n",
        "\n",
        "Use np.array() or np.zeros(), np.ones() for creating multi-dimensional arrays."
      ]
    },
    {
      "cell_type": "code",
      "execution_count": null,
      "metadata": {
        "id": "_2RzlXaqTf50"
      },
      "outputs": [],
      "source": [
        "arr_3d = np.zeros((3, 3, 3))  # 3x3x3 array filled with zeros\n"
      ]
    },
    {
      "cell_type": "code",
      "source": [
        "print(arr_3d)"
      ],
      "metadata": {
        "colab": {
          "base_uri": "https://localhost:8080/"
        },
        "id": "3tfrH6KPtRoB",
        "outputId": "6acbac25-f0f4-43bd-b4cb-04d3d8f44ea3"
      },
      "execution_count": null,
      "outputs": [
        {
          "output_type": "stream",
          "name": "stdout",
          "text": [
            "[[[0. 0. 0.]\n",
            "  [0. 0. 0.]\n",
            "  [0. 0. 0.]]\n",
            "\n",
            " [[0. 0. 0.]\n",
            "  [0. 0. 0.]\n",
            "  [0. 0. 0.]]\n",
            "\n",
            " [[0. 0. 0.]\n",
            "  [0. 0. 0.]\n",
            "  [0. 0. 0.]]]\n"
          ]
        }
      ]
    },
    {
      "cell_type": "markdown",
      "metadata": {
        "id": "aTMgwjeCTjj1"
      },
      "source": [
        "Accessing Multi-dimensional Arrays\n",
        "\n",
        "Use advanced indexing to access elements."
      ]
    },
    {
      "cell_type": "code",
      "execution_count": null,
      "metadata": {
        "colab": {
          "base_uri": "https://localhost:8080/"
        },
        "id": "w2Q1y70GTkAt",
        "outputId": "1b176042-ce54-4b16-e87a-536da0f09e5a"
      },
      "outputs": [
        {
          "output_type": "stream",
          "name": "stdout",
          "text": [
            "0.0\n"
          ]
        }
      ],
      "source": [
        "print(arr_3d[0, 1, 2])  # Access element at position (0,1,2)\n"
      ]
    },
    {
      "cell_type": "markdown",
      "metadata": {
        "id": "9hIUua5JToiU"
      },
      "source": [
        "10. Linear Algebra in NumPy\n",
        "Dot Product\n",
        "\n",
        "Compute the dot product of two arrays."
      ]
    },
    {
      "cell_type": "code",
      "execution_count": null,
      "metadata": {
        "colab": {
          "base_uri": "https://localhost:8080/"
        },
        "id": "0f47yTGTTpAd",
        "outputId": "20c1bf48-8d03-4c93-a9b2-22c9fb85a43f"
      },
      "outputs": [
        {
          "output_type": "stream",
          "name": "stdout",
          "text": [
            "11\n"
          ]
        }
      ],
      "source": [
        "arr1 = np.array([1, 2])\n",
        "arr2 = np.array([3, 4])\n",
        "print(np.dot(arr1, arr2))  # Dot product\n"
      ]
    },
    {
      "cell_type": "code",
      "source": [
        "print(np.dot(arr1,arr2))"
      ],
      "metadata": {
        "colab": {
          "base_uri": "https://localhost:8080/"
        },
        "id": "c_dz8f_UwX2j",
        "outputId": "99f5b4aa-25cd-4941-c548-3d6cb03af929"
      },
      "execution_count": null,
      "outputs": [
        {
          "output_type": "stream",
          "name": "stdout",
          "text": [
            "11\n"
          ]
        }
      ]
    },
    {
      "cell_type": "code",
      "source": [
        "print(arr1)"
      ],
      "metadata": {
        "colab": {
          "base_uri": "https://localhost:8080/"
        },
        "id": "2sVnZlXXvdR3",
        "outputId": "a5700918-f5b2-4646-fa12-542ba75a6d8b"
      },
      "execution_count": null,
      "outputs": [
        {
          "output_type": "stream",
          "name": "stdout",
          "text": [
            "[1 2]\n"
          ]
        }
      ]
    },
    {
      "cell_type": "code",
      "source": [
        "print(arr2)"
      ],
      "metadata": {
        "colab": {
          "base_uri": "https://localhost:8080/"
        },
        "id": "RGCVTpVqvhRi",
        "outputId": "2f45e1e9-4aa1-4de2-8803-61a8123b816b"
      },
      "execution_count": null,
      "outputs": [
        {
          "output_type": "stream",
          "name": "stdout",
          "text": [
            "[3 4]\n"
          ]
        }
      ]
    },
    {
      "cell_type": "markdown",
      "metadata": {
        "id": "r-rR-96OTtEk"
      },
      "source": [
        "Matrix Multiplication\n",
        "\n",
        "Use np.matmul() or @ operator for matrix multiplication.\n",
        "\n",
        "\n"
      ]
    },
    {
      "cell_type": "code",
      "execution_count": null,
      "metadata": {
        "colab": {
          "base_uri": "https://localhost:8080/"
        },
        "id": "IGZMGI98TuN0",
        "outputId": "68c6fd50-689e-4d7b-e64f-31e7ad809513"
      },
      "outputs": [
        {
          "output_type": "stream",
          "name": "stdout",
          "text": [
            "[[19 22]\n",
            " [43 50]]\n"
          ]
        }
      ],
      "source": [
        "matrix1 = np.array([[1, 2], [3, 4]])\n",
        "matrix2 = np.array([[5, 6], [7, 8]])\n",
        "print(np.matmul(matrix1, matrix2))  # Matrix multiplication\n"
      ]
    },
    {
      "cell_type": "code",
      "source": [
        "np.matmul(matrix1,matrix2)"
      ],
      "metadata": {
        "colab": {
          "base_uri": "https://localhost:8080/"
        },
        "id": "Mq4GCJ2xzNsm",
        "outputId": "eb216a2d-b4c5-49e2-b8af-e14c38ef487d"
      },
      "execution_count": null,
      "outputs": [
        {
          "output_type": "execute_result",
          "data": {
            "text/plain": [
              "array([[19, 22],\n",
              "       [43, 50]])"
            ]
          },
          "metadata": {},
          "execution_count": 106
        }
      ]
    },
    {
      "cell_type": "code",
      "source": [
        "print(matrix2)"
      ],
      "metadata": {
        "colab": {
          "base_uri": "https://localhost:8080/"
        },
        "id": "Cd5SSGtEw7mV",
        "outputId": "c4d7bc50-18ad-4dba-f660-e58040e85349"
      },
      "execution_count": null,
      "outputs": [
        {
          "output_type": "stream",
          "name": "stdout",
          "text": [
            "[[5 6]\n",
            " [7 8]]\n"
          ]
        }
      ]
    },
    {
      "cell_type": "code",
      "source": [
        "print(matrix1)"
      ],
      "metadata": {
        "colab": {
          "base_uri": "https://localhost:8080/"
        },
        "id": "yDSlMJaJwy-p",
        "outputId": "c3211b08-40f6-4f8f-c41f-a1a5849ef1f3"
      },
      "execution_count": null,
      "outputs": [
        {
          "output_type": "stream",
          "name": "stdout",
          "text": [
            "[[1 2]\n",
            " [3 4]]\n"
          ]
        }
      ]
    },
    {
      "cell_type": "markdown",
      "metadata": {
        "id": "jOYksWb5-9JY"
      },
      "source": [
        "Object Oriented Programming."
      ]
    },
    {
      "cell_type": "markdown",
      "metadata": {
        "id": "UL0BPyKtl4_P"
      },
      "source": [
        "📚 Module 1: Getting Started with Python\n",
        "✅ Lesson 1.1: Hello World"
      ]
    },
    {
      "cell_type": "code",
      "execution_count": null,
      "metadata": {
        "colab": {
          "base_uri": "https://localhost:8080/"
        },
        "id": "kwA1ffrwl5zW",
        "outputId": "d556f762-c355-4943-b7b9-3b09a1f62f62"
      },
      "outputs": [
        {
          "output_type": "stream",
          "name": "stdout",
          "text": [
            "Hello, world!\n"
          ]
        }
      ],
      "source": [
        "# Run this in Google Colab\n",
        "print(\"Hello, world!\")\n"
      ]
    },
    {
      "cell_type": "markdown",
      "metadata": {
        "id": "F9cPsneUl_nu"
      },
      "source": [
        "🔑 Concepts:\n",
        "\n",
        "What is Python?\n",
        "\n",
        "Code runs top to bottom.\n",
        "\n",
        "print() displays output.\n",
        "\n"
      ]
    },
    {
      "cell_type": "markdown",
      "metadata": {
        "id": "3XZBej37mDte"
      },
      "source": [
        "📚 Module 2: Python Basics\n",
        "✅ Lesson 2.1: Variables and Data Types"
      ]
    },
    {
      "cell_type": "code",
      "execution_count": null,
      "metadata": {
        "colab": {
          "base_uri": "https://localhost:8080/"
        },
        "id": "B34zmnMumACO",
        "outputId": "b67f1b23-8a1e-4eb4-b97c-e7cbe3a1c064"
      },
      "outputs": [
        {
          "output_type": "stream",
          "name": "stdout",
          "text": [
            "Alice 25 True\n"
          ]
        }
      ],
      "source": [
        "name = \"Alice\"\n",
        "age = 25\n",
        "is_student = True\n",
        "\n",
        "print(name, age, is_student)\n"
      ]
    },
    {
      "cell_type": "markdown",
      "metadata": {
        "id": "B4l6mB9OmJgu"
      },
      "source": [
        "🧠 Concepts:\n",
        "\n",
        "Strings, integers, booleans\n",
        "\n",
        "Variables store information"
      ]
    },
    {
      "cell_type": "markdown",
      "metadata": {
        "id": "4pfHgS7omL8u"
      },
      "source": [
        "✅ Lesson 2.2: Functions"
      ]
    },
    {
      "cell_type": "code",
      "execution_count": null,
      "metadata": {
        "colab": {
          "base_uri": "https://localhost:8080/"
        },
        "id": "eiR4IkjgmJ5u",
        "outputId": "e4ef97be-69d9-428d-9ebc-84b2f349c341"
      },
      "outputs": [
        {
          "output_type": "stream",
          "name": "stdout",
          "text": [
            "Hello Audience\n"
          ]
        }
      ],
      "source": [
        "def greet(name):\n",
        "    print(\"Hello\", name)\n",
        "\n",
        "greet(\"Audience\")\n"
      ]
    },
    {
      "cell_type": "code",
      "source": [
        "def add_numbers(c,d):\n",
        "    return(c+d)\n",
        "result1 = add_numbers(1000,200)\n",
        "print(result1)"
      ],
      "metadata": {
        "colab": {
          "base_uri": "https://localhost:8080/"
        },
        "id": "aPO5UxuG0Cs3",
        "outputId": "eb2b4da4-c09d-43b9-ce3a-9e809694efcc"
      },
      "execution_count": null,
      "outputs": [
        {
          "output_type": "stream",
          "name": "stdout",
          "text": [
            "1200\n"
          ]
        }
      ]
    },
    {
      "cell_type": "code",
      "source": [
        "def multipy_numbers(c,d):\n",
        "    return(c*d)\n",
        "result2= multipy_numbers(2,20)\n",
        "print(result2)"
      ],
      "metadata": {
        "colab": {
          "base_uri": "https://localhost:8080/"
        },
        "id": "KYYJClsd1FYG",
        "outputId": "9cba92b2-e94f-4970-c8cf-599f34fb8352"
      },
      "execution_count": null,
      "outputs": [
        {
          "output_type": "stream",
          "name": "stdout",
          "text": [
            "40\n"
          ]
        }
      ]
    },
    {
      "cell_type": "code",
      "source": [
        "def divide_numbers(c,d):\n",
        "    return(c/d)\n",
        "result3= divide_numbers(200,20)\n",
        "print(result3)"
      ],
      "metadata": {
        "colab": {
          "base_uri": "https://localhost:8080/"
        },
        "id": "WJF3baHe22iB",
        "outputId": "bc8ce702-b34a-42c9-9a53-76d3fc872241"
      },
      "execution_count": null,
      "outputs": [
        {
          "output_type": "stream",
          "name": "stdout",
          "text": [
            "10.0\n"
          ]
        }
      ]
    },
    {
      "cell_type": "markdown",
      "metadata": {
        "id": "FhlCASd0mQhO"
      },
      "source": [
        "🧠 Concepts:\n",
        "\n",
        "def defines a function\n",
        "\n",
        "Functions can take input and do something\n",
        "\n",
        "📚 Module 3: Introduction to Classes and OOP\n",
        "✅ Lesson 3.1: Creating a Class"
      ]
    },
    {
      "cell_type": "code",
      "execution_count": null,
      "metadata": {
        "colab": {
          "base_uri": "https://localhost:8080/"
        },
        "id": "S3KsY7kNmQ4_",
        "outputId": "25dceeb2-2bdc-423e-9af2-c97b8337a2e2"
      },
      "outputs": [
        {
          "output_type": "stream",
          "name": "stdout",
          "text": [
            "Hi, I'm Alice and I'm 25 years old.\n",
            "Hi, I'm Kaiser and I'm 35 years old.\n",
            "Hi, I'm Masum and I'm 15 years old.\n",
            "Hi, I'm Arif and I'm 55 years old.\n",
            "Hi, I'm Yasmin and I'm 75 years old.\n"
          ]
        }
      ],
      "source": [
        "#Createing Master Class / Master Copy\n",
        "class Person:\n",
        "    def __init__(self, name, age):\n",
        "        self.name = name\n",
        "        self.age = age\n",
        "\n",
        "    def greet(self):\n",
        "        print(\"Hi, I'm\", self.name, \"and I'm\", self.age, \"years old.\")\n",
        "\n",
        "# Create an object\n",
        "person1 = Person(\"Alice\", 25)\n",
        "person2 = Person(\"Kaiser\",35)\n",
        "person3 = Person(\"Masum\",15)\n",
        "person4 = Person(\"Arif\",55)\n",
        "person5 = Person(\"Yasmin\",75)\n",
        "person1.greet()\n",
        "person2.greet()\n",
        "person3.greet()\n",
        "person4.greet()\n",
        "person5.greet()\n"
      ]
    },
    {
      "cell_type": "markdown",
      "metadata": {
        "id": "Zm5UAvwimUpe"
      },
      "source": [
        "🧠 Concepts:\n",
        "\n",
        "class defines a blueprint\n",
        "\n",
        "__init__ is a special method (constructor)\n",
        "\n",
        "self refers to the object\n",
        "\n",
        "Creating an object: person1 = Person(...)"
      ]
    },
    {
      "cell_type": "markdown",
      "metadata": {
        "id": "-fgItViJmxqN"
      },
      "source": [
        "✅ Lesson 3.2: Inheritance\n"
      ]
    },
    {
      "cell_type": "code",
      "execution_count": null,
      "metadata": {
        "colab": {
          "base_uri": "https://localhost:8080/"
        },
        "id": "gTz0UZKZmYUO",
        "outputId": "ab7463a4-707a-4783-c82a-81b078d94b7d"
      },
      "outputs": [
        {
          "output_type": "stream",
          "name": "stdout",
          "text": [
            "Hi, I'm Bob and I'm 20 years old.\n",
            "My student ID is S123\n",
            "Hi, I'm Keya and I'm 22 years old.\n",
            "My student ID is S142\n",
            "Hi, I'm M and I'm 22 years old.\n",
            "My student ID is s23\n"
          ]
        }
      ],
      "source": [
        "class Student(Person):\n",
        "    def __init__(self, name, age, student_id):\n",
        "        super().__init__(name, age)\n",
        "        self.student_id = student_id\n",
        "\n",
        "    def show_id(self):\n",
        "        print(\"My student ID is\", self.student_id)\n",
        "\n",
        "# Create a student\n",
        "s1 = Student(\"Bob\", 20, \"S123\")\n",
        "s1.greet()\n",
        "s1.show_id()\n",
        "\n",
        "s2 =Student(\"Keya\",22, \"S142\")\n",
        "s2.greet()\n",
        "s2.show_id()\n",
        "\n",
        "s3 = Student(\"M\", 22, 's23')\n",
        "s3.greet()\n",
        "s3.show_id()\n"
      ]
    },
    {
      "cell_type": "markdown",
      "metadata": {
        "id": "f2BObslDm6Tl"
      },
      "source": [
        "🧠 Concepts:\n",
        "\n",
        "Inheritance: Student extends Person\n",
        "\n",
        "super() calls parent methods\n",
        "\n",
        "📚 Module 4: Applying OOP to a Simple AI Task\n",
        "✅ Lesson 4.1: AI-Inspired Class — Simple Chatbot"
      ]
    },
    {
      "cell_type": "code",
      "execution_count": null,
      "metadata": {
        "colab": {
          "base_uri": "https://localhost:8080/"
        },
        "id": "c3ezj450m7VG",
        "outputId": "edcb9cf0-3437-4f28-d9f8-1f64fead4565"
      },
      "outputs": [
        {
          "output_type": "stream",
          "name": "stdout",
          "text": [
            "AI-Bot: Hello! How can I help you?\n",
            "AI-Bot: Sorry, I don't understand.\n",
            "AI-Bot: Goodbye!\n"
          ]
        }
      ],
      "source": [
        "class ChatBot:\n",
        "    def __init__(self, name):\n",
        "        self.name = name\n",
        "\n",
        "    def respond(self, message):\n",
        "        if \"hello\" in message.lower():\n",
        "            return f\"{self.name}: Hello! How can I help you?\"\n",
        "        elif \"bye\" in message.lower():\n",
        "            return f\"{self.name}: Goodbye!\"\n",
        "        else:\n",
        "            return f\"{self.name}: Sorry, I don't understand.\"\n",
        "\n",
        "# Using the ChatBot\n",
        "bot = ChatBot(\"AI-Bot\")\n",
        "print(bot.respond(\"Hello there\"))\n",
        "print(bot.respond(\"What's up?\"))\n",
        "print(bot.respond(\"bye\"))\n"
      ]
    },
    {
      "cell_type": "markdown",
      "metadata": {
        "id": "Q4ZvPUU-nPOV"
      },
      "source": [
        "🧠 Concepts:\n",
        "\n",
        "OOP applied to AI logic\n",
        "\n",
        "Encapsulation of behavior (respond)"
      ]
    },
    {
      "cell_type": "markdown",
      "metadata": {
        "id": "iYjqA07vnXEV"
      },
      "source": [
        "📚 Module 5: OOP for ML (With Real Data and Models)\n",
        "We'll use sklearn, pandas, and matplotlib (already available in Google Colab).\n",
        "\n",
        "✅ Lesson 5.1: Class-Based ML with Scikit-Learn\n",
        "🔍 Goal: Teach how to structure an ML model using a Python class.\n",
        "\n",
        "🚀 Step-by-step Explanation\n",
        "Load and preprocess data\n",
        "\n",
        "Create a class MLModel\n",
        "\n",
        "Define methods:\n",
        "\n",
        "load_data()\n",
        "\n",
        "train_model()\n",
        "\n",
        "evaluate_model()\n",
        "\n",
        "Use the class to run ML\n",
        "\n"
      ]
    },
    {
      "cell_type": "code",
      "execution_count": null,
      "metadata": {
        "colab": {
          "base_uri": "https://localhost:8080/"
        },
        "id": "0mJSAFPEnYRm",
        "outputId": "fbaee716-0d77-4b54-9031-7e2f44c00324"
      },
      "outputs": [
        {
          "output_type": "stream",
          "name": "stdout",
          "text": [
            "✅ Data loaded and split\n",
            "✅ Model trained\n",
            "📊 Model accuracy: 100.00%\n"
          ]
        }
      ],
      "source": [
        "# Import libraries\n",
        "import pandas as pd\n",
        "from sklearn.datasets import load_iris\n",
        "from sklearn.model_selection import train_test_split\n",
        "from sklearn.linear_model import LogisticRegression\n",
        "from sklearn.metrics import accuracy_score\n",
        "\n",
        "# Define class\n",
        "class MLModel:\n",
        "    def __init__(self):\n",
        "        self.model = LogisticRegression()\n",
        "        self.X_train = None\n",
        "        self.X_test = None\n",
        "        self.y_train = None\n",
        "        self.y_test = None\n",
        "\n",
        "    def load_data(self):\n",
        "        data = load_iris()\n",
        "        X = pd.DataFrame(data.data, columns=data.feature_names)\n",
        "        y = pd.Series(data.target)\n",
        "        self.X_train, self.X_test, self.y_train, self.y_test = train_test_split(X, y, test_size=0.3, random_state=42)\n",
        "        print(\"✅ Data loaded and split\")\n",
        "\n",
        "    def train_model(self):\n",
        "        self.model.fit(self.X_train, self.y_train)\n",
        "        print(\"✅ Model trained\")\n",
        "\n",
        "    def evaluate_model(self):\n",
        "        predictions = self.model.predict(self.X_test)\n",
        "        accuracy = accuracy_score(self.y_test, predictions)\n",
        "        print(f\"📊 Model accuracy: {accuracy * 100:.2f}%\")\n",
        "\n",
        "# Run everything\n",
        "ml = MLModel()\n",
        "ml.load_data()\n",
        "ml.train_model()\n",
        "ml.evaluate_model()\n"
      ]
    },
    {
      "cell_type": "markdown",
      "metadata": {
        "id": "fbTa1R4UnifF"
      },
      "source": [
        "🧠 Concepts Students Learn:\n",
        "How to structure code with OOP\n",
        "\n",
        "Data loading and splitting\n",
        "\n",
        "Training and evaluating a model\n",
        "\n",
        "Encapsulation in AI systems\n",
        "\n"
      ]
    },
    {
      "cell_type": "code",
      "execution_count": null,
      "metadata": {
        "id": "6KY92QcvnjzO"
      },
      "outputs": [],
      "source": []
    },
    {
      "cell_type": "code",
      "execution_count": null,
      "metadata": {
        "id": "IkuR-dEknQjW"
      },
      "outputs": [],
      "source": []
    }
  ],
  "metadata": {
    "colab": {
      "provenance": [],
      "include_colab_link": true
    },
    "kernelspec": {
      "display_name": "Python 3",
      "name": "python3"
    },
    "language_info": {
      "name": "python"
    }
  },
  "nbformat": 4,
  "nbformat_minor": 0
}