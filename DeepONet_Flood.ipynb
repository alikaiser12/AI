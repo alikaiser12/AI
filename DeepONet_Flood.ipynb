{
  "nbformat": 4,
  "nbformat_minor": 0,
  "metadata": {
    "colab": {
      "provenance": [],
      "authorship_tag": "ABX9TyMBvuM+RNq13oyvCH15yby9",
      "include_colab_link": true
    },
    "kernelspec": {
      "name": "python3",
      "display_name": "Python 3"
    },
    "language_info": {
      "name": "python"
    }
  },
  "cells": [
    {
      "cell_type": "markdown",
      "metadata": {
        "id": "view-in-github",
        "colab_type": "text"
      },
      "source": [
        "<a href=\"https://colab.research.google.com/github/alikaiser12/AI/blob/main/DeepONet_Flood.ipynb\" target=\"_parent\"><img src=\"https://colab.research.google.com/assets/colab-badge.svg\" alt=\"Open In Colab\"/></a>"
      ]
    },
    {
      "cell_type": "code",
      "execution_count": 1,
      "metadata": {
        "colab": {
          "base_uri": "https://localhost:8080/"
        },
        "id": "_OYDKG6ZsppA",
        "outputId": "f9462d4d-7ef7-4b61-df86-47e99a24757c"
      },
      "outputs": [
        {
          "output_type": "stream",
          "name": "stdout",
          "text": [
            "Mounted at /content/drive\n"
          ]
        }
      ],
      "source": [
        "from google.colab import drive\n",
        "drive.mount('/content/drive')"
      ]
    },
    {
      "cell_type": "code",
      "source": [],
      "metadata": {
        "id": "DSF9rLgAuvc8"
      },
      "execution_count": null,
      "outputs": []
    },
    {
      "cell_type": "code",
      "source": [
        "import pandas as pd\n",
        "df1 = pd.read_excel('/content/drive/MyDrive/Flood/Data Discussion.xlsx')"
      ],
      "metadata": {
        "id": "6GVXiGgduh_M"
      },
      "execution_count": 3,
      "outputs": []
    },
    {
      "cell_type": "code",
      "source": [
        "# 📦 1. Import required libraries\n",
        "import pandas as pd\n",
        "import numpy as np\n",
        "import torch\n",
        "import torch.nn as nn\n",
        "import torch.optim as optim\n",
        "from sklearn.model_selection import train_test_split\n",
        "from sklearn.preprocessing import StandardScaler\n",
        "import matplotlib.pyplot as plt\n",
        "\n",
        "# 📁 2. Load the dataset (Upload your Excel file first in Colab)\n",
        "df = pd.read_excel(\"/content/drive/MyDrive/Flood/Data Discussion.xlsx\", sheet_name=\"Sheet1\")\n",
        "\n",
        "# 🧹 3. Clean column names using the first row\n",
        "df.columns = df.iloc[0]\n",
        "df = df[1:].reset_index(drop=True)\n",
        "\n",
        "# ✍️ 4. Rename the columns for easier understanding\n",
        "df.columns = ['Year', 'Month', 'Rainfall_mm', 'WaterLevel_mMSL', 'Discharge_m3ps',\n",
        "              'Cloud_pct', 'Precip_mm_per_day', 'Pressure_kPa', 'SpecificHumidity_gkg',\n",
        "              'RelativeHumidity_pct', 'Temperature_C', 'WindDirection_deg',\n",
        "              'WindSpeed_mps', 'NDVI', 'Flooded']\n",
        "\n",
        "# 🔢 5. Convert month names to numbers\n",
        "month_map = {'Jan': 1, 'Feb': 2, 'Mar': 3, 'Apr': 4, 'May': 5, 'Jun': 6,\n",
        "             'Jul': 7, 'Aug': 8, 'Sep': 9, 'Oct': 10, 'Nov': 11, 'Dec': 12}\n",
        "df['Month'] = df['Month'].map(month_map)\n",
        "\n",
        "# 🔁 6. Convert all values to numeric (some may be strings)\n",
        "for col in df.columns:\n",
        "    df[col] = pd.to_numeric(df[col], errors='coerce')\n",
        "\n",
        "# 🚫 7. Remove rows with any missing values\n",
        "df.dropna(inplace=True)\n",
        "\n",
        "# 🎯 8. Separate features (X) and target (y)\n",
        "X = df.drop(columns=['Flooded'])  # Inputs\n",
        "y = df['Flooded']                 # Output (1 = flood, 0 = no flood)\n",
        "\n",
        "# 📊 9. Normalize the features (important for neural networks)\n",
        "scaler = StandardScaler()\n",
        "X_scaled = scaler.fit_transform(X)\n",
        "\n",
        "# 🧪 10. Split into training and test sets\n",
        "X_train, X_test, y_train, y_test = train_test_split(\n",
        "    X_scaled, y, test_size=0.2, random_state=42\n",
        ")\n",
        "\n",
        "# 🔁 11. Convert data into PyTorch tensors\n",
        "X_train = torch.tensor(X_train, dtype=torch.float32)\n",
        "X_test = torch.tensor(X_test, dtype=torch.float32)\n",
        "y_train = torch.tensor(y_train.values, dtype=torch.float32).view(-1, 1)\n",
        "y_test = torch.tensor(y_test.values, dtype=torch.float32).view(-1, 1)\n",
        "\n",
        "# 🧠 12. Build a DeepONet-like neural network\n",
        "class DeepONet(nn.Module):\n",
        "    def __init__(self, input_dim):\n",
        "        super(DeepONet, self).__init__()\n",
        "        self.net = nn.Sequential(\n",
        "            nn.Linear(input_dim, 64),  # First hidden layer\n",
        "            nn.ReLU(),\n",
        "            nn.Linear(64, 32),         # Second hidden layer\n",
        "            nn.ReLU(),\n",
        "            nn.Linear(32, 1),          # Final output\n",
        "            nn.Sigmoid()               # Output between 0 and 1\n",
        "        )\n",
        "\n",
        "    def forward(self, x):\n",
        "        return self.net(x)\n",
        "\n",
        "# 🧰 13. Initialize the model, loss function, and optimizer\n",
        "model = DeepONet(input_dim=X_train.shape[1])\n",
        "loss_fn = nn.BCELoss()  # For binary classification\n",
        "optimizer = optim.Adam(model.parameters(), lr=0.001)\n",
        "\n",
        "# 🎓 14. Train the model\n",
        "EPOCHS = 100\n",
        "train_losses = []\n",
        "\n",
        "for epoch in range(EPOCHS):\n",
        "    model.train()\n",
        "    optimizer.zero_grad()\n",
        "    predictions = model(X_train)\n",
        "    loss = loss_fn(predictions, y_train)\n",
        "    loss.backward()\n",
        "    optimizer.step()\n",
        "    train_losses.append(loss.item())\n",
        "\n",
        "    if epoch % 10 == 0:\n",
        "        print(f\"Epoch {epoch}: Training Loss = {loss.item():.4f}\")\n",
        "\n",
        "# 📈 15. Plot training loss\n",
        "plt.plot(train_losses)\n",
        "plt.xlabel(\"Epoch\")\n",
        "plt.ylabel(\"Loss\")\n",
        "plt.title(\"Training Loss Over Time\")\n",
        "plt.grid(True)\n",
        "plt.show()\n",
        "\n",
        "# 📊 16. Evaluate the model on test data\n",
        "model.eval()\n",
        "with torch.no_grad():\n",
        "    test_preds = model(X_test)\n",
        "    predicted_classes = (test_preds > 0.5).float()\n",
        "    accuracy = (predicted_classes == y_test).sum().item() / y_test.shape[0]\n",
        "    print(f\"Test Accuracy: {accuracy:.2f}\")\n",
        "\n",
        "# 🧾 17. Show predicted vs actual for a few test samples\n",
        "for i in range(10):\n",
        "    print(f\"Predicted: {int(predicted_classes[i].item())}, Actual: {int(y_test[i].item())}\")\n"
      ],
      "metadata": {
        "colab": {
          "base_uri": "https://localhost:8080/",
          "height": 837
        },
        "id": "UDS1u1d6uwvd",
        "outputId": "0824fb4d-e155-4388-fc32-efdd29aec0c1"
      },
      "execution_count": 4,
      "outputs": [
        {
          "output_type": "stream",
          "name": "stdout",
          "text": [
            "Epoch 0: Training Loss = 0.6949\n",
            "Epoch 10: Training Loss = 0.6291\n",
            "Epoch 20: Training Loss = 0.5552\n",
            "Epoch 30: Training Loss = 0.4658\n",
            "Epoch 40: Training Loss = 0.3733\n",
            "Epoch 50: Training Loss = 0.2991\n",
            "Epoch 60: Training Loss = 0.2463\n",
            "Epoch 70: Training Loss = 0.2079\n",
            "Epoch 80: Training Loss = 0.1796\n",
            "Epoch 90: Training Loss = 0.1585\n"
          ]
        },
        {
          "output_type": "display_data",
          "data": {
            "text/plain": [
              "<Figure size 640x480 with 1 Axes>"
            ],
            "image/png": "[encoded data removed]"
          },
          "metadata": {}
        },
        {
          "output_type": "stream",
          "name": "stdout",
          "text": [
            "Test Accuracy: 0.90\n",
            "Predicted: 0, Actual: 0\n",
            "Predicted: 0, Actual: 0\n",
            "Predicted: 1, Actual: 1\n",
            "Predicted: 0, Actual: 0\n",
            "Predicted: 1, Actual: 1\n",
            "Predicted: 0, Actual: 0\n",
            "Predicted: 0, Actual: 0\n",
            "Predicted: 0, Actual: 0\n",
            "Predicted: 1, Actual: 1\n",
            "Predicted: 1, Actual: 1\n"
          ]
        }
      ]
    },
    {
      "cell_type": "code",
      "source": [],
      "metadata": {
        "id": "geOy1tbMuw20"
      },
      "execution_count": null,
      "outputs": []
    },
    {
      "cell_type": "code",
      "source": [],
      "metadata": {
        "id": "CkDHRuDfuw8u"
      },
      "execution_count": null,
      "outputs": []
    },
    {
      "cell_type": "code",
      "source": [],
      "metadata": {
        "id": "7biclReruxBs"
      },
      "execution_count": null,
      "outputs": []
    },
    {
      "cell_type": "code",
      "source": [],
      "metadata": {
        "id": "jA-IWtTCuxJ8"
      },
      "execution_count": null,
      "outputs": []
    },
    {
      "cell_type": "code",
      "source": [],
      "metadata": {
        "id": "JmzPB26MuxWk"
      },
      "execution_count": null,
      "outputs": []
    },
    {
      "cell_type": "code",
      "source": [],
      "metadata": {
        "id": "tca-1_tHuxec"
      },
      "execution_count": null,
      "outputs": []
    },
    {
      "cell_type": "code",
      "source": [],
      "metadata": {
        "id": "Xw8RUSLYuxzk"
      },
      "execution_count": null,
      "outputs": []
    },
    {
      "cell_type": "code",
      "source": [],
      "metadata": {
        "id": "qJ51f-34ux5U"
      },
      "execution_count": null,
      "outputs": []
    },
    {
      "cell_type": "code",
      "source": [],
      "metadata": {
        "id": "uEA_KxOsux-8"
      },
      "execution_count": null,
      "outputs": []
    },
    {
      "cell_type": "code",
      "source": [],
      "metadata": {
        "id": "gfHj12mmuyGU"
      },
      "execution_count": null,
      "outputs": []
    }
  ]
}