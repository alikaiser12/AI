{
  "nbformat": 4,
  "nbformat_minor": 0,
  "metadata": {
    "colab": {
      "provenance": [],
      "authorship_tag": "ABX9TyPl7BIlze9fkL66PwEZvyh3",
      "include_colab_link": true
    },
    "kernelspec": {
      "name": "python3",
      "display_name": "Python 3"
    },
    "language_info": {
      "name": "python"
    }
  },
  "cells": [
    {
      "cell_type": "markdown",
      "metadata": {
        "id": "view-in-github",
        "colab_type": "text"
      },
      "source": [
        "<a href=\"https://colab.research.google.com/github/alikaiser12/AI/blob/main/n8n_code.ipynb\" target=\"_parent\"><img src=\"https://colab.research.google.com/assets/colab-badge.svg\" alt=\"Open In Colab\"/></a>"
      ]
    },
    {
      "cell_type": "code",
      "execution_count": 1,
      "metadata": {
        "colab": {
          "base_uri": "https://localhost:8080/"
        },
        "id": "cad18KiioOvH",
        "outputId": "a6a03225-45ca-4d3c-817c-113d930601ec"
      },
      "outputs": [
        {
          "output_type": "stream",
          "name": "stdout",
          "text": [
            "Mounted at /content/drive\n"
          ]
        }
      ],
      "source": [
        "from google.colab import drive\n",
        "# Mount Google Drive\n",
        "drive.mount('/content/drive')\n",
        "\n",
        "# Now, you can access your Google Drive files using the path '/content/drive/My Drive/'\n"
      ]
    },
    {
      "cell_type": "code",
      "source": [
        "\n",
        "import pandas as pd\n",
        "\n",
        "# Example of reading a file from Google Drive\n",
        "file_path = '/content/drive/MyDrive/Taufique vai/merged_alloy_features.csv'\n",
        "df = pd.read_csv(file_path)\n",
        "print(df.head())\n"
      ],
      "metadata": {
        "colab": {
          "base_uri": "https://localhost:8080/"
        },
        "id": "dgMmM-M_opmR",
        "outputId": "9f79f4ef-6fd3-4372-8af0-9b7db72c3fb5"
      },
      "execution_count": 2,
      "outputs": [
        {
          "output_type": "stream",
          "name": "stdout",
          "text": [
            "  ID       Alloy_x  Diff. Lattice Constants_x  Diff. Melting Point_x  \\\n",
            "0  1        CoFeNi                   0.421050              33.891816   \n",
            "1  2  CoFeNiSi0.25                   0.771420              39.213845   \n",
            "2  3   CoFeNiSi0.5                   0.946581              42.519595   \n",
            "3  4  CoFeNiSi0.75                   1.055488              44.663044   \n",
            "4  5  Al0.25CoFeNi                   0.611324             296.171512   \n",
            "\n",
            "   Mixing Enthalpy_x  Lattice Constants_x       Lambda_x  \\\n",
            "0          -1.031535             2.965837  850883.154600   \n",
            "1          -9.856886             3.155447   26054.288790   \n",
            "2         -16.241034             3.317992   15911.804100   \n",
            "3         -20.891718             3.458903   12365.521870   \n",
            "4          -8.752654             3.049190    4296.892035   \n",
            "\n",
            "   Diff. in atomic radii_x       Omega_x  Melting Temp._x  ...  \\\n",
            "0                 0.003276  15664.545600      1768.982310  ...   \n",
            "1                 0.020252   1911.026806      1762.674870  ...   \n",
            "2                 0.026577   1216.089602      1757.267790  ...   \n",
            "3                 0.030454    962.065244      1752.617690  ...   \n",
            "4                 0.049870   2081.353651      1704.713342  ...   \n",
            "\n",
            "   Diff. in atomic radii_y      Omega_y  Melting Temp._y  \\\n",
            "0                 0.030454   962.065244      1752.617690   \n",
            "1                 0.058259   998.234959      1601.911690   \n",
            "2                 0.057779  1190.078167      1684.094000   \n",
            "3                 0.110198  1084.069454      1726.054788   \n",
            "4                 0.118993   999.503387      1766.373166   \n",
            "\n",
            "   Diff. Electronegativity Allen_y  Diff. Electronegativity Pauling_y  \\\n",
            "0                         0.042160                           0.031383   \n",
            "1                         0.096577                           0.110862   \n",
            "2                         0.105878                           0.120565   \n",
            "3                         0.200370                           0.204580   \n",
            "4                         0.216354                           0.219744   \n",
            "\n",
            "   Diff. Shear modulus_y  Avg shear modulus Mixing Entropy_y  \\\n",
            "0               0.108400          75.734130        11.468101   \n",
            "1               0.334610          68.974130        11.468101   \n",
            "2               0.375623          76.100000        13.381611   \n",
            "3               0.512706          74.837877        13.921741   \n",
            "4               0.515326          73.623937        14.222421   \n",
            "\n",
            "   Valence electron_y  YS (MPa)  \n",
            "0             8.00009    1301.0  \n",
            "1             7.80009     794.0  \n",
            "2             7.20000    1251.0  \n",
            "3             7.13732     957.0  \n",
            "4             7.07700     906.0  \n",
            "\n",
            "[5 rows x 33 columns]\n"
          ]
        }
      ]
    },
    {
      "cell_type": "code",
      "source": [
        "# Install necessary libraries\n",
        "!pip install gspread oauth2client pandas\n",
        "\n",
        "# Import necessary libraries\n",
        "import gspread\n",
        "from oauth2client.service_account import ServiceAccountCredentials\n",
        "import pandas as pd\n",
        "from google.colab import drive\n",
        "\n",
        "# Mount Google Drive\n",
        "drive.mount('/content/drive')\n",
        "\n",
        "# Path to the CSV file in Google Drive\n",
        "file_path = '/content/drive/MyDrive/Taufique vai/merged_alloy_features.csv'\n",
        "\n",
        "# Read the CSV file into a DataFrame\n",
        "df = pd.read_csv(file_path)\n",
        "\n",
        "# Function to find closest match for YS (MPa) and return the chemical composition\n",
        "def find_composition(YS_value):\n",
        "    # Find the row with the closest YS (MPa) value\n",
        "    min_diff = float('inf')\n",
        "    closest_match = None\n",
        "    for _, row in df.iterrows():\n",
        "        YS_diff = abs(row[\"YS (MPa)\"] - YS_value)\n",
        "        if YS_diff < min_diff:\n",
        "            min_diff = YS_diff\n",
        "            closest_match = row\n",
        "\n",
        "    # Return alloy and its chemical composition\n",
        "    return {\n",
        "        \"Alloy\": closest_match[\"Alloy_x\"],\n",
        "        \"Chemical Composition\": f\"Mixing Enthalpy: {closest_match['Mixing Enthalpy_x']}, Lattice Constants: {closest_match['Lattice Constants_x']}\"\n",
        "    }\n",
        "\n",
        "# Input YS (MPa) value to search for\n",
        "input_YS = 150.0  # Example input\n",
        "\n",
        "# Get the chemical composition for the input YS (MPa)\n",
        "result = find_composition(input_YS)\n",
        "\n",
        "# Display the result\n",
        "print(f\"Alloy: {result['Alloy']}\")\n",
        "print(f\"Chemical Composition: {result['Chemical Composition']}\")"
      ],
      "metadata": {
        "colab": {
          "base_uri": "https://localhost:8080/"
        },
        "id": "s_3DmsNEpUMP",
        "outputId": "7f97476f-247a-4698-e55e-904f4df1c64f"
      },
      "execution_count": 4,
      "outputs": [
        {
          "output_type": "stream",
          "name": "stdout",
          "text": [
            "Requirement already satisfied: gspread in /usr/local/lib/python3.12/dist-packages (6.2.1)\n",
            "Requirement already satisfied: oauth2client in /usr/local/lib/python3.12/dist-packages (4.1.3)\n",
            "Requirement already satisfied: pandas in /usr/local/lib/python3.12/dist-packages (2.2.2)\n",
            "Requirement already satisfied: google-auth>=1.12.0 in /usr/local/lib/python3.12/dist-packages (from gspread) (2.38.0)\n",
            "Requirement already satisfied: google-auth-oauthlib>=0.4.1 in /usr/local/lib/python3.12/dist-packages (from gspread) (1.2.2)\n",
            "Requirement already satisfied: httplib2>=0.9.1 in /usr/local/lib/python3.12/dist-packages (from oauth2client) (0.30.0)\n",
            "Requirement already satisfied: pyasn1>=0.1.7 in /usr/local/lib/python3.12/dist-packages (from oauth2client) (0.6.1)\n",
            "Requirement already satisfied: pyasn1-modules>=0.0.5 in /usr/local/lib/python3.12/dist-packages (from oauth2client) (0.4.2)\n",
            "Requirement already satisfied: rsa>=3.1.4 in /usr/local/lib/python3.12/dist-packages (from oauth2client) (4.9.1)\n",
            "Requirement already satisfied: six>=1.6.1 in /usr/local/lib/python3.12/dist-packages (from oauth2client) (1.17.0)\n",
            "Requirement already satisfied: numpy>=1.26.0 in /usr/local/lib/python3.12/dist-packages (from pandas) (2.0.2)\n",
            "Requirement already satisfied: python-dateutil>=2.8.2 in /usr/local/lib/python3.12/dist-packages (from pandas) (2.9.0.post0)\n",
            "Requirement already satisfied: pytz>=2020.1 in /usr/local/lib/python3.12/dist-packages (from pandas) (2025.2)\n",
            "Requirement already satisfied: tzdata>=2022.7 in /usr/local/lib/python3.12/dist-packages (from pandas) (2025.2)\n",
            "Requirement already satisfied: cachetools<6.0,>=2.0.0 in /usr/local/lib/python3.12/dist-packages (from google-auth>=1.12.0->gspread) (5.5.2)\n",
            "Requirement already satisfied: requests-oauthlib>=0.7.0 in /usr/local/lib/python3.12/dist-packages (from google-auth-oauthlib>=0.4.1->gspread) (2.0.0)\n",
            "Requirement already satisfied: pyparsing<4,>=3.0.4 in /usr/local/lib/python3.12/dist-packages (from httplib2>=0.9.1->oauth2client) (3.2.3)\n",
            "Requirement already satisfied: oauthlib>=3.0.0 in /usr/local/lib/python3.12/dist-packages (from requests-oauthlib>=0.7.0->google-auth-oauthlib>=0.4.1->gspread) (3.3.1)\n",
            "Requirement already satisfied: requests>=2.0.0 in /usr/local/lib/python3.12/dist-packages (from requests-oauthlib>=0.7.0->google-auth-oauthlib>=0.4.1->gspread) (2.32.4)\n",
            "Requirement already satisfied: charset_normalizer<4,>=2 in /usr/local/lib/python3.12/dist-packages (from requests>=2.0.0->requests-oauthlib>=0.7.0->google-auth-oauthlib>=0.4.1->gspread) (3.4.3)\n",
            "Requirement already satisfied: idna<4,>=2.5 in /usr/local/lib/python3.12/dist-packages (from requests>=2.0.0->requests-oauthlib>=0.7.0->google-auth-oauthlib>=0.4.1->gspread) (3.10)\n",
            "Requirement already satisfied: urllib3<3,>=1.21.1 in /usr/local/lib/python3.12/dist-packages (from requests>=2.0.0->requests-oauthlib>=0.7.0->google-auth-oauthlib>=0.4.1->gspread) (2.5.0)\n",
            "Requirement already satisfied: certifi>=2017.4.17 in /usr/local/lib/python3.12/dist-packages (from requests>=2.0.0->requests-oauthlib>=0.7.0->google-auth-oauthlib>=0.4.1->gspread) (2025.8.3)\n",
            "Drive already mounted at /content/drive; to attempt to forcibly remount, call drive.mount(\"/content/drive\", force_remount=True).\n",
            "Alloy: Al0.56CoCrFeMnNi\n",
            "Chemical Composition: Mixing Enthalpy: -12.93750051, Lattice Constants: 4.134582826\n"
          ]
        }
      ]
    },
    {
      "cell_type": "code",
      "source": [
        "# Install necessary libraries\n",
        "!pip install gspread oauth2client pandas\n",
        "\n",
        "# Import necessary libraries\n",
        "import gspread\n",
        "from oauth2client.service_account import ServiceAccountCredentials\n",
        "import pandas as pd\n",
        "from google.colab import drive\n",
        "\n",
        "# Mount Google Drive\n",
        "drive.mount('/content/drive')\n",
        "\n",
        "# Path to the CSV file in Google Drive\n",
        "file_path = '/content/drive/MyDrive/Taufique vai/merged_alloy_features.csv'\n",
        "\n",
        "# Read the CSV file into a DataFrame\n",
        "df = pd.read_csv(file_path)\n",
        "\n",
        "# Function to find closest match for YS (MPa) and return the chemical composition\n",
        "def find_composition(YS_value):\n",
        "    # Find the row with the closest YS (MPa) value\n",
        "    min_diff = float('inf')\n",
        "    closest_match = None\n",
        "    for _, row in df.iterrows():\n",
        "        YS_diff = abs(row[\"YS (MPa)\"] - YS_value)\n",
        "        if YS_diff < min_diff:\n",
        "            min_diff = YS_diff\n",
        "            closest_match = row\n",
        "\n",
        "    # Return alloy and its chemical composition\n",
        "    return {\n",
        "        \"Alloy\": closest_match[\"Alloy_x\"],\n",
        "        \"Chemical Composition\": f\"Mixing Enthalpy: {closest_match['Mixing Enthalpy_x']}, Lattice Constants: {closest_match['Lattice Constants_x']}\"\n",
        "    }\n",
        "\n",
        "# Input YS (MPa) value to search for\n",
        "input_YS = 1250.0  # Example input\n",
        "\n",
        "# Get the chemical composition for the input YS (MPa)\n",
        "result = find_composition(input_YS)\n",
        "\n",
        "# Display the result\n",
        "print(f\"Alloy: {result['Alloy']}\")\n",
        "print(f\"Chemical Composition: {result['Chemical Composition']}\")"
      ],
      "metadata": {
        "colab": {
          "base_uri": "https://localhost:8080/"
        },
        "id": "fVbZ12iapUdH",
        "outputId": "83229dc2-e03b-49b8-f5f4-55bc95ae4b2f"
      },
      "execution_count": 6,
      "outputs": [
        {
          "output_type": "stream",
          "name": "stdout",
          "text": [
            "Requirement already satisfied: gspread in /usr/local/lib/python3.12/dist-packages (6.2.1)\n",
            "Requirement already satisfied: oauth2client in /usr/local/lib/python3.12/dist-packages (4.1.3)\n",
            "Requirement already satisfied: pandas in /usr/local/lib/python3.12/dist-packages (2.2.2)\n",
            "Requirement already satisfied: google-auth>=1.12.0 in /usr/local/lib/python3.12/dist-packages (from gspread) (2.38.0)\n",
            "Requirement already satisfied: google-auth-oauthlib>=0.4.1 in /usr/local/lib/python3.12/dist-packages (from gspread) (1.2.2)\n",
            "Requirement already satisfied: httplib2>=0.9.1 in /usr/local/lib/python3.12/dist-packages (from oauth2client) (0.30.0)\n",
            "Requirement already satisfied: pyasn1>=0.1.7 in /usr/local/lib/python3.12/dist-packages (from oauth2client) (0.6.1)\n",
            "Requirement already satisfied: pyasn1-modules>=0.0.5 in /usr/local/lib/python3.12/dist-packages (from oauth2client) (0.4.2)\n",
            "Requirement already satisfied: rsa>=3.1.4 in /usr/local/lib/python3.12/dist-packages (from oauth2client) (4.9.1)\n",
            "Requirement already satisfied: six>=1.6.1 in /usr/local/lib/python3.12/dist-packages (from oauth2client) (1.17.0)\n",
            "Requirement already satisfied: numpy>=1.26.0 in /usr/local/lib/python3.12/dist-packages (from pandas) (2.0.2)\n",
            "Requirement already satisfied: python-dateutil>=2.8.2 in /usr/local/lib/python3.12/dist-packages (from pandas) (2.9.0.post0)\n",
            "Requirement already satisfied: pytz>=2020.1 in /usr/local/lib/python3.12/dist-packages (from pandas) (2025.2)\n",
            "Requirement already satisfied: tzdata>=2022.7 in /usr/local/lib/python3.12/dist-packages (from pandas) (2025.2)\n",
            "Requirement already satisfied: cachetools<6.0,>=2.0.0 in /usr/local/lib/python3.12/dist-packages (from google-auth>=1.12.0->gspread) (5.5.2)\n",
            "Requirement already satisfied: requests-oauthlib>=0.7.0 in /usr/local/lib/python3.12/dist-packages (from google-auth-oauthlib>=0.4.1->gspread) (2.0.0)\n",
            "Requirement already satisfied: pyparsing<4,>=3.0.4 in /usr/local/lib/python3.12/dist-packages (from httplib2>=0.9.1->oauth2client) (3.2.3)\n",
            "Requirement already satisfied: oauthlib>=3.0.0 in /usr/local/lib/python3.12/dist-packages (from requests-oauthlib>=0.7.0->google-auth-oauthlib>=0.4.1->gspread) (3.3.1)\n",
            "Requirement already satisfied: requests>=2.0.0 in /usr/local/lib/python3.12/dist-packages (from requests-oauthlib>=0.7.0->google-auth-oauthlib>=0.4.1->gspread) (2.32.4)\n",
            "Requirement already satisfied: charset_normalizer<4,>=2 in /usr/local/lib/python3.12/dist-packages (from requests>=2.0.0->requests-oauthlib>=0.7.0->google-auth-oauthlib>=0.4.1->gspread) (3.4.3)\n",
            "Requirement already satisfied: idna<4,>=2.5 in /usr/local/lib/python3.12/dist-packages (from requests>=2.0.0->requests-oauthlib>=0.7.0->google-auth-oauthlib>=0.4.1->gspread) (3.10)\n",
            "Requirement already satisfied: urllib3<3,>=1.21.1 in /usr/local/lib/python3.12/dist-packages (from requests>=2.0.0->requests-oauthlib>=0.7.0->google-auth-oauthlib>=0.4.1->gspread) (2.5.0)\n",
            "Requirement already satisfied: certifi>=2017.4.17 in /usr/local/lib/python3.12/dist-packages (from requests>=2.0.0->requests-oauthlib>=0.7.0->google-auth-oauthlib>=0.4.1->gspread) (2025.8.3)\n",
            "Drive already mounted at /content/drive; to attempt to forcibly remount, call drive.mount(\"/content/drive\", force_remount=True).\n",
            "Alloy: Al0.2Co1.5CrFeNi1.5Ti\n",
            "Chemical Composition: Mixing Enthalpy: -18.06567191, Lattice Constants: 2.997427421\n"
          ]
        }
      ]
    },
    {
      "cell_type": "code",
      "source": [],
      "metadata": {
        "id": "flmZQr4spUjZ"
      },
      "execution_count": null,
      "outputs": []
    }
  ]
}